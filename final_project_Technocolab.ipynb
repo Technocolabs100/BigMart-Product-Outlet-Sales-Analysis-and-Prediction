{
  "nbformat": 4,
  "nbformat_minor": 0,
  "metadata": {
    "colab": {
      "provenance": []
    },
    "kernelspec": {
      "name": "python3",
      "display_name": "Python 3"
    },
    "language_info": {
      "name": "python"
    }
  },
  "cells": [
    {
      "cell_type": "markdown",
      "source": [
        "# Importing important Libraries"
      ],
      "metadata": {
        "id": "YSczksbBBi8e"
      }
    },
    {
      "cell_type": "code",
      "source": [
        "import numpy as np\n",
        "import pandas as pd\n",
        "import matplotlib.pyplot as plt\n",
        "import seaborn as sns\n",
        "\n",
        "from google.colab import drive\n"
      ],
      "metadata": {
        "id": "1htNGYEM7ezH"
      },
      "execution_count": null,
      "outputs": []
    },
    {
      "cell_type": "code",
      "source": [
        "drive.mount('/content/drive')"
      ],
      "metadata": {
        "colab": {
          "base_uri": "https://localhost:8080/"
        },
        "id": "Okip6piU7e2c",
        "outputId": "cb5d8bc3-faba-4e8e-92ea-cfe87c2e87bf"
      },
      "execution_count": null,
      "outputs": [
        {
          "output_type": "stream",
          "name": "stdout",
          "text": [
            "Drive already mounted at /content/drive; to attempt to forcibly remount, call drive.mount(\"/content/drive\", force_remount=True).\n"
          ]
        }
      ]
    },
    {
      "cell_type": "code",
      "source": [
        "data = pd.read_csv('/content/drive/MyDrive/prosperLoanData.csv')"
      ],
      "metadata": {
        "id": "hZk7cak27e5x"
      },
      "execution_count": null,
      "outputs": []
    },
    {
      "cell_type": "markdown",
      "source": [
        "# Data Preparation"
      ],
      "metadata": {
        "id": "fj6vJQZxBrKU"
      }
    },
    {
      "cell_type": "code",
      "source": [
        "data.head()"
      ],
      "metadata": {
        "colab": {
          "base_uri": "https://localhost:8080/",
          "height": 386
        },
        "id": "Kj1lkNG07e9m",
        "outputId": "83067e74-a7d2-4142-976c-aadd5b7f587f"
      },
      "execution_count": null,
      "outputs": [
        {
          "output_type": "execute_result",
          "data": {
            "text/plain": [
              "                ListingKey  ListingNumber            ListingCreationDate  \\\n",
              "0  1021339766868145413AB3B         193129  2007-08-26 19:09:29.263000000   \n",
              "1  10273602499503308B223C1        1209647  2014-02-27 08:28:07.900000000   \n",
              "2  0EE9337825851032864889A          81716  2007-01-05 15:00:47.090000000   \n",
              "3  0EF5356002482715299901A         658116  2012-10-22 11:02:35.010000000   \n",
              "4  0F023589499656230C5E3E2         909464  2013-09-14 18:38:39.097000000   \n",
              "\n",
              "  CreditGrade  Term LoanStatus           ClosedDate  BorrowerAPR  \\\n",
              "0           C    36  Completed  2009-08-14 00:00:00      0.16516   \n",
              "1         NaN    36    Current                  NaN      0.12016   \n",
              "2          HR    36  Completed  2009-12-17 00:00:00      0.28269   \n",
              "3         NaN    36    Current                  NaN      0.12528   \n",
              "4         NaN    36    Current                  NaN      0.24614   \n",
              "\n",
              "   BorrowerRate  LenderYield  ...  LP_ServiceFees  LP_CollectionFees  \\\n",
              "0        0.1580       0.1380  ...         -133.18                0.0   \n",
              "1        0.0920       0.0820  ...            0.00                0.0   \n",
              "2        0.2750       0.2400  ...          -24.20                0.0   \n",
              "3        0.0974       0.0874  ...         -108.01                0.0   \n",
              "4        0.2085       0.1985  ...          -60.27                0.0   \n",
              "\n",
              "   LP_GrossPrincipalLoss  LP_NetPrincipalLoss LP_NonPrincipalRecoverypayments  \\\n",
              "0                    0.0                  0.0                             0.0   \n",
              "1                    0.0                  0.0                             0.0   \n",
              "2                    0.0                  0.0                             0.0   \n",
              "3                    0.0                  0.0                             0.0   \n",
              "4                    0.0                  0.0                             0.0   \n",
              "\n",
              "   PercentFunded  Recommendations InvestmentFromFriendsCount  \\\n",
              "0            1.0                0                          0   \n",
              "1            1.0                0                          0   \n",
              "2            1.0                0                          0   \n",
              "3            1.0                0                          0   \n",
              "4            1.0                0                          0   \n",
              "\n",
              "  InvestmentFromFriendsAmount Investors  \n",
              "0                         0.0       258  \n",
              "1                         0.0         1  \n",
              "2                         0.0        41  \n",
              "3                         0.0       158  \n",
              "4                         0.0        20  \n",
              "\n",
              "[5 rows x 81 columns]"
            ],
            "text/html": [
              "\n",
              "  <div id=\"df-cb835f9f-7d9a-4431-a6d7-89517b1d781b\">\n",
              "    <div class=\"colab-df-container\">\n",
              "      <div>\n",
              "<style scoped>\n",
              "    .dataframe tbody tr th:only-of-type {\n",
              "        vertical-align: middle;\n",
              "    }\n",
              "\n",
              "    .dataframe tbody tr th {\n",
              "        vertical-align: top;\n",
              "    }\n",
              "\n",
              "    .dataframe thead th {\n",
              "        text-align: right;\n",
              "    }\n",
              "</style>\n",
              "<table border=\"1\" class=\"dataframe\">\n",
              "  <thead>\n",
              "    <tr style=\"text-align: right;\">\n",
              "      <th></th>\n",
              "      <th>ListingKey</th>\n",
              "      <th>ListingNumber</th>\n",
              "      <th>ListingCreationDate</th>\n",
              "      <th>CreditGrade</th>\n",
              "      <th>Term</th>\n",
              "      <th>LoanStatus</th>\n",
              "      <th>ClosedDate</th>\n",
              "      <th>BorrowerAPR</th>\n",
              "      <th>BorrowerRate</th>\n",
              "      <th>LenderYield</th>\n",
              "      <th>...</th>\n",
              "      <th>LP_ServiceFees</th>\n",
              "      <th>LP_CollectionFees</th>\n",
              "      <th>LP_GrossPrincipalLoss</th>\n",
              "      <th>LP_NetPrincipalLoss</th>\n",
              "      <th>LP_NonPrincipalRecoverypayments</th>\n",
              "      <th>PercentFunded</th>\n",
              "      <th>Recommendations</th>\n",
              "      <th>InvestmentFromFriendsCount</th>\n",
              "      <th>InvestmentFromFriendsAmount</th>\n",
              "      <th>Investors</th>\n",
              "    </tr>\n",
              "  </thead>\n",
              "  <tbody>\n",
              "    <tr>\n",
              "      <th>0</th>\n",
              "      <td>1021339766868145413AB3B</td>\n",
              "      <td>193129</td>\n",
              "      <td>2007-08-26 19:09:29.263000000</td>\n",
              "      <td>C</td>\n",
              "      <td>36</td>\n",
              "      <td>Completed</td>\n",
              "      <td>2009-08-14 00:00:00</td>\n",
              "      <td>0.16516</td>\n",
              "      <td>0.1580</td>\n",
              "      <td>0.1380</td>\n",
              "      <td>...</td>\n",
              "      <td>-133.18</td>\n",
              "      <td>0.0</td>\n",
              "      <td>0.0</td>\n",
              "      <td>0.0</td>\n",
              "      <td>0.0</td>\n",
              "      <td>1.0</td>\n",
              "      <td>0</td>\n",
              "      <td>0</td>\n",
              "      <td>0.0</td>\n",
              "      <td>258</td>\n",
              "    </tr>\n",
              "    <tr>\n",
              "      <th>1</th>\n",
              "      <td>10273602499503308B223C1</td>\n",
              "      <td>1209647</td>\n",
              "      <td>2014-02-27 08:28:07.900000000</td>\n",
              "      <td>NaN</td>\n",
              "      <td>36</td>\n",
              "      <td>Current</td>\n",
              "      <td>NaN</td>\n",
              "      <td>0.12016</td>\n",
              "      <td>0.0920</td>\n",
              "      <td>0.0820</td>\n",
              "      <td>...</td>\n",
              "      <td>0.00</td>\n",
              "      <td>0.0</td>\n",
              "      <td>0.0</td>\n",
              "      <td>0.0</td>\n",
              "      <td>0.0</td>\n",
              "      <td>1.0</td>\n",
              "      <td>0</td>\n",
              "      <td>0</td>\n",
              "      <td>0.0</td>\n",
              "      <td>1</td>\n",
              "    </tr>\n",
              "    <tr>\n",
              "      <th>2</th>\n",
              "      <td>0EE9337825851032864889A</td>\n",
              "      <td>81716</td>\n",
              "      <td>2007-01-05 15:00:47.090000000</td>\n",
              "      <td>HR</td>\n",
              "      <td>36</td>\n",
              "      <td>Completed</td>\n",
              "      <td>2009-12-17 00:00:00</td>\n",
              "      <td>0.28269</td>\n",
              "      <td>0.2750</td>\n",
              "      <td>0.2400</td>\n",
              "      <td>...</td>\n",
              "      <td>-24.20</td>\n",
              "      <td>0.0</td>\n",
              "      <td>0.0</td>\n",
              "      <td>0.0</td>\n",
              "      <td>0.0</td>\n",
              "      <td>1.0</td>\n",
              "      <td>0</td>\n",
              "      <td>0</td>\n",
              "      <td>0.0</td>\n",
              "      <td>41</td>\n",
              "    </tr>\n",
              "    <tr>\n",
              "      <th>3</th>\n",
              "      <td>0EF5356002482715299901A</td>\n",
              "      <td>658116</td>\n",
              "      <td>2012-10-22 11:02:35.010000000</td>\n",
              "      <td>NaN</td>\n",
              "      <td>36</td>\n",
              "      <td>Current</td>\n",
              "      <td>NaN</td>\n",
              "      <td>0.12528</td>\n",
              "      <td>0.0974</td>\n",
              "      <td>0.0874</td>\n",
              "      <td>...</td>\n",
              "      <td>-108.01</td>\n",
              "      <td>0.0</td>\n",
              "      <td>0.0</td>\n",
              "      <td>0.0</td>\n",
              "      <td>0.0</td>\n",
              "      <td>1.0</td>\n",
              "      <td>0</td>\n",
              "      <td>0</td>\n",
              "      <td>0.0</td>\n",
              "      <td>158</td>\n",
              "    </tr>\n",
              "    <tr>\n",
              "      <th>4</th>\n",
              "      <td>0F023589499656230C5E3E2</td>\n",
              "      <td>909464</td>\n",
              "      <td>2013-09-14 18:38:39.097000000</td>\n",
              "      <td>NaN</td>\n",
              "      <td>36</td>\n",
              "      <td>Current</td>\n",
              "      <td>NaN</td>\n",
              "      <td>0.24614</td>\n",
              "      <td>0.2085</td>\n",
              "      <td>0.1985</td>\n",
              "      <td>...</td>\n",
              "      <td>-60.27</td>\n",
              "      <td>0.0</td>\n",
              "      <td>0.0</td>\n",
              "      <td>0.0</td>\n",
              "      <td>0.0</td>\n",
              "      <td>1.0</td>\n",
              "      <td>0</td>\n",
              "      <td>0</td>\n",
              "      <td>0.0</td>\n",
              "      <td>20</td>\n",
              "    </tr>\n",
              "  </tbody>\n",
              "</table>\n",
              "<p>5 rows × 81 columns</p>\n",
              "</div>\n",
              "      <button class=\"colab-df-convert\" onclick=\"convertToInteractive('df-cb835f9f-7d9a-4431-a6d7-89517b1d781b')\"\n",
              "              title=\"Convert this dataframe to an interactive table.\"\n",
              "              style=\"display:none;\">\n",
              "        \n",
              "  <svg xmlns=\"http://www.w3.org/2000/svg\" height=\"24px\"viewBox=\"0 0 24 24\"\n",
              "       width=\"24px\">\n",
              "    <path d=\"M0 0h24v24H0V0z\" fill=\"none\"/>\n",
              "    <path d=\"M18.56 5.44l.94 2.06.94-2.06 2.06-.94-2.06-.94-.94-2.06-.94 2.06-2.06.94zm-11 1L8.5 8.5l.94-2.06 2.06-.94-2.06-.94L8.5 2.5l-.94 2.06-2.06.94zm10 10l.94 2.06.94-2.06 2.06-.94-2.06-.94-.94-2.06-.94 2.06-2.06.94z\"/><path d=\"M17.41 7.96l-1.37-1.37c-.4-.4-.92-.59-1.43-.59-.52 0-1.04.2-1.43.59L10.3 9.45l-7.72 7.72c-.78.78-.78 2.05 0 2.83L4 21.41c.39.39.9.59 1.41.59.51 0 1.02-.2 1.41-.59l7.78-7.78 2.81-2.81c.8-.78.8-2.07 0-2.86zM5.41 20L4 18.59l7.72-7.72 1.47 1.35L5.41 20z\"/>\n",
              "  </svg>\n",
              "      </button>\n",
              "      \n",
              "  <style>\n",
              "    .colab-df-container {\n",
              "      display:flex;\n",
              "      flex-wrap:wrap;\n",
              "      gap: 12px;\n",
              "    }\n",
              "\n",
              "    .colab-df-convert {\n",
              "      background-color: #E8F0FE;\n",
              "      border: none;\n",
              "      border-radius: 50%;\n",
              "      cursor: pointer;\n",
              "      display: none;\n",
              "      fill: #1967D2;\n",
              "      height: 32px;\n",
              "      padding: 0 0 0 0;\n",
              "      width: 32px;\n",
              "    }\n",
              "\n",
              "    .colab-df-convert:hover {\n",
              "      background-color: #E2EBFA;\n",
              "      box-shadow: 0px 1px 2px rgba(60, 64, 67, 0.3), 0px 1px 3px 1px rgba(60, 64, 67, 0.15);\n",
              "      fill: #174EA6;\n",
              "    }\n",
              "\n",
              "    [theme=dark] .colab-df-convert {\n",
              "      background-color: #3B4455;\n",
              "      fill: #D2E3FC;\n",
              "    }\n",
              "\n",
              "    [theme=dark] .colab-df-convert:hover {\n",
              "      background-color: #434B5C;\n",
              "      box-shadow: 0px 1px 3px 1px rgba(0, 0, 0, 0.15);\n",
              "      filter: drop-shadow(0px 1px 2px rgba(0, 0, 0, 0.3));\n",
              "      fill: #FFFFFF;\n",
              "    }\n",
              "  </style>\n",
              "\n",
              "      <script>\n",
              "        const buttonEl =\n",
              "          document.querySelector('#df-cb835f9f-7d9a-4431-a6d7-89517b1d781b button.colab-df-convert');\n",
              "        buttonEl.style.display =\n",
              "          google.colab.kernel.accessAllowed ? 'block' : 'none';\n",
              "\n",
              "        async function convertToInteractive(key) {\n",
              "          const element = document.querySelector('#df-cb835f9f-7d9a-4431-a6d7-89517b1d781b');\n",
              "          const dataTable =\n",
              "            await google.colab.kernel.invokeFunction('convertToInteractive',\n",
              "                                                     [key], {});\n",
              "          if (!dataTable) return;\n",
              "\n",
              "          const docLinkHtml = 'Like what you see? Visit the ' +\n",
              "            '<a target=\"_blank\" href=https://colab.research.google.com/notebooks/data_table.ipynb>data table notebook</a>'\n",
              "            + ' to learn more about interactive tables.';\n",
              "          element.innerHTML = '';\n",
              "          dataTable['output_type'] = 'display_data';\n",
              "          await google.colab.output.renderOutput(dataTable, element);\n",
              "          const docLink = document.createElement('div');\n",
              "          docLink.innerHTML = docLinkHtml;\n",
              "          element.appendChild(docLink);\n",
              "        }\n",
              "      </script>\n",
              "    </div>\n",
              "  </div>\n",
              "  "
            ]
          },
          "metadata": {},
          "execution_count": 4
        }
      ]
    },
    {
      "cell_type": "code",
      "source": [
        "data.shape"
      ],
      "metadata": {
        "colab": {
          "base_uri": "https://localhost:8080/"
        },
        "id": "t5bmxtG47fAh",
        "outputId": "ca2c03ff-c551-4439-e90e-46246a64b476"
      },
      "execution_count": null,
      "outputs": [
        {
          "output_type": "execute_result",
          "data": {
            "text/plain": [
              "(113937, 81)"
            ]
          },
          "metadata": {},
          "execution_count": 5
        }
      ]
    },
    {
      "cell_type": "markdown",
      "source": [
        "Out of all the 81 columns, selecting only 15 columns to work on. These columns are related to the amount of loan, dates, rates and other charactrestics about the borrowers."
      ],
      "metadata": {
        "id": "u_HaOX9u8amv"
      }
    },
    {
      "cell_type": "code",
      "source": [
        "df_data = data.loc[:, ['ListingCreationDate', 'Term', 'LoanStatus', 'ClosedDate', 'BorrowerAPR',\n",
        "                         'BorrowerRate', 'LenderYield', 'ProsperRating (Alpha)', 'ProsperScore', 'ListingCategory (numeric)',\n",
        "                         'BorrowerState', 'Occupation', 'EmploymentStatus', 'AmountDelinquent',\n",
        "                         'IncomeRange', 'StatedMonthlyIncome',\n",
        "                         'LoanCurrentDaysDelinquent',\n",
        "                         'LoanOriginalAmount', 'LoanOriginationDate', \n",
        "                         'MonthlyLoanPayment', 'LP_ServiceFees', 'Investors']]\n",
        "df_data"
      ],
      "metadata": {
        "colab": {
          "base_uri": "https://localhost:8080/",
          "height": 679
        },
        "id": "QPnVjLiY8UFU",
        "outputId": "1b782113-40c4-4ba6-bb1d-182f5ec797ae"
      },
      "execution_count": null,
      "outputs": [
        {
          "output_type": "execute_result",
          "data": {
            "text/plain": [
              "                  ListingCreationDate  Term              LoanStatus  \\\n",
              "0       2007-08-26 19:09:29.263000000    36               Completed   \n",
              "1       2014-02-27 08:28:07.900000000    36                 Current   \n",
              "2       2007-01-05 15:00:47.090000000    36               Completed   \n",
              "3       2012-10-22 11:02:35.010000000    36                 Current   \n",
              "4       2013-09-14 18:38:39.097000000    36                 Current   \n",
              "...                               ...   ...                     ...   \n",
              "113932  2013-04-14 05:55:02.663000000    36                 Current   \n",
              "113933  2011-11-03 20:42:55.333000000    36  FinalPaymentInProgress   \n",
              "113934  2013-12-13 05:49:12.703000000    60                 Current   \n",
              "113935  2011-11-14 13:18:26.597000000    60               Completed   \n",
              "113936  2014-01-15 09:27:37.657000000    36                 Current   \n",
              "\n",
              "                 ClosedDate  BorrowerAPR  BorrowerRate  LenderYield  \\\n",
              "0       2009-08-14 00:00:00      0.16516        0.1580       0.1380   \n",
              "1                       NaN      0.12016        0.0920       0.0820   \n",
              "2       2009-12-17 00:00:00      0.28269        0.2750       0.2400   \n",
              "3                       NaN      0.12528        0.0974       0.0874   \n",
              "4                       NaN      0.24614        0.2085       0.1985   \n",
              "...                     ...          ...           ...          ...   \n",
              "113932                  NaN      0.22354        0.1864       0.1764   \n",
              "113933                  NaN      0.13220        0.1110       0.1010   \n",
              "113934                  NaN      0.23984        0.2150       0.2050   \n",
              "113935  2013-08-13 00:00:00      0.28408        0.2605       0.2505   \n",
              "113936                  NaN      0.13189        0.1039       0.0939   \n",
              "\n",
              "       ProsperRating (Alpha)  ProsperScore  ListingCategory (numeric)  ...  \\\n",
              "0                        NaN           NaN                          0  ...   \n",
              "1                          A           7.0                          2  ...   \n",
              "2                        NaN           NaN                          0  ...   \n",
              "3                          A           9.0                         16  ...   \n",
              "4                          D           4.0                          2  ...   \n",
              "...                      ...           ...                        ...  ...   \n",
              "113932                     C           5.0                          1  ...   \n",
              "113933                     A           8.0                          7  ...   \n",
              "113934                     D           3.0                          1  ...   \n",
              "113935                     C           5.0                          2  ...   \n",
              "113936                     A           7.0                          1  ...   \n",
              "\n",
              "       EmploymentStatus AmountDelinquent     IncomeRange  StatedMonthlyIncome  \\\n",
              "0         Self-employed            472.0  $25,000-49,999          3083.333333   \n",
              "1              Employed              0.0  $50,000-74,999          6125.000000   \n",
              "2         Not available              NaN   Not displayed          2083.333333   \n",
              "3              Employed          10056.0  $25,000-49,999          2875.000000   \n",
              "4              Employed              0.0       $100,000+          9583.333333   \n",
              "...                 ...              ...             ...                  ...   \n",
              "113932         Employed              0.0  $50,000-74,999          4333.333333   \n",
              "113933         Employed           5062.0  $75,000-99,999          8041.666667   \n",
              "113934         Employed              0.0  $25,000-49,999          2875.000000   \n",
              "113935        Full-time              0.0  $25,000-49,999          3875.000000   \n",
              "113936         Employed            257.0  $50,000-74,999          4583.333333   \n",
              "\n",
              "       LoanCurrentDaysDelinquent  LoanOriginalAmount  LoanOriginationDate  \\\n",
              "0                              0                9425  2007-09-12 00:00:00   \n",
              "1                              0               10000  2014-03-03 00:00:00   \n",
              "2                              0                3001  2007-01-17 00:00:00   \n",
              "3                              0               10000  2012-11-01 00:00:00   \n",
              "4                              0               15000  2013-09-20 00:00:00   \n",
              "...                          ...                 ...                  ...   \n",
              "113932                         0               10000  2013-04-22 00:00:00   \n",
              "113933                         0                2000  2011-11-07 00:00:00   \n",
              "113934                         0               10000  2013-12-23 00:00:00   \n",
              "113935                         0               15000  2011-11-21 00:00:00   \n",
              "113936                         0                2000  2014-01-21 00:00:00   \n",
              "\n",
              "        MonthlyLoanPayment LP_ServiceFees  Investors  \n",
              "0                   330.43        -133.18        258  \n",
              "1                   318.93           0.00          1  \n",
              "2                   123.32         -24.20         41  \n",
              "3                   321.45        -108.01        158  \n",
              "4                   563.97         -60.27         20  \n",
              "...                    ...            ...        ...  \n",
              "113932              364.74         -75.58          1  \n",
              "113933               65.57         -30.05         22  \n",
              "113934              273.35         -16.91        119  \n",
              "113935              449.55        -235.05        274  \n",
              "113936               64.90          -1.70          1  \n",
              "\n",
              "[113937 rows x 22 columns]"
            ],
            "text/html": [
              "\n",
              "  <div id=\"df-335f2a78-4ebe-4415-8516-e4f406138cb4\">\n",
              "    <div class=\"colab-df-container\">\n",
              "      <div>\n",
              "<style scoped>\n",
              "    .dataframe tbody tr th:only-of-type {\n",
              "        vertical-align: middle;\n",
              "    }\n",
              "\n",
              "    .dataframe tbody tr th {\n",
              "        vertical-align: top;\n",
              "    }\n",
              "\n",
              "    .dataframe thead th {\n",
              "        text-align: right;\n",
              "    }\n",
              "</style>\n",
              "<table border=\"1\" class=\"dataframe\">\n",
              "  <thead>\n",
              "    <tr style=\"text-align: right;\">\n",
              "      <th></th>\n",
              "      <th>ListingCreationDate</th>\n",
              "      <th>Term</th>\n",
              "      <th>LoanStatus</th>\n",
              "      <th>ClosedDate</th>\n",
              "      <th>BorrowerAPR</th>\n",
              "      <th>BorrowerRate</th>\n",
              "      <th>LenderYield</th>\n",
              "      <th>ProsperRating (Alpha)</th>\n",
              "      <th>ProsperScore</th>\n",
              "      <th>ListingCategory (numeric)</th>\n",
              "      <th>...</th>\n",
              "      <th>EmploymentStatus</th>\n",
              "      <th>AmountDelinquent</th>\n",
              "      <th>IncomeRange</th>\n",
              "      <th>StatedMonthlyIncome</th>\n",
              "      <th>LoanCurrentDaysDelinquent</th>\n",
              "      <th>LoanOriginalAmount</th>\n",
              "      <th>LoanOriginationDate</th>\n",
              "      <th>MonthlyLoanPayment</th>\n",
              "      <th>LP_ServiceFees</th>\n",
              "      <th>Investors</th>\n",
              "    </tr>\n",
              "  </thead>\n",
              "  <tbody>\n",
              "    <tr>\n",
              "      <th>0</th>\n",
              "      <td>2007-08-26 19:09:29.263000000</td>\n",
              "      <td>36</td>\n",
              "      <td>Completed</td>\n",
              "      <td>2009-08-14 00:00:00</td>\n",
              "      <td>0.16516</td>\n",
              "      <td>0.1580</td>\n",
              "      <td>0.1380</td>\n",
              "      <td>NaN</td>\n",
              "      <td>NaN</td>\n",
              "      <td>0</td>\n",
              "      <td>...</td>\n",
              "      <td>Self-employed</td>\n",
              "      <td>472.0</td>\n",
              "      <td>$25,000-49,999</td>\n",
              "      <td>3083.333333</td>\n",
              "      <td>0</td>\n",
              "      <td>9425</td>\n",
              "      <td>2007-09-12 00:00:00</td>\n",
              "      <td>330.43</td>\n",
              "      <td>-133.18</td>\n",
              "      <td>258</td>\n",
              "    </tr>\n",
              "    <tr>\n",
              "      <th>1</th>\n",
              "      <td>2014-02-27 08:28:07.900000000</td>\n",
              "      <td>36</td>\n",
              "      <td>Current</td>\n",
              "      <td>NaN</td>\n",
              "      <td>0.12016</td>\n",
              "      <td>0.0920</td>\n",
              "      <td>0.0820</td>\n",
              "      <td>A</td>\n",
              "      <td>7.0</td>\n",
              "      <td>2</td>\n",
              "      <td>...</td>\n",
              "      <td>Employed</td>\n",
              "      <td>0.0</td>\n",
              "      <td>$50,000-74,999</td>\n",
              "      <td>6125.000000</td>\n",
              "      <td>0</td>\n",
              "      <td>10000</td>\n",
              "      <td>2014-03-03 00:00:00</td>\n",
              "      <td>318.93</td>\n",
              "      <td>0.00</td>\n",
              "      <td>1</td>\n",
              "    </tr>\n",
              "    <tr>\n",
              "      <th>2</th>\n",
              "      <td>2007-01-05 15:00:47.090000000</td>\n",
              "      <td>36</td>\n",
              "      <td>Completed</td>\n",
              "      <td>2009-12-17 00:00:00</td>\n",
              "      <td>0.28269</td>\n",
              "      <td>0.2750</td>\n",
              "      <td>0.2400</td>\n",
              "      <td>NaN</td>\n",
              "      <td>NaN</td>\n",
              "      <td>0</td>\n",
              "      <td>...</td>\n",
              "      <td>Not available</td>\n",
              "      <td>NaN</td>\n",
              "      <td>Not displayed</td>\n",
              "      <td>2083.333333</td>\n",
              "      <td>0</td>\n",
              "      <td>3001</td>\n",
              "      <td>2007-01-17 00:00:00</td>\n",
              "      <td>123.32</td>\n",
              "      <td>-24.20</td>\n",
              "      <td>41</td>\n",
              "    </tr>\n",
              "    <tr>\n",
              "      <th>3</th>\n",
              "      <td>2012-10-22 11:02:35.010000000</td>\n",
              "      <td>36</td>\n",
              "      <td>Current</td>\n",
              "      <td>NaN</td>\n",
              "      <td>0.12528</td>\n",
              "      <td>0.0974</td>\n",
              "      <td>0.0874</td>\n",
              "      <td>A</td>\n",
              "      <td>9.0</td>\n",
              "      <td>16</td>\n",
              "      <td>...</td>\n",
              "      <td>Employed</td>\n",
              "      <td>10056.0</td>\n",
              "      <td>$25,000-49,999</td>\n",
              "      <td>2875.000000</td>\n",
              "      <td>0</td>\n",
              "      <td>10000</td>\n",
              "      <td>2012-11-01 00:00:00</td>\n",
              "      <td>321.45</td>\n",
              "      <td>-108.01</td>\n",
              "      <td>158</td>\n",
              "    </tr>\n",
              "    <tr>\n",
              "      <th>4</th>\n",
              "      <td>2013-09-14 18:38:39.097000000</td>\n",
              "      <td>36</td>\n",
              "      <td>Current</td>\n",
              "      <td>NaN</td>\n",
              "      <td>0.24614</td>\n",
              "      <td>0.2085</td>\n",
              "      <td>0.1985</td>\n",
              "      <td>D</td>\n",
              "      <td>4.0</td>\n",
              "      <td>2</td>\n",
              "      <td>...</td>\n",
              "      <td>Employed</td>\n",
              "      <td>0.0</td>\n",
              "      <td>$100,000+</td>\n",
              "      <td>9583.333333</td>\n",
              "      <td>0</td>\n",
              "      <td>15000</td>\n",
              "      <td>2013-09-20 00:00:00</td>\n",
              "      <td>563.97</td>\n",
              "      <td>-60.27</td>\n",
              "      <td>20</td>\n",
              "    </tr>\n",
              "    <tr>\n",
              "      <th>...</th>\n",
              "      <td>...</td>\n",
              "      <td>...</td>\n",
              "      <td>...</td>\n",
              "      <td>...</td>\n",
              "      <td>...</td>\n",
              "      <td>...</td>\n",
              "      <td>...</td>\n",
              "      <td>...</td>\n",
              "      <td>...</td>\n",
              "      <td>...</td>\n",
              "      <td>...</td>\n",
              "      <td>...</td>\n",
              "      <td>...</td>\n",
              "      <td>...</td>\n",
              "      <td>...</td>\n",
              "      <td>...</td>\n",
              "      <td>...</td>\n",
              "      <td>...</td>\n",
              "      <td>...</td>\n",
              "      <td>...</td>\n",
              "      <td>...</td>\n",
              "    </tr>\n",
              "    <tr>\n",
              "      <th>113932</th>\n",
              "      <td>2013-04-14 05:55:02.663000000</td>\n",
              "      <td>36</td>\n",
              "      <td>Current</td>\n",
              "      <td>NaN</td>\n",
              "      <td>0.22354</td>\n",
              "      <td>0.1864</td>\n",
              "      <td>0.1764</td>\n",
              "      <td>C</td>\n",
              "      <td>5.0</td>\n",
              "      <td>1</td>\n",
              "      <td>...</td>\n",
              "      <td>Employed</td>\n",
              "      <td>0.0</td>\n",
              "      <td>$50,000-74,999</td>\n",
              "      <td>4333.333333</td>\n",
              "      <td>0</td>\n",
              "      <td>10000</td>\n",
              "      <td>2013-04-22 00:00:00</td>\n",
              "      <td>364.74</td>\n",
              "      <td>-75.58</td>\n",
              "      <td>1</td>\n",
              "    </tr>\n",
              "    <tr>\n",
              "      <th>113933</th>\n",
              "      <td>2011-11-03 20:42:55.333000000</td>\n",
              "      <td>36</td>\n",
              "      <td>FinalPaymentInProgress</td>\n",
              "      <td>NaN</td>\n",
              "      <td>0.13220</td>\n",
              "      <td>0.1110</td>\n",
              "      <td>0.1010</td>\n",
              "      <td>A</td>\n",
              "      <td>8.0</td>\n",
              "      <td>7</td>\n",
              "      <td>...</td>\n",
              "      <td>Employed</td>\n",
              "      <td>5062.0</td>\n",
              "      <td>$75,000-99,999</td>\n",
              "      <td>8041.666667</td>\n",
              "      <td>0</td>\n",
              "      <td>2000</td>\n",
              "      <td>2011-11-07 00:00:00</td>\n",
              "      <td>65.57</td>\n",
              "      <td>-30.05</td>\n",
              "      <td>22</td>\n",
              "    </tr>\n",
              "    <tr>\n",
              "      <th>113934</th>\n",
              "      <td>2013-12-13 05:49:12.703000000</td>\n",
              "      <td>60</td>\n",
              "      <td>Current</td>\n",
              "      <td>NaN</td>\n",
              "      <td>0.23984</td>\n",
              "      <td>0.2150</td>\n",
              "      <td>0.2050</td>\n",
              "      <td>D</td>\n",
              "      <td>3.0</td>\n",
              "      <td>1</td>\n",
              "      <td>...</td>\n",
              "      <td>Employed</td>\n",
              "      <td>0.0</td>\n",
              "      <td>$25,000-49,999</td>\n",
              "      <td>2875.000000</td>\n",
              "      <td>0</td>\n",
              "      <td>10000</td>\n",
              "      <td>2013-12-23 00:00:00</td>\n",
              "      <td>273.35</td>\n",
              "      <td>-16.91</td>\n",
              "      <td>119</td>\n",
              "    </tr>\n",
              "    <tr>\n",
              "      <th>113935</th>\n",
              "      <td>2011-11-14 13:18:26.597000000</td>\n",
              "      <td>60</td>\n",
              "      <td>Completed</td>\n",
              "      <td>2013-08-13 00:00:00</td>\n",
              "      <td>0.28408</td>\n",
              "      <td>0.2605</td>\n",
              "      <td>0.2505</td>\n",
              "      <td>C</td>\n",
              "      <td>5.0</td>\n",
              "      <td>2</td>\n",
              "      <td>...</td>\n",
              "      <td>Full-time</td>\n",
              "      <td>0.0</td>\n",
              "      <td>$25,000-49,999</td>\n",
              "      <td>3875.000000</td>\n",
              "      <td>0</td>\n",
              "      <td>15000</td>\n",
              "      <td>2011-11-21 00:00:00</td>\n",
              "      <td>449.55</td>\n",
              "      <td>-235.05</td>\n",
              "      <td>274</td>\n",
              "    </tr>\n",
              "    <tr>\n",
              "      <th>113936</th>\n",
              "      <td>2014-01-15 09:27:37.657000000</td>\n",
              "      <td>36</td>\n",
              "      <td>Current</td>\n",
              "      <td>NaN</td>\n",
              "      <td>0.13189</td>\n",
              "      <td>0.1039</td>\n",
              "      <td>0.0939</td>\n",
              "      <td>A</td>\n",
              "      <td>7.0</td>\n",
              "      <td>1</td>\n",
              "      <td>...</td>\n",
              "      <td>Employed</td>\n",
              "      <td>257.0</td>\n",
              "      <td>$50,000-74,999</td>\n",
              "      <td>4583.333333</td>\n",
              "      <td>0</td>\n",
              "      <td>2000</td>\n",
              "      <td>2014-01-21 00:00:00</td>\n",
              "      <td>64.90</td>\n",
              "      <td>-1.70</td>\n",
              "      <td>1</td>\n",
              "    </tr>\n",
              "  </tbody>\n",
              "</table>\n",
              "<p>113937 rows × 22 columns</p>\n",
              "</div>\n",
              "      <button class=\"colab-df-convert\" onclick=\"convertToInteractive('df-335f2a78-4ebe-4415-8516-e4f406138cb4')\"\n",
              "              title=\"Convert this dataframe to an interactive table.\"\n",
              "              style=\"display:none;\">\n",
              "        \n",
              "  <svg xmlns=\"http://www.w3.org/2000/svg\" height=\"24px\"viewBox=\"0 0 24 24\"\n",
              "       width=\"24px\">\n",
              "    <path d=\"M0 0h24v24H0V0z\" fill=\"none\"/>\n",
              "    <path d=\"M18.56 5.44l.94 2.06.94-2.06 2.06-.94-2.06-.94-.94-2.06-.94 2.06-2.06.94zm-11 1L8.5 8.5l.94-2.06 2.06-.94-2.06-.94L8.5 2.5l-.94 2.06-2.06.94zm10 10l.94 2.06.94-2.06 2.06-.94-2.06-.94-.94-2.06-.94 2.06-2.06.94z\"/><path d=\"M17.41 7.96l-1.37-1.37c-.4-.4-.92-.59-1.43-.59-.52 0-1.04.2-1.43.59L10.3 9.45l-7.72 7.72c-.78.78-.78 2.05 0 2.83L4 21.41c.39.39.9.59 1.41.59.51 0 1.02-.2 1.41-.59l7.78-7.78 2.81-2.81c.8-.78.8-2.07 0-2.86zM5.41 20L4 18.59l7.72-7.72 1.47 1.35L5.41 20z\"/>\n",
              "  </svg>\n",
              "      </button>\n",
              "      \n",
              "  <style>\n",
              "    .colab-df-container {\n",
              "      display:flex;\n",
              "      flex-wrap:wrap;\n",
              "      gap: 12px;\n",
              "    }\n",
              "\n",
              "    .colab-df-convert {\n",
              "      background-color: #E8F0FE;\n",
              "      border: none;\n",
              "      border-radius: 50%;\n",
              "      cursor: pointer;\n",
              "      display: none;\n",
              "      fill: #1967D2;\n",
              "      height: 32px;\n",
              "      padding: 0 0 0 0;\n",
              "      width: 32px;\n",
              "    }\n",
              "\n",
              "    .colab-df-convert:hover {\n",
              "      background-color: #E2EBFA;\n",
              "      box-shadow: 0px 1px 2px rgba(60, 64, 67, 0.3), 0px 1px 3px 1px rgba(60, 64, 67, 0.15);\n",
              "      fill: #174EA6;\n",
              "    }\n",
              "\n",
              "    [theme=dark] .colab-df-convert {\n",
              "      background-color: #3B4455;\n",
              "      fill: #D2E3FC;\n",
              "    }\n",
              "\n",
              "    [theme=dark] .colab-df-convert:hover {\n",
              "      background-color: #434B5C;\n",
              "      box-shadow: 0px 1px 3px 1px rgba(0, 0, 0, 0.15);\n",
              "      filter: drop-shadow(0px 1px 2px rgba(0, 0, 0, 0.3));\n",
              "      fill: #FFFFFF;\n",
              "    }\n",
              "  </style>\n",
              "\n",
              "      <script>\n",
              "        const buttonEl =\n",
              "          document.querySelector('#df-335f2a78-4ebe-4415-8516-e4f406138cb4 button.colab-df-convert');\n",
              "        buttonEl.style.display =\n",
              "          google.colab.kernel.accessAllowed ? 'block' : 'none';\n",
              "\n",
              "        async function convertToInteractive(key) {\n",
              "          const element = document.querySelector('#df-335f2a78-4ebe-4415-8516-e4f406138cb4');\n",
              "          const dataTable =\n",
              "            await google.colab.kernel.invokeFunction('convertToInteractive',\n",
              "                                                     [key], {});\n",
              "          if (!dataTable) return;\n",
              "\n",
              "          const docLinkHtml = 'Like what you see? Visit the ' +\n",
              "            '<a target=\"_blank\" href=https://colab.research.google.com/notebooks/data_table.ipynb>data table notebook</a>'\n",
              "            + ' to learn more about interactive tables.';\n",
              "          element.innerHTML = '';\n",
              "          dataTable['output_type'] = 'display_data';\n",
              "          await google.colab.output.renderOutput(dataTable, element);\n",
              "          const docLink = document.createElement('div');\n",
              "          docLink.innerHTML = docLinkHtml;\n",
              "          element.appendChild(docLink);\n",
              "        }\n",
              "      </script>\n",
              "    </div>\n",
              "  </div>\n",
              "  "
            ]
          },
          "metadata": {},
          "execution_count": 6
        }
      ]
    },
    {
      "cell_type": "code",
      "source": [
        "df_data.info()"
      ],
      "metadata": {
        "colab": {
          "base_uri": "https://localhost:8080/"
        },
        "id": "3WfvCEJu8uZK",
        "outputId": "c052c438-a907-4b8f-827b-9b4ffb304394"
      },
      "execution_count": null,
      "outputs": [
        {
          "output_type": "stream",
          "name": "stdout",
          "text": [
            "<class 'pandas.core.frame.DataFrame'>\n",
            "RangeIndex: 113937 entries, 0 to 113936\n",
            "Data columns (total 22 columns):\n",
            " #   Column                     Non-Null Count   Dtype  \n",
            "---  ------                     --------------   -----  \n",
            " 0   ListingCreationDate        113937 non-null  object \n",
            " 1   Term                       113937 non-null  int64  \n",
            " 2   LoanStatus                 113937 non-null  object \n",
            " 3   ClosedDate                 55089 non-null   object \n",
            " 4   BorrowerAPR                113912 non-null  float64\n",
            " 5   BorrowerRate               113937 non-null  float64\n",
            " 6   LenderYield                113937 non-null  float64\n",
            " 7   ProsperRating (Alpha)      84853 non-null   object \n",
            " 8   ProsperScore               84853 non-null   float64\n",
            " 9   ListingCategory (numeric)  113937 non-null  int64  \n",
            " 10  BorrowerState              108422 non-null  object \n",
            " 11  Occupation                 110349 non-null  object \n",
            " 12  EmploymentStatus           111682 non-null  object \n",
            " 13  AmountDelinquent           106315 non-null  float64\n",
            " 14  IncomeRange                113937 non-null  object \n",
            " 15  StatedMonthlyIncome        113937 non-null  float64\n",
            " 16  LoanCurrentDaysDelinquent  113937 non-null  int64  \n",
            " 17  LoanOriginalAmount         113937 non-null  int64  \n",
            " 18  LoanOriginationDate        113937 non-null  object \n",
            " 19  MonthlyLoanPayment         113937 non-null  float64\n",
            " 20  LP_ServiceFees             113937 non-null  float64\n",
            " 21  Investors                  113937 non-null  int64  \n",
            "dtypes: float64(8), int64(5), object(9)\n",
            "memory usage: 19.1+ MB\n"
          ]
        }
      ]
    },
    {
      "cell_type": "code",
      "source": [
        "df_data.duplicated().sum()"
      ],
      "metadata": {
        "colab": {
          "base_uri": "https://localhost:8080/"
        },
        "id": "1Qy2_OWu878_",
        "outputId": "31f10c52-985f-4e6a-c41d-40029d5a2c07"
      },
      "execution_count": null,
      "outputs": [
        {
          "output_type": "execute_result",
          "data": {
            "text/plain": [
              "0"
            ]
          },
          "metadata": {},
          "execution_count": 8
        }
      ]
    },
    {
      "cell_type": "markdown",
      "source": [
        "# Data Cleaning"
      ],
      "metadata": {
        "id": "Mc3K7L6HCD9L"
      }
    },
    {
      "cell_type": "code",
      "source": [
        "df_data.isnull().sum()"
      ],
      "metadata": {
        "colab": {
          "base_uri": "https://localhost:8080/"
        },
        "id": "Il5J3QXU9CkU",
        "outputId": "1e5f96fa-ecda-41d7-849b-5b17c5b726d6"
      },
      "execution_count": null,
      "outputs": [
        {
          "output_type": "execute_result",
          "data": {
            "text/plain": [
              "ListingCreationDate              0\n",
              "Term                             0\n",
              "LoanStatus                       0\n",
              "ClosedDate                   58848\n",
              "BorrowerAPR                     25\n",
              "BorrowerRate                     0\n",
              "LenderYield                      0\n",
              "ProsperRating (Alpha)        29084\n",
              "ProsperScore                 29084\n",
              "ListingCategory (numeric)        0\n",
              "BorrowerState                 5515\n",
              "Occupation                    3588\n",
              "EmploymentStatus              2255\n",
              "AmountDelinquent              7622\n",
              "IncomeRange                      0\n",
              "StatedMonthlyIncome              0\n",
              "LoanCurrentDaysDelinquent        0\n",
              "LoanOriginalAmount               0\n",
              "LoanOriginationDate              0\n",
              "MonthlyLoanPayment               0\n",
              "LP_ServiceFees                   0\n",
              "Investors                        0\n",
              "dtype: int64"
            ]
          },
          "metadata": {},
          "execution_count": 9
        }
      ]
    },
    {
      "cell_type": "code",
      "source": [
        "#adjusting the datetime columns.\n",
        "df_data['ListingCreationDate'] = pd.to_datetime(df_data['ListingCreationDate'])\n",
        "df_data['ClosedDate'] = pd.to_datetime(df_data['ClosedDate'])\n",
        "df_data['LoanOriginationDate'] = pd.to_datetime(df_data['LoanOriginationDate'])\n",
        "\n",
        "df_data.info()"
      ],
      "metadata": {
        "colab": {
          "base_uri": "https://localhost:8080/"
        },
        "id": "xIv6FWM-9Hnp",
        "outputId": "0fd8de1b-e975-4325-8401-66401c2fa33b"
      },
      "execution_count": null,
      "outputs": [
        {
          "output_type": "stream",
          "name": "stdout",
          "text": [
            "<class 'pandas.core.frame.DataFrame'>\n",
            "RangeIndex: 113937 entries, 0 to 113936\n",
            "Data columns (total 22 columns):\n",
            " #   Column                     Non-Null Count   Dtype         \n",
            "---  ------                     --------------   -----         \n",
            " 0   ListingCreationDate        113937 non-null  datetime64[ns]\n",
            " 1   Term                       113937 non-null  int64         \n",
            " 2   LoanStatus                 113937 non-null  object        \n",
            " 3   ClosedDate                 55089 non-null   datetime64[ns]\n",
            " 4   BorrowerAPR                113912 non-null  float64       \n",
            " 5   BorrowerRate               113937 non-null  float64       \n",
            " 6   LenderYield                113937 non-null  float64       \n",
            " 7   ProsperRating (Alpha)      84853 non-null   object        \n",
            " 8   ProsperScore               84853 non-null   float64       \n",
            " 9   ListingCategory (numeric)  113937 non-null  int64         \n",
            " 10  BorrowerState              108422 non-null  object        \n",
            " 11  Occupation                 110349 non-null  object        \n",
            " 12  EmploymentStatus           111682 non-null  object        \n",
            " 13  AmountDelinquent           106315 non-null  float64       \n",
            " 14  IncomeRange                113937 non-null  object        \n",
            " 15  StatedMonthlyIncome        113937 non-null  float64       \n",
            " 16  LoanCurrentDaysDelinquent  113937 non-null  int64         \n",
            " 17  LoanOriginalAmount         113937 non-null  int64         \n",
            " 18  LoanOriginationDate        113937 non-null  datetime64[ns]\n",
            " 19  MonthlyLoanPayment         113937 non-null  float64       \n",
            " 20  LP_ServiceFees             113937 non-null  float64       \n",
            " 21  Investors                  113937 non-null  int64         \n",
            "dtypes: datetime64[ns](3), float64(8), int64(5), object(6)\n",
            "memory usage: 19.1+ MB\n"
          ]
        }
      ]
    },
    {
      "cell_type": "markdown",
      "source": [
        "Converting the Income Range and Prosper Rating to Ordinate Categorical Data for doing Feature Engineering in future"
      ],
      "metadata": {
        "id": "GrlasVP9-GDF"
      }
    },
    {
      "cell_type": "code",
      "source": [
        "original = {'ProsperRating (Alpha)': ['N/A','HR','E','D','C', 'B', 'A', 'AA'],\n",
        "                    'IncomeRange':['$0','$1-24,999','$25,000-49,999','$50,000-74,999','$75,000-99,999','$100,000+']}\n",
        "\n",
        "for var in original:\n",
        "  ordered_var = pd.api.types.CategoricalDtype(ordered = True, categories = original[var])\n",
        "  df_data[var] = df_data[var].astype(ordered_var)"
      ],
      "metadata": {
        "id": "5WsYLYnn9g9c"
      },
      "execution_count": null,
      "outputs": []
    },
    {
      "cell_type": "code",
      "source": [
        "df_data['ProsperRating (Alpha)'].value_counts()"
      ],
      "metadata": {
        "colab": {
          "base_uri": "https://localhost:8080/"
        },
        "id": "OcXCEUw4-vk5",
        "outputId": "1cbb6767-a733-4604-ba4a-ba8bbeb4e783"
      },
      "execution_count": null,
      "outputs": [
        {
          "output_type": "execute_result",
          "data": {
            "text/plain": [
              "C      18345\n",
              "B      15581\n",
              "A      14551\n",
              "D      14274\n",
              "E       9795\n",
              "HR      6935\n",
              "AA      5372\n",
              "N/A        0\n",
              "Name: ProsperRating (Alpha), dtype: int64"
            ]
          },
          "metadata": {},
          "execution_count": 12
        }
      ]
    },
    {
      "cell_type": "code",
      "source": [
        "df_data['IncomeRange'].value_counts()"
      ],
      "metadata": {
        "colab": {
          "base_uri": "https://localhost:8080/"
        },
        "id": "xirtnSsZ-12b",
        "outputId": "825c4894-2578-47bd-843c-2f111ac1c955"
      },
      "execution_count": null,
      "outputs": [
        {
          "output_type": "execute_result",
          "data": {
            "text/plain": [
              "$25,000-49,999    32192\n",
              "$50,000-74,999    31050\n",
              "$100,000+         17337\n",
              "$75,000-99,999    16916\n",
              "$1-24,999          7274\n",
              "$0                  621\n",
              "Name: IncomeRange, dtype: int64"
            ]
          },
          "metadata": {},
          "execution_count": 13
        }
      ]
    },
    {
      "cell_type": "markdown",
      "source": [
        "Now converting the datatype of categorical columns as category"
      ],
      "metadata": {
        "id": "ZJgj5Hbs_DQ-"
      }
    },
    {
      "cell_type": "code",
      "source": [
        "df_data['Occupation'] = df_data['Occupation'].astype('category')\n",
        "df_data['BorrowerRate'] = df_data['BorrowerRate'].astype('category')\n",
        "df_data['LoanStatus'] = df_data['LoanStatus'].astype('category')\n",
        "df_data['ListingCategory (numeric)'] = df_data['ListingCategory (numeric)'].astype('category')\n",
        "df_data['EmploymentStatus'] = df_data['EmploymentStatus'].astype('category')"
      ],
      "metadata": {
        "id": "-YAcOOWo-6z7"
      },
      "execution_count": null,
      "outputs": []
    },
    {
      "cell_type": "code",
      "source": [
        "df_data['Occupation'].value_counts()"
      ],
      "metadata": {
        "colab": {
          "base_uri": "https://localhost:8080/"
        },
        "id": "aEADEujW_YPE",
        "outputId": "3d9b036a-69a8-4317-e7d6-dd59de587364"
      },
      "execution_count": null,
      "outputs": [
        {
          "output_type": "execute_result",
          "data": {
            "text/plain": [
              "Other                          28617\n",
              "Professional                   13628\n",
              "Computer Programmer             4478\n",
              "Executive                       4311\n",
              "Teacher                         3759\n",
              "                               ...  \n",
              "Dentist                           68\n",
              "Student - College Freshman        41\n",
              "Student - Community College       28\n",
              "Judge                             22\n",
              "Student - Technical School        16\n",
              "Name: Occupation, Length: 67, dtype: int64"
            ]
          },
          "metadata": {},
          "execution_count": 15
        }
      ]
    },
    {
      "cell_type": "code",
      "source": [
        "df_data.shape"
      ],
      "metadata": {
        "colab": {
          "base_uri": "https://localhost:8080/"
        },
        "id": "HuiBgqpFAUre",
        "outputId": "6a493173-dc56-4f94-c3b3-0748d2c52180"
      },
      "execution_count": null,
      "outputs": [
        {
          "output_type": "execute_result",
          "data": {
            "text/plain": [
              "(113937, 22)"
            ]
          },
          "metadata": {},
          "execution_count": 16
        }
      ]
    },
    {
      "cell_type": "code",
      "source": [
        "df_data.info()"
      ],
      "metadata": {
        "colab": {
          "base_uri": "https://localhost:8080/"
        },
        "id": "sQlWNSagAbL-",
        "outputId": "1a75ca79-90db-4b50-e0e2-3845eb976978"
      },
      "execution_count": null,
      "outputs": [
        {
          "output_type": "stream",
          "name": "stdout",
          "text": [
            "<class 'pandas.core.frame.DataFrame'>\n",
            "RangeIndex: 113937 entries, 0 to 113936\n",
            "Data columns (total 22 columns):\n",
            " #   Column                     Non-Null Count   Dtype         \n",
            "---  ------                     --------------   -----         \n",
            " 0   ListingCreationDate        113937 non-null  datetime64[ns]\n",
            " 1   Term                       113937 non-null  int64         \n",
            " 2   LoanStatus                 113937 non-null  category      \n",
            " 3   ClosedDate                 55089 non-null   datetime64[ns]\n",
            " 4   BorrowerAPR                113912 non-null  float64       \n",
            " 5   BorrowerRate               113937 non-null  category      \n",
            " 6   LenderYield                113937 non-null  float64       \n",
            " 7   ProsperRating (Alpha)      84853 non-null   category      \n",
            " 8   ProsperScore               84853 non-null   float64       \n",
            " 9   ListingCategory (numeric)  113937 non-null  category      \n",
            " 10  BorrowerState              108422 non-null  object        \n",
            " 11  Occupation                 110349 non-null  category      \n",
            " 12  EmploymentStatus           111682 non-null  category      \n",
            " 13  AmountDelinquent           106315 non-null  float64       \n",
            " 14  IncomeRange                105390 non-null  category      \n",
            " 15  StatedMonthlyIncome        113937 non-null  float64       \n",
            " 16  LoanCurrentDaysDelinquent  113937 non-null  int64         \n",
            " 17  LoanOriginalAmount         113937 non-null  int64         \n",
            " 18  LoanOriginationDate        113937 non-null  datetime64[ns]\n",
            " 19  MonthlyLoanPayment         113937 non-null  float64       \n",
            " 20  LP_ServiceFees             113937 non-null  float64       \n",
            " 21  Investors                  113937 non-null  int64         \n",
            "dtypes: category(7), datetime64[ns](3), float64(7), int64(4), object(1)\n",
            "memory usage: 14.0+ MB\n"
          ]
        }
      ]
    },
    {
      "cell_type": "markdown",
      "source": [
        "The small dataset of 22 columns has numeric as well as categorical data. "
      ],
      "metadata": {
        "id": "1U4F77-0Alxd"
      }
    },
    {
      "cell_type": "markdown",
      "source": [
        "There are some important features including:\n",
        "\n",
        "BorrowerAPR: The Borrower's Annual Percentage Rate (APR) for the loan.\n",
        "\n",
        "ProsperScore: A custom risk score built using historical Prosper data. The score ranges from 1-10, with 10 being the best, or * lowest risk score. Applicable for loans originated after July 2009.\n",
        "\n",
        "LoanOriginationDate: The date the loan was originated.\n",
        "\n",
        "LenderYield: The Lender yield on the loan. Lender yield is equal to the interest rate on the loan less the servicing fee."
      ],
      "metadata": {
        "id": "JrNZ6EJ3A1eL"
      }
    },
    {
      "cell_type": "markdown",
      "source": [
        "What features in the dataset do you think will help support your investigation into your feature(s) of interest?\n",
        "\n",
        "I think that Loan Status and Employment Status will have a strong impact on loan and the features we are trying to explor. Also the Monthly Income will play a role here and the Term (lenght of the loan) may have an effect. SO I will try to invistigate these more."
      ],
      "metadata": {
        "id": "NwcxonxiBaix"
      }
    },
    {
      "cell_type": "markdown",
      "source": [
        "# EDA: Exploratory Data Analysis"
      ],
      "metadata": {
        "id": "rbt5kPX5CI1i"
      }
    },
    {
      "cell_type": "markdown",
      "source": [
        "**Univariate Analysis** on the most important features: Borrower APR , Prosper Score and Loan Original Amount"
      ],
      "metadata": {
        "id": "MaR8Clf4CPra"
      }
    },
    {
      "cell_type": "code",
      "source": [
        "borrowe_APR_percentage = df_data['BorrowerAPR']*100\n",
        "\n",
        "plt.figure(figsize=[10, 5])\n",
        "plt.hist(x = borrowe_APR_percentage, bins = 10)\n",
        "plt.title('Borrower APR Distribution (%)')\n",
        "plt.xlabel('Borrower Annual Percentage Rate (%)')\n",
        "plt.ylabel('Count')\n",
        "plt.xticks([5, 10, 15, 20, 25, 30, 35, 40], ['5','10', '15', '20', '25', '30', '35', '40'])\n",
        "plt.show()\n"
      ],
      "metadata": {
        "colab": {
          "base_uri": "https://localhost:8080/",
          "height": 350
        },
        "id": "leDBAO-eAe6P",
        "outputId": "37a21463-60f1-42dd-a900-f63ade97b4d9"
      },
      "execution_count": null,
      "outputs": [
        {
          "output_type": "display_data",
          "data": {
            "text/plain": [
              "<Figure size 720x360 with 1 Axes>"
            ],
            "image/png": "[encoded data removed]"
          },
          "metadata": {
            "needs_background": "light"
          }
        }
      ]
    },
    {
      "cell_type": "code",
      "source": [
        "sns.countplot(data=df_data, x= 'ProsperScore', color= None)\n",
        "plt.title('Prosper Score Distribution')\n",
        "plt.xlabel('Prosper Score');"
      ],
      "metadata": {
        "colab": {
          "base_uri": "https://localhost:8080/",
          "height": 295
        },
        "id": "bknqSDvqFb1m",
        "outputId": "12e45beb-840e-4285-d846-375dc3c48f0f"
      },
      "execution_count": null,
      "outputs": [
        {
          "output_type": "display_data",
          "data": {
            "text/plain": [
              "<Figure size 432x288 with 1 Axes>"
            ],
            "image/png": "[encoded data removed]"
          },
          "metadata": {
            "needs_background": "light"
          }
        }
      ]
    },
    {
      "cell_type": "code",
      "source": [
        "plt.figure(figsize=[10, 8])\n",
        "plt.hist(data = df_data, x = 'LoanOriginalAmount', bins = 50)\n",
        "plt.title('Loan Original Amount Distribution')\n",
        "plt.xlabel('Loan Original Amount in $')\n",
        "plt.ylabel('Count')\n",
        "plt.show()\n"
      ],
      "metadata": {
        "colab": {
          "base_uri": "https://localhost:8080/",
          "height": 513
        },
        "id": "3HAx3Y3HF_gQ",
        "outputId": "7f867a84-ef71-4023-9e0a-0526f6c70ccf"
      },
      "execution_count": null,
      "outputs": [
        {
          "output_type": "display_data",
          "data": {
            "text/plain": [
              "<Figure size 720x576 with 1 Axes>"
            ],
            "image/png": "[encoded data removed]"
          },
          "metadata": {
            "needs_background": "light"
          }
        }
      ]
    },
    {
      "cell_type": "markdown",
      "source": [
        "**What I understood from this Univariate Analysis:** \n",
        "\n",
        "\n",
        "\n",
        "*   Borrower APR Distribution: The data is normally distributed and the peak values are from 15 to 20% with a spike at 35%\n",
        "\n",
        "*   Prosper Scores : The prosper scores are normally distributed and the values at 4 , 6 and 8 are the most common.\n",
        "\n",
        "* Loan Original Amount: The data is skewed with a tail.\n",
        "\n"
      ],
      "metadata": {
        "id": "QuTfU04CGvBL"
      }
    },
    {
      "cell_type": "code",
      "source": [
        "df_data['Term'].value_counts()"
      ],
      "metadata": {
        "colab": {
          "base_uri": "https://localhost:8080/"
        },
        "id": "4fMN73ogGXnY",
        "outputId": "9e5fe319-5c52-4b6f-b7af-60c75a656f3d"
      },
      "execution_count": null,
      "outputs": [
        {
          "output_type": "execute_result",
          "data": {
            "text/plain": [
              "36    87778\n",
              "60    24545\n",
              "12     1614\n",
              "Name: Term, dtype: int64"
            ]
          },
          "metadata": {},
          "execution_count": 21
        }
      ]
    },
    {
      "cell_type": "code",
      "source": [
        "sns.countplot(data=df_data,x= 'Term',color=None);\n",
        "plt.title('Terms of loan (Months)')\n",
        "plt.xlabel('Term (Months)')"
      ],
      "metadata": {
        "colab": {
          "base_uri": "https://localhost:8080/",
          "height": 312
        },
        "id": "qZIbVsY7HzHd",
        "outputId": "9a25a3f7-20b5-4abb-c4e1-20aa5148f93d"
      },
      "execution_count": null,
      "outputs": [
        {
          "output_type": "execute_result",
          "data": {
            "text/plain": [
              "Text(0.5, 0, 'Term (Months)')"
            ]
          },
          "metadata": {},
          "execution_count": 22
        },
        {
          "output_type": "display_data",
          "data": {
            "text/plain": [
              "<Figure size 432x288 with 1 Axes>"
            ],
            "image/png": "[encoded data removed]"
          },
          "metadata": {
            "needs_background": "light"
          }
        }
      ]
    },
    {
      "cell_type": "markdown",
      "source": [
        "Inference: We see that the most values are in 36 months"
      ],
      "metadata": {
        "id": "7sY7NEa7IVJP"
      }
    },
    {
      "cell_type": "code",
      "source": [
        "plt.figure(figsize=[12, 5])\n",
        "plt.hist(data = df_data[df_data['LoanCurrentDaysDelinquent']>0], x = 'LoanCurrentDaysDelinquent', bins = 50)\n",
        "plt.title('Loan Current Days Delinquent')\n",
        "plt.xlabel('Loan Current Days Delinquent (Days)')\n",
        "plt.ylabel('Count')\n",
        "plt.show()"
      ],
      "metadata": {
        "colab": {
          "base_uri": "https://localhost:8080/",
          "height": 350
        },
        "id": "ILuLGHLOIMwN",
        "outputId": "86e9d622-81f6-4962-e30e-9e2c6dde1991"
      },
      "execution_count": null,
      "outputs": [
        {
          "output_type": "display_data",
          "data": {
            "text/plain": [
              "<Figure size 864x360 with 1 Axes>"
            ],
            "image/png": "[encoded data removed]"
          },
          "metadata": {
            "needs_background": "light"
          }
        }
      ]
    },
    {
      "cell_type": "code",
      "source": [
        "plt.figure(figsize=[10, 6]);\n",
        "sns.countplot(data=df_data,x='ProsperRating (Alpha)',color=None)\n",
        "plt.title('Prosper Rating Distribution')"
      ],
      "metadata": {
        "colab": {
          "base_uri": "https://localhost:8080/",
          "height": 421
        },
        "id": "B7stUbkIJRCO",
        "outputId": "3dd3599e-e7de-457f-fd90-da7e65c5b8c0"
      },
      "execution_count": null,
      "outputs": [
        {
          "output_type": "execute_result",
          "data": {
            "text/plain": [
              "Text(0.5, 1.0, 'Prosper Rating Distribution')"
            ]
          },
          "metadata": {},
          "execution_count": 24
        },
        {
          "output_type": "display_data",
          "data": {
            "text/plain": [
              "<Figure size 720x432 with 1 Axes>"
            ],
            "image/png": "[encoded data removed]"
          },
          "metadata": {
            "needs_background": "light"
          }
        }
      ]
    },
    {
      "cell_type": "markdown",
      "source": [
        "**Inference:** Most borrowers get a Prosper Rating of 'C'"
      ],
      "metadata": {
        "id": "gK2XyIpgJjvm"
      }
    },
    {
      "cell_type": "code",
      "source": [
        "plt.figure(figsize=(20,10))\n",
        "\n",
        "sns.countplot(data=df_data,x= 'LoanStatus',color=None)\n",
        "plt.title('Loan Status')\n",
        "plt.xlabel('Status')"
      ],
      "metadata": {
        "colab": {
          "base_uri": "https://localhost:8080/",
          "height": 638
        },
        "id": "QLJH9m92JZId",
        "outputId": "7f00ae2e-cc3a-4e66-9b39-c80b80500f5d"
      },
      "execution_count": null,
      "outputs": [
        {
          "output_type": "execute_result",
          "data": {
            "text/plain": [
              "Text(0.5, 0, 'Status')"
            ]
          },
          "metadata": {},
          "execution_count": 25
        },
        {
          "output_type": "display_data",
          "data": {
            "text/plain": [
              "<Figure size 1440x720 with 1 Axes>"
            ],
            "image/png": "[encoded data removed]"
          },
          "metadata": {
            "needs_background": "light"
          }
        }
      ]
    },
    {
      "cell_type": "code",
      "source": [
        "sns.countplot(data=data,x= 'CreditGrade',color=None);\n",
        "plt.title('Credit Grade')\n",
        "plt.xlabel('Rating')"
      ],
      "metadata": {
        "colab": {
          "base_uri": "https://localhost:8080/",
          "height": 312
        },
        "id": "QrJJFK4GLsvk",
        "outputId": "2c19595d-5b10-42cb-9f99-4ccbbf5df13e"
      },
      "execution_count": null,
      "outputs": [
        {
          "output_type": "execute_result",
          "data": {
            "text/plain": [
              "Text(0.5, 0, 'Rating')"
            ]
          },
          "metadata": {},
          "execution_count": 26
        },
        {
          "output_type": "display_data",
          "data": {
            "text/plain": [
              "<Figure size 432x288 with 1 Axes>"
            ],
            "image/png": "[encoded data removed]"
          },
          "metadata": {
            "needs_background": "light"
          }
        }
      ]
    },
    {
      "cell_type": "markdown",
      "source": [
        "Inference: The most number of Borrowers Credit Grade is C , followed by D and B."
      ],
      "metadata": {
        "id": "aykJqC5LNPvZ"
      }
    },
    {
      "cell_type": "code",
      "source": [
        "plt.figure(figsize=[8, 5])\n",
        "plt.hist(data = df_data, x = 'BorrowerRate', bins = 50)\n",
        "plt.xlabel('BorrowerRate')\n",
        "plt.ylabel('count')\n",
        "plt.title('Borrower Rate')\n",
        "plt.show()"
      ],
      "metadata": {
        "colab": {
          "base_uri": "https://localhost:8080/",
          "height": 350
        },
        "id": "zvaF5UcFN8Iu",
        "outputId": "fe388507-5261-43e0-9dd3-839d4979c1b6"
      },
      "execution_count": null,
      "outputs": [
        {
          "output_type": "display_data",
          "data": {
            "text/plain": [
              "<Figure size 576x360 with 1 Axes>"
            ],
            "image/png": "[encoded data removed]"
          },
          "metadata": {
            "needs_background": "light"
          }
        }
      ]
    },
    {
      "cell_type": "code",
      "source": [
        "plt.figure(figsize=[8, 5])\n",
        "plt.hist(data = df_data, x = 'LenderYield', bins = 25)\n",
        "plt.xlabel('Lender Yield')\n",
        "plt.title('Lender Yield Distribution')\n",
        "plt.ylabel('count')\n",
        "plt.show()\n"
      ],
      "metadata": {
        "colab": {
          "base_uri": "https://localhost:8080/",
          "height": 350
        },
        "id": "QCk1-bLVONkh",
        "outputId": "fdb39aee-7f37-461b-dd1f-390d578193e1"
      },
      "execution_count": null,
      "outputs": [
        {
          "output_type": "display_data",
          "data": {
            "text/plain": [
              "<Figure size 576x360 with 1 Axes>"
            ],
            "image/png": "[encoded data removed]"
          },
          "metadata": {
            "needs_background": "light"
          }
        }
      ]
    },
    {
      "cell_type": "markdown",
      "source": [
        "**Bivariate Analysis**"
      ],
      "metadata": {
        "id": "qL6kIa3zQQho"
      }
    },
    {
      "cell_type": "code",
      "source": [
        "plt.figure(figsize = [15, 5])\n",
        "sns.violinplot(data=data,x='CreditGrade', y='MonthlyLoanPayment',color=None);\n",
        "plt.title('credit grade v/s Montly payment')\n",
        "plt.xlabel('CreditGrade');\n",
        "plt.ylabel('MonthlyLoanPayment');"
      ],
      "metadata": {
        "colab": {
          "base_uri": "https://localhost:8080/",
          "height": 350
        },
        "id": "szVhI7nuQUpl",
        "outputId": "ebf86cab-89df-42d3-d449-ec86cd198fa4"
      },
      "execution_count": null,
      "outputs": [
        {
          "output_type": "display_data",
          "data": {
            "text/plain": [
              "<Figure size 1080x360 with 1 Axes>"
            ],
            "image/png": "[encoded data removed]"
          },
          "metadata": {
            "needs_background": "light"
          }
        }
      ]
    },
    {
      "cell_type": "code",
      "source": [
        "plt.figsize=(16,16)\n",
        "sns.lineplot(data=data,x='CreditGrade',y='LoanStatus',hue=None,markers=None, style_order=None)\n",
        "plt.show()"
      ],
      "metadata": {
        "colab": {
          "base_uri": "https://localhost:8080/",
          "height": 279
        },
        "id": "IpI6RR7uQmDU",
        "outputId": "332838a0-d3ab-4ad1-ea04-0319bab0d442"
      },
      "execution_count": null,
      "outputs": [
        {
          "output_type": "display_data",
          "data": {
            "text/plain": [
              "<Figure size 432x288 with 1 Axes>"
            ],
            "image/png": "[encoded data removed]"
          },
          "metadata": {
            "needs_background": "light"
          }
        }
      ]
    },
    {
      "cell_type": "markdown",
      "source": [
        "**MultiVariate Relations:**"
      ],
      "metadata": {
        "id": "T2jdc4P4UWut"
      }
    },
    {
      "cell_type": "code",
      "source": [],
      "metadata": {
        "id": "x2oXcBnETeME"
      },
      "execution_count": null,
      "outputs": []
    },
    {
      "cell_type": "code",
      "source": [],
      "metadata": {
        "id": "WYeR4gyLVbuN"
      },
      "execution_count": null,
      "outputs": []
    },
    {
      "cell_type": "markdown",
      "source": [
        "**Research Questions:**\n",
        "\n",
        "1. Most number of borrowers of Credit Grade : C , D followed by A\n",
        "\n",
        "2. \n",
        "\n",
        "3. Highest number of Borrower Rate: Between 0.1 and 0.2\n",
        "\n",
        "4. Does the highest number of LenderYeild is between 0.1 and 0.2? YES\n",
        "\n",
        "5. Is the Credit Grade really accurate? YES. The higher credit grade leads to higher Monthly Loan Payment.\n",
        "\n",
        "6. Accuarcy of Credit Grade as of Loan Status : It can be seen in the graph that it is highly accurate.\n",
        "\n",
        "7."
      ],
      "metadata": {
        "id": "v6CTAM7WaC5Q"
      }
    },
    {
      "cell_type": "code",
      "source": [
        "\n"
      ],
      "metadata": {
        "id": "ANUkdwcWbwn6"
      },
      "execution_count": null,
      "outputs": []
    }
  ]
}