{
 "cells": [
  {
   "cell_type": "markdown",
   "id": "cacacdc8",
   "metadata": {
    "papermill": {
     "duration": 0.133662,
     "end_time": "2022-01-21T16:31:08.784104",
     "exception": false,
     "start_time": "2022-01-21T16:31:08.650442",
     "status": "completed"
    },
    "tags": []
   },
   "source": [
    "<a id='1'></a>\n",
    "# Project Descriprion"
   ]
  },
  {
   "cell_type": "markdown",
   "id": "b697a806",
   "metadata": {
    "papermill": {
     "duration": 0.133796,
     "end_time": "2022-01-21T16:31:09.049656",
     "exception": false,
     "start_time": "2022-01-21T16:31:08.915860",
     "status": "completed"
    },
    "tags": []
   },
   "source": [
    "The aim is to build a predictive model and find out the sales of each product at a particular store. Using this model, BigMart will try to understand the properties of products and stores which play a key role in increasing sales."
   ]
  },
  {
   "cell_type": "markdown",
   "id": "1a53dc6d",
   "metadata": {
    "papermill": {
     "duration": 0.135136,
     "end_time": "2022-01-21T16:31:09.588152",
     "exception": false,
     "start_time": "2022-01-21T16:31:09.453016",
     "status": "completed"
    },
    "tags": []
   },
   "source": [
    "<a id='2'></a>\n",
    "# Import Necssaries Libraries"
   ]
  },
  {
   "cell_type": "code",
   "execution_count": 1,
   "id": "44598b27",
   "metadata": {
    "ExecuteTime": {
     "end_time": "2022-01-05T04:03:02.082372Z",
     "start_time": "2022-01-05T04:03:02.061441Z"
    },
    "execution": {
     "iopub.execute_input": "2022-01-21T16:31:09.865505Z",
     "iopub.status.busy": "2022-01-21T16:31:09.864835Z",
     "iopub.status.idle": "2022-01-21T16:31:11.975015Z",
     "shell.execute_reply": "2022-01-21T16:31:11.974377Z"
    },
    "papermill": {
     "duration": 2.25148,
     "end_time": "2022-01-21T16:31:11.975155",
     "exception": false,
     "start_time": "2022-01-21T16:31:09.723675",
     "status": "completed"
    },
    "tags": []
   },
   "outputs": [],
   "source": [
    "import pandas as pd\n",
    "import numpy as np\n",
    "from matplotlib import pyplot as plt\n",
    "%matplotlib inline\n",
    "import seaborn as sns\n",
    "\n",
    "from sklearn.preprocessing import LabelEncoder\n",
    "from sklearn.model_selection import train_test_split\n",
    "from sklearn.preprocessing import StandardScaler\n",
    "from sklearn.linear_model import LinearRegression\n",
    "from sklearn.model_selection import cross_val_score\n",
    "from sklearn.ensemble import RandomForestRegressor, GradientBoostingRegressor, BaggingRegressor\n",
    "from sklearn.svm import SVR\n",
    "from sklearn.tree import DecisionTreeRegressor\n",
    "from sklearn.metrics import r2_score\n",
    "from xgboost import XGBRegressor"
   ]
  },
  {
   "cell_type": "markdown",
   "id": "2a9b77e9",
   "metadata": {
    "papermill": {
     "duration": 0.08742,
     "end_time": "2022-01-21T16:31:12.322459",
     "exception": false,
     "start_time": "2022-01-21T16:31:12.235039",
     "status": "completed"
    },
    "tags": []
   },
   "source": [
    "<a id='3'></a>\n",
    "# Exploaring the data"
   ]
  },
  {
   "cell_type": "code",
   "execution_count": 2,
   "id": "9abc544d",
   "metadata": {
    "ExecuteTime": {
     "end_time": "2022-01-05T02:35:25.520196Z",
     "start_time": "2022-01-05T02:35:25.474336Z"
    },
    "execution": {
     "iopub.execute_input": "2022-01-21T16:31:12.501684Z",
     "iopub.status.busy": "2022-01-21T16:31:12.501139Z",
     "iopub.status.idle": "2022-01-21T16:31:12.586615Z",
     "shell.execute_reply": "2022-01-21T16:31:12.587189Z"
    },
    "papermill": {
     "duration": 0.177866,
     "end_time": "2022-01-21T16:31:12.587370",
     "exception": false,
     "start_time": "2022-01-21T16:31:12.409504",
     "status": "completed"
    },
    "scrolled": true,
    "tags": []
   },
   "outputs": [
    {
     "data": {
      "text/html": [
       "<div>\n",
       "<style scoped>\n",
       "    .dataframe tbody tr th:only-of-type {\n",
       "        vertical-align: middle;\n",
       "    }\n",
       "\n",
       "    .dataframe tbody tr th {\n",
       "        vertical-align: top;\n",
       "    }\n",
       "\n",
       "    .dataframe thead th {\n",
       "        text-align: right;\n",
       "    }\n",
       "</style>\n",
       "<table border=\"1\" class=\"dataframe\">\n",
       "  <thead>\n",
       "    <tr style=\"text-align: right;\">\n",
       "      <th></th>\n",
       "      <th>Item_Identifier</th>\n",
       "      <th>Item_Weight</th>\n",
       "      <th>Item_Fat_Content</th>\n",
       "      <th>Item_Visibility</th>\n",
       "      <th>Item_Type</th>\n",
       "      <th>Item_MRP</th>\n",
       "      <th>Outlet_Identifier</th>\n",
       "      <th>Outlet_Establishment_Year</th>\n",
       "      <th>Outlet_Size</th>\n",
       "      <th>Outlet_Location_Type</th>\n",
       "      <th>Outlet_Type</th>\n",
       "      <th>Item_Outlet_Sales</th>\n",
       "    </tr>\n",
       "  </thead>\n",
       "  <tbody>\n",
       "    <tr>\n",
       "      <th>0</th>\n",
       "      <td>FDA15</td>\n",
       "      <td>9.30</td>\n",
       "      <td>Low Fat</td>\n",
       "      <td>0.016047</td>\n",
       "      <td>Dairy</td>\n",
       "      <td>249.8092</td>\n",
       "      <td>OUT049</td>\n",
       "      <td>1999</td>\n",
       "      <td>Medium</td>\n",
       "      <td>Tier 1</td>\n",
       "      <td>Supermarket Type1</td>\n",
       "      <td>3735.1380</td>\n",
       "    </tr>\n",
       "    <tr>\n",
       "      <th>1</th>\n",
       "      <td>DRC01</td>\n",
       "      <td>5.92</td>\n",
       "      <td>Regular</td>\n",
       "      <td>0.019278</td>\n",
       "      <td>Soft Drinks</td>\n",
       "      <td>48.2692</td>\n",
       "      <td>OUT018</td>\n",
       "      <td>2009</td>\n",
       "      <td>Medium</td>\n",
       "      <td>Tier 3</td>\n",
       "      <td>Supermarket Type2</td>\n",
       "      <td>443.4228</td>\n",
       "    </tr>\n",
       "    <tr>\n",
       "      <th>2</th>\n",
       "      <td>FDN15</td>\n",
       "      <td>17.50</td>\n",
       "      <td>Low Fat</td>\n",
       "      <td>0.016760</td>\n",
       "      <td>Meat</td>\n",
       "      <td>141.6180</td>\n",
       "      <td>OUT049</td>\n",
       "      <td>1999</td>\n",
       "      <td>Medium</td>\n",
       "      <td>Tier 1</td>\n",
       "      <td>Supermarket Type1</td>\n",
       "      <td>2097.2700</td>\n",
       "    </tr>\n",
       "    <tr>\n",
       "      <th>3</th>\n",
       "      <td>FDX07</td>\n",
       "      <td>19.20</td>\n",
       "      <td>Regular</td>\n",
       "      <td>0.000000</td>\n",
       "      <td>Fruits and Vegetables</td>\n",
       "      <td>182.0950</td>\n",
       "      <td>OUT010</td>\n",
       "      <td>1998</td>\n",
       "      <td>NaN</td>\n",
       "      <td>Tier 3</td>\n",
       "      <td>Grocery Store</td>\n",
       "      <td>732.3800</td>\n",
       "    </tr>\n",
       "    <tr>\n",
       "      <th>4</th>\n",
       "      <td>NCD19</td>\n",
       "      <td>8.93</td>\n",
       "      <td>Low Fat</td>\n",
       "      <td>0.000000</td>\n",
       "      <td>Household</td>\n",
       "      <td>53.8614</td>\n",
       "      <td>OUT013</td>\n",
       "      <td>1987</td>\n",
       "      <td>High</td>\n",
       "      <td>Tier 3</td>\n",
       "      <td>Supermarket Type1</td>\n",
       "      <td>994.7052</td>\n",
       "    </tr>\n",
       "  </tbody>\n",
       "</table>\n",
       "</div>"
      ],
      "text/plain": [
       "  Item_Identifier  Item_Weight Item_Fat_Content  Item_Visibility  \\\n",
       "0           FDA15         9.30          Low Fat         0.016047   \n",
       "1           DRC01         5.92          Regular         0.019278   \n",
       "2           FDN15        17.50          Low Fat         0.016760   \n",
       "3           FDX07        19.20          Regular         0.000000   \n",
       "4           NCD19         8.93          Low Fat         0.000000   \n",
       "\n",
       "               Item_Type  Item_MRP Outlet_Identifier  \\\n",
       "0                  Dairy  249.8092            OUT049   \n",
       "1            Soft Drinks   48.2692            OUT018   \n",
       "2                   Meat  141.6180            OUT049   \n",
       "3  Fruits and Vegetables  182.0950            OUT010   \n",
       "4              Household   53.8614            OUT013   \n",
       "\n",
       "   Outlet_Establishment_Year Outlet_Size Outlet_Location_Type  \\\n",
       "0                       1999      Medium               Tier 1   \n",
       "1                       2009      Medium               Tier 3   \n",
       "2                       1999      Medium               Tier 1   \n",
       "3                       1998         NaN               Tier 3   \n",
       "4                       1987        High               Tier 3   \n",
       "\n",
       "         Outlet_Type  Item_Outlet_Sales  \n",
       "0  Supermarket Type1          3735.1380  \n",
       "1  Supermarket Type2           443.4228  \n",
       "2  Supermarket Type1          2097.2700  \n",
       "3      Grocery Store           732.3800  \n",
       "4  Supermarket Type1           994.7052  "
      ]
     },
     "execution_count": 2,
     "metadata": {},
     "output_type": "execute_result"
    }
   ],
   "source": [
    "train = pd.read_csv('Train.csv') # read train data\n",
    "train.head()"
   ]
  },
  {
   "cell_type": "code",
   "execution_count": 3,
   "id": "ac119abb",
   "metadata": {
    "ExecuteTime": {
     "end_time": "2022-01-05T02:35:26.091332Z",
     "start_time": "2022-01-05T02:35:26.058415Z"
    },
    "execution": {
     "iopub.execute_input": "2022-01-21T16:31:12.862804Z",
     "iopub.status.busy": "2022-01-21T16:31:12.861950Z",
     "iopub.status.idle": "2022-01-21T16:31:12.930532Z",
     "shell.execute_reply": "2022-01-21T16:31:12.931086Z"
    },
    "papermill": {
     "duration": 0.205468,
     "end_time": "2022-01-21T16:31:12.931273",
     "exception": false,
     "start_time": "2022-01-21T16:31:12.725805",
     "status": "completed"
    },
    "tags": []
   },
   "outputs": [
    {
     "data": {
      "text/html": [
       "<div>\n",
       "<style scoped>\n",
       "    .dataframe tbody tr th:only-of-type {\n",
       "        vertical-align: middle;\n",
       "    }\n",
       "\n",
       "    .dataframe tbody tr th {\n",
       "        vertical-align: top;\n",
       "    }\n",
       "\n",
       "    .dataframe thead th {\n",
       "        text-align: right;\n",
       "    }\n",
       "</style>\n",
       "<table border=\"1\" class=\"dataframe\">\n",
       "  <thead>\n",
       "    <tr style=\"text-align: right;\">\n",
       "      <th></th>\n",
       "      <th>Item_Identifier</th>\n",
       "      <th>Item_Weight</th>\n",
       "      <th>Item_Fat_Content</th>\n",
       "      <th>Item_Visibility</th>\n",
       "      <th>Item_Type</th>\n",
       "      <th>Item_MRP</th>\n",
       "      <th>Outlet_Identifier</th>\n",
       "      <th>Outlet_Establishment_Year</th>\n",
       "      <th>Outlet_Size</th>\n",
       "      <th>Outlet_Location_Type</th>\n",
       "      <th>Outlet_Type</th>\n",
       "    </tr>\n",
       "  </thead>\n",
       "  <tbody>\n",
       "    <tr>\n",
       "      <th>0</th>\n",
       "      <td>FDW58</td>\n",
       "      <td>20.750</td>\n",
       "      <td>Low Fat</td>\n",
       "      <td>0.007565</td>\n",
       "      <td>Snack Foods</td>\n",
       "      <td>107.8622</td>\n",
       "      <td>OUT049</td>\n",
       "      <td>1999</td>\n",
       "      <td>Medium</td>\n",
       "      <td>Tier 1</td>\n",
       "      <td>Supermarket Type1</td>\n",
       "    </tr>\n",
       "    <tr>\n",
       "      <th>1</th>\n",
       "      <td>FDW14</td>\n",
       "      <td>8.300</td>\n",
       "      <td>reg</td>\n",
       "      <td>0.038428</td>\n",
       "      <td>Dairy</td>\n",
       "      <td>87.3198</td>\n",
       "      <td>OUT017</td>\n",
       "      <td>2007</td>\n",
       "      <td>NaN</td>\n",
       "      <td>Tier 2</td>\n",
       "      <td>Supermarket Type1</td>\n",
       "    </tr>\n",
       "    <tr>\n",
       "      <th>2</th>\n",
       "      <td>NCN55</td>\n",
       "      <td>14.600</td>\n",
       "      <td>Low Fat</td>\n",
       "      <td>0.099575</td>\n",
       "      <td>Others</td>\n",
       "      <td>241.7538</td>\n",
       "      <td>OUT010</td>\n",
       "      <td>1998</td>\n",
       "      <td>NaN</td>\n",
       "      <td>Tier 3</td>\n",
       "      <td>Grocery Store</td>\n",
       "    </tr>\n",
       "    <tr>\n",
       "      <th>3</th>\n",
       "      <td>FDQ58</td>\n",
       "      <td>7.315</td>\n",
       "      <td>Low Fat</td>\n",
       "      <td>0.015388</td>\n",
       "      <td>Snack Foods</td>\n",
       "      <td>155.0340</td>\n",
       "      <td>OUT017</td>\n",
       "      <td>2007</td>\n",
       "      <td>NaN</td>\n",
       "      <td>Tier 2</td>\n",
       "      <td>Supermarket Type1</td>\n",
       "    </tr>\n",
       "    <tr>\n",
       "      <th>4</th>\n",
       "      <td>FDY38</td>\n",
       "      <td>NaN</td>\n",
       "      <td>Regular</td>\n",
       "      <td>0.118599</td>\n",
       "      <td>Dairy</td>\n",
       "      <td>234.2300</td>\n",
       "      <td>OUT027</td>\n",
       "      <td>1985</td>\n",
       "      <td>Medium</td>\n",
       "      <td>Tier 3</td>\n",
       "      <td>Supermarket Type3</td>\n",
       "    </tr>\n",
       "  </tbody>\n",
       "</table>\n",
       "</div>"
      ],
      "text/plain": [
       "  Item_Identifier  Item_Weight Item_Fat_Content  Item_Visibility    Item_Type  \\\n",
       "0           FDW58       20.750          Low Fat         0.007565  Snack Foods   \n",
       "1           FDW14        8.300              reg         0.038428        Dairy   \n",
       "2           NCN55       14.600          Low Fat         0.099575       Others   \n",
       "3           FDQ58        7.315          Low Fat         0.015388  Snack Foods   \n",
       "4           FDY38          NaN          Regular         0.118599        Dairy   \n",
       "\n",
       "   Item_MRP Outlet_Identifier  Outlet_Establishment_Year Outlet_Size  \\\n",
       "0  107.8622            OUT049                       1999      Medium   \n",
       "1   87.3198            OUT017                       2007         NaN   \n",
       "2  241.7538            OUT010                       1998         NaN   \n",
       "3  155.0340            OUT017                       2007         NaN   \n",
       "4  234.2300            OUT027                       1985      Medium   \n",
       "\n",
       "  Outlet_Location_Type        Outlet_Type  \n",
       "0               Tier 1  Supermarket Type1  \n",
       "1               Tier 2  Supermarket Type1  \n",
       "2               Tier 3      Grocery Store  \n",
       "3               Tier 2  Supermarket Type1  \n",
       "4               Tier 3  Supermarket Type3  "
      ]
     },
     "execution_count": 3,
     "metadata": {},
     "output_type": "execute_result"
    }
   ],
   "source": [
    "test = pd.read_csv('Test.csv') # read test data\n",
    "test.head()"
   ]
  },
  {
   "cell_type": "code",
   "execution_count": 4,
   "id": "47353103",
   "metadata": {
    "ExecuteTime": {
     "end_time": "2022-01-05T02:35:28.741081Z",
     "start_time": "2022-01-05T02:35:28.728136Z"
    },
    "execution": {
     "iopub.execute_input": "2022-01-21T16:31:13.207148Z",
     "iopub.status.busy": "2022-01-21T16:31:13.206288Z",
     "iopub.status.idle": "2022-01-21T16:31:13.213299Z",
     "shell.execute_reply": "2022-01-21T16:31:13.213692Z"
    },
    "papermill": {
     "duration": 0.146752,
     "end_time": "2022-01-21T16:31:13.213878",
     "exception": false,
     "start_time": "2022-01-21T16:31:13.067126",
     "status": "completed"
    },
    "tags": []
   },
   "outputs": [
    {
     "data": {
      "text/plain": [
       "(8523, 12)"
      ]
     },
     "execution_count": 4,
     "metadata": {},
     "output_type": "execute_result"
    }
   ],
   "source": [
    "train.shape # in train dataset we have 8523 rows and 12 columns"
   ]
  },
  {
   "cell_type": "code",
   "execution_count": 5,
   "id": "d6bee48a",
   "metadata": {
    "ExecuteTime": {
     "end_time": "2022-01-05T02:35:29.781904Z",
     "start_time": "2022-01-05T02:35:29.770932Z"
    },
    "execution": {
     "iopub.execute_input": "2022-01-21T16:31:13.392346Z",
     "iopub.status.busy": "2022-01-21T16:31:13.391790Z",
     "iopub.status.idle": "2022-01-21T16:31:13.397007Z",
     "shell.execute_reply": "2022-01-21T16:31:13.397499Z"
    },
    "papermill": {
     "duration": 0.095807,
     "end_time": "2022-01-21T16:31:13.397648",
     "exception": false,
     "start_time": "2022-01-21T16:31:13.301841",
     "status": "completed"
    },
    "tags": []
   },
   "outputs": [
    {
     "data": {
      "text/plain": [
       "(5681, 11)"
      ]
     },
     "execution_count": 5,
     "metadata": {},
     "output_type": "execute_result"
    }
   ],
   "source": [
    "test.shape # in test dataset we have 5681 rows and 11 columns"
   ]
  },
  {
   "cell_type": "code",
   "execution_count": 6,
   "id": "55dc4205",
   "metadata": {
    "ExecuteTime": {
     "end_time": "2022-01-05T02:35:30.304495Z",
     "start_time": "2022-01-05T02:35:30.289546Z"
    },
    "execution": {
     "iopub.execute_input": "2022-01-21T16:31:13.576899Z",
     "iopub.status.busy": "2022-01-21T16:31:13.576312Z",
     "iopub.status.idle": "2022-01-21T16:31:13.611868Z",
     "shell.execute_reply": "2022-01-21T16:31:13.612376Z"
    },
    "papermill": {
     "duration": 0.126656,
     "end_time": "2022-01-21T16:31:13.612565",
     "exception": false,
     "start_time": "2022-01-21T16:31:13.485909",
     "status": "completed"
    },
    "tags": []
   },
   "outputs": [
    {
     "name": "stdout",
     "output_type": "stream",
     "text": [
      "<class 'pandas.core.frame.DataFrame'>\n",
      "RangeIndex: 8523 entries, 0 to 8522\n",
      "Data columns (total 12 columns):\n",
      " #   Column                     Non-Null Count  Dtype  \n",
      "---  ------                     --------------  -----  \n",
      " 0   Item_Identifier            8523 non-null   object \n",
      " 1   Item_Weight                7060 non-null   float64\n",
      " 2   Item_Fat_Content           8523 non-null   object \n",
      " 3   Item_Visibility            8523 non-null   float64\n",
      " 4   Item_Type                  8523 non-null   object \n",
      " 5   Item_MRP                   8523 non-null   float64\n",
      " 6   Outlet_Identifier          8523 non-null   object \n",
      " 7   Outlet_Establishment_Year  8523 non-null   int64  \n",
      " 8   Outlet_Size                6113 non-null   object \n",
      " 9   Outlet_Location_Type       8523 non-null   object \n",
      " 10  Outlet_Type                8523 non-null   object \n",
      " 11  Item_Outlet_Sales          8523 non-null   float64\n",
      "dtypes: float64(4), int64(1), object(7)\n",
      "memory usage: 799.2+ KB\n"
     ]
    }
   ],
   "source": [
    "train.info() "
   ]
  },
  {
   "cell_type": "code",
   "execution_count": 7,
   "id": "cb259e95",
   "metadata": {
    "ExecuteTime": {
     "end_time": "2022-01-05T02:35:30.841974Z",
     "start_time": "2022-01-05T02:35:30.823024Z"
    },
    "execution": {
     "iopub.execute_input": "2022-01-21T16:31:13.793179Z",
     "iopub.status.busy": "2022-01-21T16:31:13.792635Z",
     "iopub.status.idle": "2022-01-21T16:31:13.811655Z",
     "shell.execute_reply": "2022-01-21T16:31:13.811110Z"
    },
    "papermill": {
     "duration": 0.110196,
     "end_time": "2022-01-21T16:31:13.811831",
     "exception": false,
     "start_time": "2022-01-21T16:31:13.701635",
     "status": "completed"
    },
    "scrolled": true,
    "tags": []
   },
   "outputs": [
    {
     "name": "stdout",
     "output_type": "stream",
     "text": [
      "<class 'pandas.core.frame.DataFrame'>\n",
      "RangeIndex: 5681 entries, 0 to 5680\n",
      "Data columns (total 11 columns):\n",
      " #   Column                     Non-Null Count  Dtype  \n",
      "---  ------                     --------------  -----  \n",
      " 0   Item_Identifier            5681 non-null   object \n",
      " 1   Item_Weight                4705 non-null   float64\n",
      " 2   Item_Fat_Content           5681 non-null   object \n",
      " 3   Item_Visibility            5681 non-null   float64\n",
      " 4   Item_Type                  5681 non-null   object \n",
      " 5   Item_MRP                   5681 non-null   float64\n",
      " 6   Outlet_Identifier          5681 non-null   object \n",
      " 7   Outlet_Establishment_Year  5681 non-null   int64  \n",
      " 8   Outlet_Size                4075 non-null   object \n",
      " 9   Outlet_Location_Type       5681 non-null   object \n",
      " 10  Outlet_Type                5681 non-null   object \n",
      "dtypes: float64(3), int64(1), object(7)\n",
      "memory usage: 488.3+ KB\n"
     ]
    }
   ],
   "source": [
    "test.info()"
   ]
  },
  {
   "cell_type": "code",
   "execution_count": 8,
   "id": "d8038e15",
   "metadata": {
    "ExecuteTime": {
     "end_time": "2022-01-05T02:35:31.395406Z",
     "start_time": "2022-01-05T02:35:31.377529Z"
    },
    "execution": {
     "iopub.execute_input": "2022-01-21T16:31:14.004968Z",
     "iopub.status.busy": "2022-01-21T16:31:13.998821Z",
     "iopub.status.idle": "2022-01-21T16:31:14.015358Z",
     "shell.execute_reply": "2022-01-21T16:31:14.015859Z"
    },
    "papermill": {
     "duration": 0.110476,
     "end_time": "2022-01-21T16:31:14.016003",
     "exception": false,
     "start_time": "2022-01-21T16:31:13.905527",
     "status": "completed"
    },
    "tags": []
   },
   "outputs": [
    {
     "data": {
      "text/plain": [
       "Item_Identifier              1559\n",
       "Item_Weight                   415\n",
       "Item_Fat_Content                5\n",
       "Item_Visibility              7880\n",
       "Item_Type                      16\n",
       "Item_MRP                     5938\n",
       "Outlet_Identifier              10\n",
       "Outlet_Establishment_Year       9\n",
       "Outlet_Size                     3\n",
       "Outlet_Location_Type            3\n",
       "Outlet_Type                     4\n",
       "Item_Outlet_Sales            3493\n",
       "dtype: int64"
      ]
     },
     "execution_count": 8,
     "metadata": {},
     "output_type": "execute_result"
    }
   ],
   "source": [
    "train.nunique()"
   ]
  },
  {
   "cell_type": "code",
   "execution_count": 9,
   "id": "29f62096",
   "metadata": {
    "ExecuteTime": {
     "end_time": "2022-01-05T02:35:32.057113Z",
     "start_time": "2022-01-05T02:35:32.037165Z"
    },
    "execution": {
     "iopub.execute_input": "2022-01-21T16:31:14.198508Z",
     "iopub.status.busy": "2022-01-21T16:31:14.197790Z",
     "iopub.status.idle": "2022-01-21T16:31:14.209074Z",
     "shell.execute_reply": "2022-01-21T16:31:14.209458Z"
    },
    "papermill": {
     "duration": 0.103815,
     "end_time": "2022-01-21T16:31:14.209625",
     "exception": false,
     "start_time": "2022-01-21T16:31:14.105810",
     "status": "completed"
    },
    "tags": []
   },
   "outputs": [
    {
     "data": {
      "text/plain": [
       "Item_Identifier              1543\n",
       "Item_Weight                   410\n",
       "Item_Fat_Content                5\n",
       "Item_Visibility              5277\n",
       "Item_Type                      16\n",
       "Item_MRP                     4402\n",
       "Outlet_Identifier              10\n",
       "Outlet_Establishment_Year       9\n",
       "Outlet_Size                     3\n",
       "Outlet_Location_Type            3\n",
       "Outlet_Type                     4\n",
       "dtype: int64"
      ]
     },
     "execution_count": 9,
     "metadata": {},
     "output_type": "execute_result"
    }
   ],
   "source": [
    "test.nunique()"
   ]
  },
  {
   "cell_type": "markdown",
   "id": "f1dd9499",
   "metadata": {
    "papermill": {
     "duration": 0.08806,
     "end_time": "2022-01-21T16:31:14.389216",
     "exception": false,
     "start_time": "2022-01-21T16:31:14.301156",
     "status": "completed"
    },
    "tags": []
   },
   "source": [
    "Categorical Features:\n",
    "\n",
    "Item_Fat_Content<br>\n",
    "Item_Type<br>\n",
    "Outlet_Identifier<br>\n",
    "Outlet_Size<br>\n",
    "Outlet_Location_Type<br>\n",
    "Outlet_Type"
   ]
  },
  {
   "cell_type": "code",
   "execution_count": 10,
   "id": "d11a7188",
   "metadata": {
    "ExecuteTime": {
     "end_time": "2022-01-05T02:35:33.334673Z",
     "start_time": "2022-01-05T02:35:33.313729Z"
    },
    "execution": {
     "iopub.execute_input": "2022-01-21T16:31:14.578246Z",
     "iopub.status.busy": "2022-01-21T16:31:14.569678Z",
     "iopub.status.idle": "2022-01-21T16:31:14.586294Z",
     "shell.execute_reply": "2022-01-21T16:31:14.585822Z"
    },
    "papermill": {
     "duration": 0.108062,
     "end_time": "2022-01-21T16:31:14.586429",
     "exception": false,
     "start_time": "2022-01-21T16:31:14.478367",
     "status": "completed"
    },
    "tags": []
   },
   "outputs": [
    {
     "data": {
      "text/plain": [
       "Index(['Item_Weight', 'Outlet_Size'], dtype='object')"
      ]
     },
     "execution_count": 10,
     "metadata": {},
     "output_type": "execute_result"
    }
   ],
   "source": [
    "train.columns[train.isna().any()]"
   ]
  },
  {
   "cell_type": "code",
   "execution_count": 11,
   "id": "99344c91",
   "metadata": {
    "ExecuteTime": {
     "end_time": "2022-01-05T02:35:33.857277Z",
     "start_time": "2022-01-05T02:35:33.840323Z"
    },
    "execution": {
     "iopub.execute_input": "2022-01-21T16:31:14.770064Z",
     "iopub.status.busy": "2022-01-21T16:31:14.769469Z",
     "iopub.status.idle": "2022-01-21T16:31:14.778186Z",
     "shell.execute_reply": "2022-01-21T16:31:14.778663Z"
    },
    "papermill": {
     "duration": 0.103015,
     "end_time": "2022-01-21T16:31:14.778822",
     "exception": false,
     "start_time": "2022-01-21T16:31:14.675807",
     "status": "completed"
    },
    "tags": []
   },
   "outputs": [
    {
     "data": {
      "text/plain": [
       "Index(['Item_Weight', 'Outlet_Size'], dtype='object')"
      ]
     },
     "execution_count": 11,
     "metadata": {},
     "output_type": "execute_result"
    }
   ],
   "source": [
    "test.columns[test.isna().any()]"
   ]
  },
  {
   "cell_type": "code",
   "execution_count": 12,
   "id": "73b83ef2",
   "metadata": {
    "ExecuteTime": {
     "end_time": "2022-01-05T02:35:34.39783Z",
     "start_time": "2022-01-05T02:35:34.380877Z"
    },
    "execution": {
     "iopub.execute_input": "2022-01-21T16:31:14.974873Z",
     "iopub.status.busy": "2022-01-21T16:31:14.973975Z",
     "iopub.status.idle": "2022-01-21T16:31:14.988697Z",
     "shell.execute_reply": "2022-01-21T16:31:14.988020Z"
    },
    "papermill": {
     "duration": 0.119846,
     "end_time": "2022-01-21T16:31:14.988899",
     "exception": false,
     "start_time": "2022-01-21T16:31:14.869053",
     "status": "completed"
    },
    "tags": []
   },
   "outputs": [
    {
     "data": {
      "text/plain": [
       "Item_Identifier                 0\n",
       "Item_Weight                  1463\n",
       "Item_Fat_Content                0\n",
       "Item_Visibility                 0\n",
       "Item_Type                       0\n",
       "Item_MRP                        0\n",
       "Outlet_Identifier               0\n",
       "Outlet_Establishment_Year       0\n",
       "Outlet_Size                  2410\n",
       "Outlet_Location_Type            0\n",
       "Outlet_Type                     0\n",
       "Item_Outlet_Sales               0\n",
       "dtype: int64"
      ]
     },
     "execution_count": 12,
     "metadata": {},
     "output_type": "execute_result"
    }
   ],
   "source": [
    "train.isnull().sum()"
   ]
  },
  {
   "cell_type": "code",
   "execution_count": 13,
   "id": "13030eee",
   "metadata": {
    "ExecuteTime": {
     "end_time": "2022-01-05T02:35:34.935391Z",
     "start_time": "2022-01-05T02:35:34.911456Z"
    },
    "execution": {
     "iopub.execute_input": "2022-01-21T16:31:15.283799Z",
     "iopub.status.busy": "2022-01-21T16:31:15.282918Z",
     "iopub.status.idle": "2022-01-21T16:31:15.286993Z",
     "shell.execute_reply": "2022-01-21T16:31:15.286352Z"
    },
    "papermill": {
     "duration": 0.150568,
     "end_time": "2022-01-21T16:31:15.287126",
     "exception": false,
     "start_time": "2022-01-21T16:31:15.136558",
     "status": "completed"
    },
    "tags": []
   },
   "outputs": [
    {
     "data": {
      "text/plain": [
       "Item_Identifier                 0\n",
       "Item_Weight                   976\n",
       "Item_Fat_Content                0\n",
       "Item_Visibility                 0\n",
       "Item_Type                       0\n",
       "Item_MRP                        0\n",
       "Outlet_Identifier               0\n",
       "Outlet_Establishment_Year       0\n",
       "Outlet_Size                  1606\n",
       "Outlet_Location_Type            0\n",
       "Outlet_Type                     0\n",
       "dtype: int64"
      ]
     },
     "execution_count": 13,
     "metadata": {},
     "output_type": "execute_result"
    }
   ],
   "source": [
    "test.isnull().sum()"
   ]
  },
  {
   "cell_type": "code",
   "execution_count": 14,
   "id": "8fc0a14c",
   "metadata": {
    "ExecuteTime": {
     "end_time": "2022-01-05T02:35:35.467982Z",
     "start_time": "2022-01-05T02:35:35.448165Z"
    },
    "execution": {
     "iopub.execute_input": "2022-01-21T16:31:15.569214Z",
     "iopub.status.busy": "2022-01-21T16:31:15.568526Z",
     "iopub.status.idle": "2022-01-21T16:31:15.600125Z",
     "shell.execute_reply": "2022-01-21T16:31:15.600839Z"
    },
    "papermill": {
     "duration": 0.17453,
     "end_time": "2022-01-21T16:31:15.601016",
     "exception": false,
     "start_time": "2022-01-21T16:31:15.426486",
     "status": "completed"
    },
    "tags": []
   },
   "outputs": [
    {
     "data": {
      "text/html": [
       "<div>\n",
       "<style scoped>\n",
       "    .dataframe tbody tr th:only-of-type {\n",
       "        vertical-align: middle;\n",
       "    }\n",
       "\n",
       "    .dataframe tbody tr th {\n",
       "        vertical-align: top;\n",
       "    }\n",
       "\n",
       "    .dataframe thead th {\n",
       "        text-align: right;\n",
       "    }\n",
       "</style>\n",
       "<table border=\"1\" class=\"dataframe\">\n",
       "  <thead>\n",
       "    <tr style=\"text-align: right;\">\n",
       "      <th></th>\n",
       "      <th>Item_Weight</th>\n",
       "      <th>Item_Visibility</th>\n",
       "      <th>Item_MRP</th>\n",
       "      <th>Outlet_Establishment_Year</th>\n",
       "      <th>Item_Outlet_Sales</th>\n",
       "    </tr>\n",
       "  </thead>\n",
       "  <tbody>\n",
       "    <tr>\n",
       "      <th>count</th>\n",
       "      <td>7060.000000</td>\n",
       "      <td>8523.000000</td>\n",
       "      <td>8523.000000</td>\n",
       "      <td>8523.000000</td>\n",
       "      <td>8523.000000</td>\n",
       "    </tr>\n",
       "    <tr>\n",
       "      <th>mean</th>\n",
       "      <td>12.857645</td>\n",
       "      <td>0.066132</td>\n",
       "      <td>140.992782</td>\n",
       "      <td>1997.831867</td>\n",
       "      <td>2181.288914</td>\n",
       "    </tr>\n",
       "    <tr>\n",
       "      <th>std</th>\n",
       "      <td>4.643456</td>\n",
       "      <td>0.051598</td>\n",
       "      <td>62.275067</td>\n",
       "      <td>8.371760</td>\n",
       "      <td>1706.499616</td>\n",
       "    </tr>\n",
       "    <tr>\n",
       "      <th>min</th>\n",
       "      <td>4.555000</td>\n",
       "      <td>0.000000</td>\n",
       "      <td>31.290000</td>\n",
       "      <td>1985.000000</td>\n",
       "      <td>33.290000</td>\n",
       "    </tr>\n",
       "    <tr>\n",
       "      <th>25%</th>\n",
       "      <td>8.773750</td>\n",
       "      <td>0.026989</td>\n",
       "      <td>93.826500</td>\n",
       "      <td>1987.000000</td>\n",
       "      <td>834.247400</td>\n",
       "    </tr>\n",
       "    <tr>\n",
       "      <th>50%</th>\n",
       "      <td>12.600000</td>\n",
       "      <td>0.053931</td>\n",
       "      <td>143.012800</td>\n",
       "      <td>1999.000000</td>\n",
       "      <td>1794.331000</td>\n",
       "    </tr>\n",
       "    <tr>\n",
       "      <th>75%</th>\n",
       "      <td>16.850000</td>\n",
       "      <td>0.094585</td>\n",
       "      <td>185.643700</td>\n",
       "      <td>2004.000000</td>\n",
       "      <td>3101.296400</td>\n",
       "    </tr>\n",
       "    <tr>\n",
       "      <th>max</th>\n",
       "      <td>21.350000</td>\n",
       "      <td>0.328391</td>\n",
       "      <td>266.888400</td>\n",
       "      <td>2009.000000</td>\n",
       "      <td>13086.964800</td>\n",
       "    </tr>\n",
       "  </tbody>\n",
       "</table>\n",
       "</div>"
      ],
      "text/plain": [
       "       Item_Weight  Item_Visibility     Item_MRP  Outlet_Establishment_Year  \\\n",
       "count  7060.000000      8523.000000  8523.000000                8523.000000   \n",
       "mean     12.857645         0.066132   140.992782                1997.831867   \n",
       "std       4.643456         0.051598    62.275067                   8.371760   \n",
       "min       4.555000         0.000000    31.290000                1985.000000   \n",
       "25%       8.773750         0.026989    93.826500                1987.000000   \n",
       "50%      12.600000         0.053931   143.012800                1999.000000   \n",
       "75%      16.850000         0.094585   185.643700                2004.000000   \n",
       "max      21.350000         0.328391   266.888400                2009.000000   \n",
       "\n",
       "       Item_Outlet_Sales  \n",
       "count        8523.000000  \n",
       "mean         2181.288914  \n",
       "std          1706.499616  \n",
       "min            33.290000  \n",
       "25%           834.247400  \n",
       "50%          1794.331000  \n",
       "75%          3101.296400  \n",
       "max         13086.964800  "
      ]
     },
     "execution_count": 14,
     "metadata": {},
     "output_type": "execute_result"
    }
   ],
   "source": [
    "train.describe()"
   ]
  },
  {
   "cell_type": "code",
   "execution_count": 15,
   "id": "8404810a",
   "metadata": {
    "ExecuteTime": {
     "end_time": "2022-01-05T02:35:36.092946Z",
     "start_time": "2022-01-05T02:35:36.062062Z"
    },
    "execution": {
     "iopub.execute_input": "2022-01-21T16:31:15.889974Z",
     "iopub.status.busy": "2022-01-21T16:31:15.889251Z",
     "iopub.status.idle": "2022-01-21T16:31:15.908250Z",
     "shell.execute_reply": "2022-01-21T16:31:15.907610Z"
    },
    "papermill": {
     "duration": 0.162296,
     "end_time": "2022-01-21T16:31:15.908392",
     "exception": false,
     "start_time": "2022-01-21T16:31:15.746096",
     "status": "completed"
    },
    "tags": []
   },
   "outputs": [
    {
     "data": {
      "text/html": [
       "<div>\n",
       "<style scoped>\n",
       "    .dataframe tbody tr th:only-of-type {\n",
       "        vertical-align: middle;\n",
       "    }\n",
       "\n",
       "    .dataframe tbody tr th {\n",
       "        vertical-align: top;\n",
       "    }\n",
       "\n",
       "    .dataframe thead th {\n",
       "        text-align: right;\n",
       "    }\n",
       "</style>\n",
       "<table border=\"1\" class=\"dataframe\">\n",
       "  <thead>\n",
       "    <tr style=\"text-align: right;\">\n",
       "      <th></th>\n",
       "      <th>Item_Weight</th>\n",
       "      <th>Item_Visibility</th>\n",
       "      <th>Item_MRP</th>\n",
       "      <th>Outlet_Establishment_Year</th>\n",
       "    </tr>\n",
       "  </thead>\n",
       "  <tbody>\n",
       "    <tr>\n",
       "      <th>count</th>\n",
       "      <td>4705.000000</td>\n",
       "      <td>5681.000000</td>\n",
       "      <td>5681.000000</td>\n",
       "      <td>5681.000000</td>\n",
       "    </tr>\n",
       "    <tr>\n",
       "      <th>mean</th>\n",
       "      <td>12.695633</td>\n",
       "      <td>0.065684</td>\n",
       "      <td>141.023273</td>\n",
       "      <td>1997.828903</td>\n",
       "    </tr>\n",
       "    <tr>\n",
       "      <th>std</th>\n",
       "      <td>4.664849</td>\n",
       "      <td>0.051252</td>\n",
       "      <td>61.809091</td>\n",
       "      <td>8.372256</td>\n",
       "    </tr>\n",
       "    <tr>\n",
       "      <th>min</th>\n",
       "      <td>4.555000</td>\n",
       "      <td>0.000000</td>\n",
       "      <td>31.990000</td>\n",
       "      <td>1985.000000</td>\n",
       "    </tr>\n",
       "    <tr>\n",
       "      <th>25%</th>\n",
       "      <td>8.645000</td>\n",
       "      <td>0.027047</td>\n",
       "      <td>94.412000</td>\n",
       "      <td>1987.000000</td>\n",
       "    </tr>\n",
       "    <tr>\n",
       "      <th>50%</th>\n",
       "      <td>12.500000</td>\n",
       "      <td>0.054154</td>\n",
       "      <td>141.415400</td>\n",
       "      <td>1999.000000</td>\n",
       "    </tr>\n",
       "    <tr>\n",
       "      <th>75%</th>\n",
       "      <td>16.700000</td>\n",
       "      <td>0.093463</td>\n",
       "      <td>186.026600</td>\n",
       "      <td>2004.000000</td>\n",
       "    </tr>\n",
       "    <tr>\n",
       "      <th>max</th>\n",
       "      <td>21.350000</td>\n",
       "      <td>0.323637</td>\n",
       "      <td>266.588400</td>\n",
       "      <td>2009.000000</td>\n",
       "    </tr>\n",
       "  </tbody>\n",
       "</table>\n",
       "</div>"
      ],
      "text/plain": [
       "       Item_Weight  Item_Visibility     Item_MRP  Outlet_Establishment_Year\n",
       "count  4705.000000      5681.000000  5681.000000                5681.000000\n",
       "mean     12.695633         0.065684   141.023273                1997.828903\n",
       "std       4.664849         0.051252    61.809091                   8.372256\n",
       "min       4.555000         0.000000    31.990000                1985.000000\n",
       "25%       8.645000         0.027047    94.412000                1987.000000\n",
       "50%      12.500000         0.054154   141.415400                1999.000000\n",
       "75%      16.700000         0.093463   186.026600                2004.000000\n",
       "max      21.350000         0.323637   266.588400                2009.000000"
      ]
     },
     "execution_count": 15,
     "metadata": {},
     "output_type": "execute_result"
    }
   ],
   "source": [
    "test.describe()"
   ]
  },
  {
   "cell_type": "markdown",
   "id": "9bac4303",
   "metadata": {
    "papermill": {
     "duration": 0.140474,
     "end_time": "2022-01-21T16:31:16.470339",
     "exception": false,
     "start_time": "2022-01-21T16:31:16.329865",
     "status": "completed"
    },
    "tags": []
   },
   "source": [
    "<a id='4'></a>\n",
    "# Data Cleaning"
   ]
  },
  {
   "cell_type": "markdown",
   "id": "2b230b83",
   "metadata": {
    "ExecuteTime": {
     "end_time": "2021-12-03T23:26:22.342219Z",
     "start_time": "2021-12-03T23:26:22.326771Z"
    },
    "papermill": {
     "duration": 0.139597,
     "end_time": "2022-01-21T16:31:16.752441",
     "exception": false,
     "start_time": "2022-01-21T16:31:16.612844",
     "status": "completed"
    },
    "tags": []
   },
   "source": [
    "<a id='4.1'></a>\n",
    "***handling Null Values***"
   ]
  },
  {
   "cell_type": "code",
   "execution_count": 16,
   "id": "adf0934e",
   "metadata": {
    "ExecuteTime": {
     "end_time": "2022-01-05T02:35:38.349898Z",
     "start_time": "2022-01-05T02:35:38.144497Z"
    },
    "execution": {
     "iopub.execute_input": "2022-01-21T16:31:17.034428Z",
     "iopub.status.busy": "2022-01-21T16:31:17.033809Z",
     "iopub.status.idle": "2022-01-21T16:31:17.320128Z",
     "shell.execute_reply": "2022-01-21T16:31:17.319541Z"
    },
    "papermill": {
     "duration": 0.429055,
     "end_time": "2022-01-21T16:31:17.320264",
     "exception": false,
     "start_time": "2022-01-21T16:31:16.891209",
     "status": "completed"
    },
    "tags": []
   },
   "outputs": [
    {
     "data": {
      "image/png": "[encoded data removed]",
      "text/plain": [
       "<Figure size 1296x720 with 2 Axes>"
      ]
     },
     "metadata": {
      "needs_background": "light"
     },
     "output_type": "display_data"
    }
   ],
   "source": [
    "plt.figure(figsize=(18,10))\n",
    "\n",
    "plt.subplot(2,2,1)\n",
    "plt.title('Item_Weight in Train dataset')\n",
    "sns.boxplot(x='Item_Weight', data=train)\n",
    "\n",
    "plt.subplot(2,2,2)\n",
    "plt.title('Item_Weight in Test dataset')\n",
    "sns.boxplot(x='Item_Weight', data=test)\n",
    "\n",
    "plt.show()"
   ]
  },
  {
   "cell_type": "markdown",
   "id": "6bf9569d",
   "metadata": {
    "papermill": {
     "duration": 0.143725,
     "end_time": "2022-01-21T16:31:17.603215",
     "exception": false,
     "start_time": "2022-01-21T16:31:17.459490",
     "status": "completed"
    },
    "tags": []
   },
   "source": [
    "from box plot Item Weight dosen't appear to have outliers in both datasets"
   ]
  },
  {
   "cell_type": "code",
   "execution_count": 17,
   "id": "90a8473f",
   "metadata": {
    "ExecuteTime": {
     "end_time": "2022-01-05T02:35:39.939115Z",
     "start_time": "2022-01-05T02:35:39.921164Z"
    },
    "execution": {
     "iopub.execute_input": "2022-01-21T16:31:17.842008Z",
     "iopub.status.busy": "2022-01-21T16:31:17.841453Z",
     "iopub.status.idle": "2022-01-21T16:31:17.843549Z",
     "shell.execute_reply": "2022-01-21T16:31:17.843081Z"
    },
    "papermill": {
     "duration": 0.105934,
     "end_time": "2022-01-21T16:31:17.843663",
     "exception": false,
     "start_time": "2022-01-21T16:31:17.737729",
     "status": "completed"
    },
    "tags": []
   },
   "outputs": [],
   "source": [
    "# Use the mean to replace the null values in Item_Weight feature\n",
    "train.Item_Weight = train.Item_Weight.fillna(train.Item_Weight.mean())\n",
    "test.Item_Weight = test.Item_Weight.fillna(test.Item_Weight.mean())"
   ]
  },
  {
   "cell_type": "code",
   "execution_count": 18,
   "id": "ab5e348f",
   "metadata": {
    "ExecuteTime": {
     "end_time": "2022-01-05T02:35:40.699245Z",
     "start_time": "2022-01-05T02:35:40.680295Z"
    },
    "execution": {
     "iopub.execute_input": "2022-01-21T16:31:18.031179Z",
     "iopub.status.busy": "2022-01-21T16:31:18.030643Z",
     "iopub.status.idle": "2022-01-21T16:31:18.033870Z",
     "shell.execute_reply": "2022-01-21T16:31:18.034370Z"
    },
    "papermill": {
     "duration": 0.099009,
     "end_time": "2022-01-21T16:31:18.034507",
     "exception": false,
     "start_time": "2022-01-21T16:31:17.935498",
     "status": "completed"
    },
    "tags": []
   },
   "outputs": [
    {
     "data": {
      "text/plain": [
       "array(['Medium', nan, 'High', 'Small'], dtype=object)"
      ]
     },
     "execution_count": 18,
     "metadata": {},
     "output_type": "execute_result"
    }
   ],
   "source": [
    "train.Outlet_Size.unique()"
   ]
  },
  {
   "cell_type": "code",
   "execution_count": 19,
   "id": "c15bbf70",
   "metadata": {
    "ExecuteTime": {
     "end_time": "2022-01-05T02:35:41.239652Z",
     "start_time": "2022-01-05T02:35:41.219706Z"
    },
    "execution": {
     "iopub.execute_input": "2022-01-21T16:31:18.231445Z",
     "iopub.status.busy": "2022-01-21T16:31:18.230860Z",
     "iopub.status.idle": "2022-01-21T16:31:18.233644Z",
     "shell.execute_reply": "2022-01-21T16:31:18.233172Z"
    },
    "papermill": {
     "duration": 0.106565,
     "end_time": "2022-01-21T16:31:18.233781",
     "exception": false,
     "start_time": "2022-01-21T16:31:18.127216",
     "status": "completed"
    },
    "tags": []
   },
   "outputs": [
    {
     "data": {
      "text/plain": [
       "Medium    2793\n",
       "Small     2388\n",
       "High       932\n",
       "Name: Outlet_Size, dtype: int64"
      ]
     },
     "execution_count": 19,
     "metadata": {},
     "output_type": "execute_result"
    }
   ],
   "source": [
    "train.Outlet_Size.value_counts()"
   ]
  },
  {
   "cell_type": "code",
   "execution_count": 20,
   "id": "d8f02a6f",
   "metadata": {
    "ExecuteTime": {
     "end_time": "2022-01-05T02:35:41.956556Z",
     "start_time": "2022-01-05T02:35:41.94562Z"
    },
    "execution": {
     "iopub.execute_input": "2022-01-21T16:31:18.428532Z",
     "iopub.status.busy": "2022-01-21T16:31:18.427883Z",
     "iopub.status.idle": "2022-01-21T16:31:18.432575Z",
     "shell.execute_reply": "2022-01-21T16:31:18.432110Z"
    },
    "papermill": {
     "duration": 0.105205,
     "end_time": "2022-01-21T16:31:18.432690",
     "exception": false,
     "start_time": "2022-01-21T16:31:18.327485",
     "status": "completed"
    },
    "tags": []
   },
   "outputs": [
    {
     "data": {
      "text/plain": [
       "Medium    1862\n",
       "Small     1592\n",
       "High       621\n",
       "Name: Outlet_Size, dtype: int64"
      ]
     },
     "execution_count": 20,
     "metadata": {},
     "output_type": "execute_result"
    }
   ],
   "source": [
    "test.Outlet_Size.value_counts()"
   ]
  },
  {
   "cell_type": "markdown",
   "id": "7c7497f8",
   "metadata": {
    "papermill": {
     "duration": 0.09212,
     "end_time": "2022-01-21T16:31:18.616971",
     "exception": false,
     "start_time": "2022-01-21T16:31:18.524851",
     "status": "completed"
    },
    "tags": []
   },
   "source": [
    "here we can replace the null values with the mode because it is a categorical column"
   ]
  },
  {
   "cell_type": "code",
   "execution_count": 21,
   "id": "c7b3b2e6",
   "metadata": {
    "ExecuteTime": {
     "end_time": "2022-01-05T02:35:44.689768Z",
     "start_time": "2022-01-05T02:35:44.667829Z"
    },
    "execution": {
     "iopub.execute_input": "2022-01-21T16:31:18.816047Z",
     "iopub.status.busy": "2022-01-21T16:31:18.815497Z",
     "iopub.status.idle": "2022-01-21T16:31:18.817947Z",
     "shell.execute_reply": "2022-01-21T16:31:18.818363Z"
    },
    "papermill": {
     "duration": 0.10788,
     "end_time": "2022-01-21T16:31:18.818507",
     "exception": false,
     "start_time": "2022-01-21T16:31:18.710627",
     "status": "completed"
    },
    "tags": []
   },
   "outputs": [],
   "source": [
    "train.Outlet_Size = train.Outlet_Size.fillna(train.Outlet_Size.mode()[0])\n",
    "test.Outlet_Size = test.Outlet_Size.fillna(test.Outlet_Size.mode()[0])"
   ]
  },
  {
   "cell_type": "code",
   "execution_count": 22,
   "id": "cbbae734",
   "metadata": {
    "ExecuteTime": {
     "end_time": "2022-01-05T02:35:45.368518Z",
     "start_time": "2022-01-05T02:35:45.346578Z"
    },
    "execution": {
     "iopub.execute_input": "2022-01-21T16:31:19.021600Z",
     "iopub.status.busy": "2022-01-21T16:31:19.018463Z",
     "iopub.status.idle": "2022-01-21T16:31:19.024999Z",
     "shell.execute_reply": "2022-01-21T16:31:19.025486Z"
    },
    "papermill": {
     "duration": 0.113536,
     "end_time": "2022-01-21T16:31:19.025638",
     "exception": false,
     "start_time": "2022-01-21T16:31:18.912102",
     "status": "completed"
    },
    "tags": []
   },
   "outputs": [
    {
     "data": {
      "text/plain": [
       "Item_Identifier              0\n",
       "Item_Weight                  0\n",
       "Item_Fat_Content             0\n",
       "Item_Visibility              0\n",
       "Item_Type                    0\n",
       "Item_MRP                     0\n",
       "Outlet_Identifier            0\n",
       "Outlet_Establishment_Year    0\n",
       "Outlet_Size                  0\n",
       "Outlet_Location_Type         0\n",
       "Outlet_Type                  0\n",
       "Item_Outlet_Sales            0\n",
       "dtype: int64"
      ]
     },
     "execution_count": 22,
     "metadata": {},
     "output_type": "execute_result"
    }
   ],
   "source": [
    "train.isnull().sum()"
   ]
  },
  {
   "cell_type": "code",
   "execution_count": 23,
   "id": "3e35ec25",
   "metadata": {
    "ExecuteTime": {
     "end_time": "2022-01-05T02:35:45.828288Z",
     "start_time": "2022-01-05T02:35:45.808342Z"
    },
    "execution": {
     "iopub.execute_input": "2022-01-21T16:31:19.232710Z",
     "iopub.status.busy": "2022-01-21T16:31:19.232109Z",
     "iopub.status.idle": "2022-01-21T16:31:19.236920Z",
     "shell.execute_reply": "2022-01-21T16:31:19.236370Z"
    },
    "papermill": {
     "duration": 0.1141,
     "end_time": "2022-01-21T16:31:19.237030",
     "exception": false,
     "start_time": "2022-01-21T16:31:19.122930",
     "status": "completed"
    },
    "tags": []
   },
   "outputs": [
    {
     "data": {
      "text/plain": [
       "Item_Identifier              0\n",
       "Item_Weight                  0\n",
       "Item_Fat_Content             0\n",
       "Item_Visibility              0\n",
       "Item_Type                    0\n",
       "Item_MRP                     0\n",
       "Outlet_Identifier            0\n",
       "Outlet_Establishment_Year    0\n",
       "Outlet_Size                  0\n",
       "Outlet_Location_Type         0\n",
       "Outlet_Type                  0\n",
       "dtype: int64"
      ]
     },
     "execution_count": 23,
     "metadata": {},
     "output_type": "execute_result"
    }
   ],
   "source": [
    "test.isnull().sum()"
   ]
  },
  {
   "cell_type": "markdown",
   "id": "2a97fe72",
   "metadata": {
    "papermill": {
     "duration": 0.095825,
     "end_time": "2022-01-21T16:31:19.627953",
     "exception": false,
     "start_time": "2022-01-21T16:31:19.532128",
     "status": "completed"
    },
    "tags": []
   },
   "source": [
    "<a id='5'></a>\n",
    "# EDA"
   ]
  },
  {
   "cell_type": "code",
   "execution_count": 24,
   "id": "517519fb",
   "metadata": {
    "ExecuteTime": {
     "end_time": "2022-01-05T02:35:47.2399Z",
     "start_time": "2022-01-05T02:35:47.22497Z"
    },
    "execution": {
     "iopub.execute_input": "2022-01-21T16:31:19.828063Z",
     "iopub.status.busy": "2022-01-21T16:31:19.827339Z",
     "iopub.status.idle": "2022-01-21T16:31:19.838474Z",
     "shell.execute_reply": "2022-01-21T16:31:19.837840Z"
    },
    "papermill": {
     "duration": 0.114442,
     "end_time": "2022-01-21T16:31:19.838629",
     "exception": false,
     "start_time": "2022-01-21T16:31:19.724187",
     "status": "completed"
    },
    "tags": []
   },
   "outputs": [
    {
     "data": {
      "text/plain": [
       "Item_Identifier              1559\n",
       "Item_Weight                   416\n",
       "Item_Fat_Content                5\n",
       "Item_Visibility              7880\n",
       "Item_Type                      16\n",
       "Item_MRP                     5938\n",
       "Outlet_Identifier              10\n",
       "Outlet_Establishment_Year       9\n",
       "Outlet_Size                     3\n",
       "Outlet_Location_Type            3\n",
       "Outlet_Type                     4\n",
       "Item_Outlet_Sales            3493\n",
       "dtype: int64"
      ]
     },
     "execution_count": 24,
     "metadata": {},
     "output_type": "execute_result"
    }
   ],
   "source": [
    "train.nunique()"
   ]
  },
  {
   "cell_type": "code",
   "execution_count": 25,
   "id": "d7b42bbf",
   "metadata": {
    "ExecuteTime": {
     "end_time": "2022-01-05T02:35:47.587965Z",
     "start_time": "2022-01-05T02:35:47.582978Z"
    },
    "execution": {
     "iopub.execute_input": "2022-01-21T16:31:20.136823Z",
     "iopub.status.busy": "2022-01-21T16:31:20.136113Z",
     "iopub.status.idle": "2022-01-21T16:31:20.138654Z",
     "shell.execute_reply": "2022-01-21T16:31:20.139196Z"
    },
    "papermill": {
     "duration": 0.156142,
     "end_time": "2022-01-21T16:31:20.139368",
     "exception": false,
     "start_time": "2022-01-21T16:31:19.983226",
     "status": "completed"
    },
    "tags": []
   },
   "outputs": [
    {
     "data": {
      "text/plain": [
       "array(['Low Fat', 'Regular', 'low fat', 'LF', 'reg'], dtype=object)"
      ]
     },
     "execution_count": 25,
     "metadata": {},
     "output_type": "execute_result"
    }
   ],
   "source": [
    "train.Item_Fat_Content.unique()"
   ]
  },
  {
   "cell_type": "code",
   "execution_count": 26,
   "id": "84a170c6",
   "metadata": {
    "ExecuteTime": {
     "end_time": "2022-01-05T02:35:48.055005Z",
     "start_time": "2022-01-05T02:35:48.046028Z"
    },
    "execution": {
     "iopub.execute_input": "2022-01-21T16:31:20.438241Z",
     "iopub.status.busy": "2022-01-21T16:31:20.437552Z",
     "iopub.status.idle": "2022-01-21T16:31:20.440709Z",
     "shell.execute_reply": "2022-01-21T16:31:20.440100Z"
    },
    "papermill": {
     "duration": 0.156709,
     "end_time": "2022-01-21T16:31:20.440868",
     "exception": false,
     "start_time": "2022-01-21T16:31:20.284159",
     "status": "completed"
    },
    "tags": []
   },
   "outputs": [
    {
     "data": {
      "text/plain": [
       "Low Fat    5089\n",
       "Regular    2889\n",
       "LF          316\n",
       "reg         117\n",
       "low fat     112\n",
       "Name: Item_Fat_Content, dtype: int64"
      ]
     },
     "execution_count": 26,
     "metadata": {},
     "output_type": "execute_result"
    }
   ],
   "source": [
    "train.Item_Fat_Content.value_counts()"
   ]
  },
  {
   "cell_type": "markdown",
   "id": "23776477",
   "metadata": {
    "papermill": {
     "duration": 0.145174,
     "end_time": "2022-01-21T16:31:20.728728",
     "exception": false,
     "start_time": "2022-01-21T16:31:20.583554",
     "status": "completed"
    },
    "tags": []
   },
   "source": [
    "We see there are some irregularities in the column and it is needed to fix them!<br>\n",
    "for example there is low fat one with upper case and other with lower case and another abbreviated (LF) <br>\n",
    "also Regular and reg <br>\n",
    "so we have 2 types of item fat content Low fat and regular\n"
   ]
  },
  {
   "cell_type": "code",
   "execution_count": 27,
   "id": "28f748c1",
   "metadata": {
    "ExecuteTime": {
     "end_time": "2022-01-05T02:35:48.96064Z",
     "start_time": "2022-01-05T02:35:48.949671Z"
    },
    "execution": {
     "iopub.execute_input": "2022-01-21T16:31:21.024714Z",
     "iopub.status.busy": "2022-01-21T16:31:21.024037Z",
     "iopub.status.idle": "2022-01-21T16:31:21.026122Z",
     "shell.execute_reply": "2022-01-21T16:31:21.026604Z"
    },
    "papermill": {
     "duration": 0.155277,
     "end_time": "2022-01-21T16:31:21.026809",
     "exception": false,
     "start_time": "2022-01-21T16:31:20.871532",
     "status": "completed"
    },
    "tags": []
   },
   "outputs": [],
   "source": [
    "train.Item_Fat_Content = train.Item_Fat_Content.replace(to_replace=['low fat', 'LF', 'reg'], value=['Low Fat', 'Low Fat', 'Regular'])"
   ]
  },
  {
   "cell_type": "code",
   "execution_count": 28,
   "id": "f9c98da2",
   "metadata": {
    "ExecuteTime": {
     "end_time": "2022-01-05T02:35:49.453329Z",
     "start_time": "2022-01-05T02:35:49.434373Z"
    },
    "execution": {
     "iopub.execute_input": "2022-01-21T16:31:21.327057Z",
     "iopub.status.busy": "2022-01-21T16:31:21.326366Z",
     "iopub.status.idle": "2022-01-21T16:31:21.328855Z",
     "shell.execute_reply": "2022-01-21T16:31:21.329356Z"
    },
    "papermill": {
     "duration": 0.155195,
     "end_time": "2022-01-21T16:31:21.329543",
     "exception": false,
     "start_time": "2022-01-21T16:31:21.174348",
     "status": "completed"
    },
    "tags": []
   },
   "outputs": [
    {
     "data": {
      "text/plain": [
       "Low Fat    5517\n",
       "Regular    3006\n",
       "Name: Item_Fat_Content, dtype: int64"
      ]
     },
     "execution_count": 28,
     "metadata": {},
     "output_type": "execute_result"
    }
   ],
   "source": [
    "train.Item_Fat_Content.value_counts()"
   ]
  },
  {
   "cell_type": "code",
   "execution_count": 29,
   "id": "7ae0e7f5",
   "metadata": {
    "ExecuteTime": {
     "end_time": "2022-01-05T02:35:49.834331Z",
     "start_time": "2022-01-05T02:35:49.822336Z"
    },
    "execution": {
     "iopub.execute_input": "2022-01-21T16:31:21.629176Z",
     "iopub.status.busy": "2022-01-21T16:31:21.628482Z",
     "iopub.status.idle": "2022-01-21T16:31:21.633213Z",
     "shell.execute_reply": "2022-01-21T16:31:21.632786Z"
    },
    "papermill": {
     "duration": 0.158783,
     "end_time": "2022-01-21T16:31:21.633352",
     "exception": false,
     "start_time": "2022-01-21T16:31:21.474569",
     "status": "completed"
    },
    "tags": []
   },
   "outputs": [
    {
     "data": {
      "text/plain": [
       "array(['Low Fat', 'reg', 'Regular', 'LF', 'low fat'], dtype=object)"
      ]
     },
     "execution_count": 29,
     "metadata": {},
     "output_type": "execute_result"
    }
   ],
   "source": [
    "test.Item_Fat_Content.unique()"
   ]
  },
  {
   "cell_type": "code",
   "execution_count": 30,
   "id": "f9273148",
   "metadata": {
    "ExecuteTime": {
     "end_time": "2022-01-05T02:35:50.339197Z",
     "start_time": "2022-01-05T02:35:50.324236Z"
    },
    "execution": {
     "iopub.execute_input": "2022-01-21T16:31:21.832984Z",
     "iopub.status.busy": "2022-01-21T16:31:21.832424Z",
     "iopub.status.idle": "2022-01-21T16:31:21.835666Z",
     "shell.execute_reply": "2022-01-21T16:31:21.836041Z"
    },
    "papermill": {
     "duration": 0.106878,
     "end_time": "2022-01-21T16:31:21.836187",
     "exception": false,
     "start_time": "2022-01-21T16:31:21.729309",
     "status": "completed"
    },
    "tags": []
   },
   "outputs": [
    {
     "data": {
      "text/plain": [
       "Low Fat    3396\n",
       "Regular    1935\n",
       "LF          206\n",
       "reg          78\n",
       "low fat      66\n",
       "Name: Item_Fat_Content, dtype: int64"
      ]
     },
     "execution_count": 30,
     "metadata": {},
     "output_type": "execute_result"
    }
   ],
   "source": [
    "test.Item_Fat_Content.value_counts()"
   ]
  },
  {
   "cell_type": "markdown",
   "id": "9deafe47",
   "metadata": {
    "papermill": {
     "duration": 0.110552,
     "end_time": "2022-01-21T16:31:22.046865",
     "exception": false,
     "start_time": "2022-01-21T16:31:21.936313",
     "status": "completed"
    },
    "tags": []
   },
   "source": [
    "same problem in the testing data"
   ]
  },
  {
   "cell_type": "code",
   "execution_count": 31,
   "id": "1f838183",
   "metadata": {
    "ExecuteTime": {
     "end_time": "2022-01-05T02:35:51.194307Z",
     "start_time": "2022-01-05T02:35:51.182378Z"
    },
    "execution": {
     "iopub.execute_input": "2022-01-21T16:31:22.314730Z",
     "iopub.status.busy": "2022-01-21T16:31:22.314101Z",
     "iopub.status.idle": "2022-01-21T16:31:22.317455Z",
     "shell.execute_reply": "2022-01-21T16:31:22.318107Z"
    },
    "papermill": {
     "duration": 0.109748,
     "end_time": "2022-01-21T16:31:22.318286",
     "exception": false,
     "start_time": "2022-01-21T16:31:22.208538",
     "status": "completed"
    },
    "tags": []
   },
   "outputs": [],
   "source": [
    "test.Item_Fat_Content = test.Item_Fat_Content.replace(to_replace=['low fat', 'LF', 'reg'], value=['Low Fat', 'Low Fat', 'Regular'])"
   ]
  },
  {
   "cell_type": "code",
   "execution_count": 32,
   "id": "75c3c45b",
   "metadata": {
    "ExecuteTime": {
     "end_time": "2022-01-05T02:35:51.638146Z",
     "start_time": "2022-01-05T02:35:51.62316Z"
    },
    "execution": {
     "iopub.execute_input": "2022-01-21T16:31:22.519666Z",
     "iopub.status.busy": "2022-01-21T16:31:22.519014Z",
     "iopub.status.idle": "2022-01-21T16:31:22.525359Z",
     "shell.execute_reply": "2022-01-21T16:31:22.525860Z"
    },
    "papermill": {
     "duration": 0.105344,
     "end_time": "2022-01-21T16:31:22.525998",
     "exception": false,
     "start_time": "2022-01-21T16:31:22.420654",
     "status": "completed"
    },
    "tags": []
   },
   "outputs": [
    {
     "data": {
      "text/plain": [
       "Low Fat    3668\n",
       "Regular    2013\n",
       "Name: Item_Fat_Content, dtype: int64"
      ]
     },
     "execution_count": 32,
     "metadata": {},
     "output_type": "execute_result"
    }
   ],
   "source": [
    "test.Item_Fat_Content.value_counts()"
   ]
  },
  {
   "cell_type": "code",
   "execution_count": 33,
   "id": "41b12596",
   "metadata": {
    "ExecuteTime": {
     "end_time": "2022-01-05T02:35:52.050051Z",
     "start_time": "2022-01-05T02:35:52.032066Z"
    },
    "execution": {
     "iopub.execute_input": "2022-01-21T16:31:22.729055Z",
     "iopub.status.busy": "2022-01-21T16:31:22.728369Z",
     "iopub.status.idle": "2022-01-21T16:31:22.733378Z",
     "shell.execute_reply": "2022-01-21T16:31:22.733883Z"
    },
    "papermill": {
     "duration": 0.109858,
     "end_time": "2022-01-21T16:31:22.734026",
     "exception": false,
     "start_time": "2022-01-21T16:31:22.624168",
     "status": "completed"
    },
    "tags": []
   },
   "outputs": [
    {
     "data": {
      "text/plain": [
       "array(['Low Fat', 'Regular'], dtype=object)"
      ]
     },
     "execution_count": 33,
     "metadata": {},
     "output_type": "execute_result"
    }
   ],
   "source": [
    "test.Item_Fat_Content.unique()"
   ]
  },
  {
   "cell_type": "code",
   "execution_count": 34,
   "id": "0a862c38",
   "metadata": {
    "ExecuteTime": {
     "end_time": "2022-01-05T02:35:52.555666Z",
     "start_time": "2022-01-05T02:35:52.535722Z"
    },
    "execution": {
     "iopub.execute_input": "2022-01-21T16:31:22.937233Z",
     "iopub.status.busy": "2022-01-21T16:31:22.936563Z",
     "iopub.status.idle": "2022-01-21T16:31:22.942508Z",
     "shell.execute_reply": "2022-01-21T16:31:22.942885Z"
    },
    "papermill": {
     "duration": 0.108124,
     "end_time": "2022-01-21T16:31:22.943023",
     "exception": false,
     "start_time": "2022-01-21T16:31:22.834899",
     "status": "completed"
    },
    "tags": []
   },
   "outputs": [
    {
     "data": {
      "text/plain": [
       "Low Fat    3668\n",
       "Regular    2013\n",
       "Name: Item_Fat_Content, dtype: int64"
      ]
     },
     "execution_count": 34,
     "metadata": {},
     "output_type": "execute_result"
    }
   ],
   "source": [
    "test.Item_Fat_Content.value_counts()"
   ]
  },
  {
   "cell_type": "code",
   "execution_count": 35,
   "id": "a3858d03",
   "metadata": {
    "ExecuteTime": {
     "end_time": "2022-01-05T02:35:53.237422Z",
     "start_time": "2022-01-05T02:35:52.956594Z"
    },
    "execution": {
     "iopub.execute_input": "2022-01-21T16:31:23.144270Z",
     "iopub.status.busy": "2022-01-21T16:31:23.143580Z",
     "iopub.status.idle": "2022-01-21T16:31:23.513928Z",
     "shell.execute_reply": "2022-01-21T16:31:23.513382Z"
    },
    "papermill": {
     "duration": 0.471376,
     "end_time": "2022-01-21T16:31:23.514067",
     "exception": false,
     "start_time": "2022-01-21T16:31:23.042691",
     "status": "completed"
    },
    "tags": []
   },
   "outputs": [
    {
     "data": {
      "image/png": "[encoded data removed]",
      "text/plain": [
       "<Figure size 1296x864 with 2 Axes>"
      ]
     },
     "metadata": {
      "needs_background": "light"
     },
     "output_type": "display_data"
    }
   ],
   "source": [
    "plt.figure(figsize=(18,12))\n",
    "\n",
    "plt.subplot(2,2,1)\n",
    "plt.title(\"Item_Fat_Content Count in the Training Data\")\n",
    "sns.countplot(x='Item_Fat_Content', data=train, palette='ocean')\n",
    "\n",
    "plt.subplot(2,2,2)\n",
    "low_fat = train.Item_Fat_Content[train.Item_Fat_Content == 'Low Fat'].count()\n",
    "reg = train.Item_Fat_Content[train.Item_Fat_Content == 'Regular'].count()\n",
    "plt.title(\"Item Content Fat Distrbution in the Training Data\")\n",
    "plt.pie([low_fat, reg], labels=['Low Fat', 'Regular'], explode=[0.01,0.01], autopct=\"%.2f%%\", colors=['lightgreen', 'yellow'], shadow=True)\n",
    "plt.legend()\n",
    "\n",
    "plt.show()"
   ]
  },
  {
   "cell_type": "markdown",
   "id": "995cc78f",
   "metadata": {
    "papermill": {
     "duration": 0.152365,
     "end_time": "2022-01-21T16:31:23.818301",
     "exception": false,
     "start_time": "2022-01-21T16:31:23.665936",
     "status": "completed"
    },
    "tags": []
   },
   "source": [
    "**Low Fat has the majority in the data 64.73% but Regular 35.27%**"
   ]
  },
  {
   "cell_type": "code",
   "execution_count": 36,
   "id": "a87ec028",
   "metadata": {
    "ExecuteTime": {
     "end_time": "2022-01-05T02:35:54.656263Z",
     "start_time": "2022-01-05T02:35:54.400619Z"
    },
    "execution": {
     "iopub.execute_input": "2022-01-21T16:31:24.157156Z",
     "iopub.status.busy": "2022-01-21T16:31:24.151531Z",
     "iopub.status.idle": "2022-01-21T16:31:24.468676Z",
     "shell.execute_reply": "2022-01-21T16:31:24.468016Z"
    },
    "papermill": {
     "duration": 0.500464,
     "end_time": "2022-01-21T16:31:24.468832",
     "exception": false,
     "start_time": "2022-01-21T16:31:23.968368",
     "status": "completed"
    },
    "tags": []
   },
   "outputs": [
    {
     "data": {
      "image/png": "[encoded data removed]",
      "text/plain": [
       "<Figure size 1800x576 with 1 Axes>"
      ]
     },
     "metadata": {
      "needs_background": "light"
     },
     "output_type": "display_data"
    }
   ],
   "source": [
    "plt.figure(figsize=(25,8))\n",
    "plt.title(\"Item Type count in the Training data\", {\"fontsize\" : 25})\n",
    "order = train.groupby('Item_Type').count().sort_values(by='Item_Outlet_Sales', ascending=False).index\n",
    "sns.countplot(x='Item_Type', data=train, order=order);"
   ]
  },
  {
   "cell_type": "markdown",
   "id": "1d1afbf7",
   "metadata": {
    "papermill": {
     "duration": 0.158731,
     "end_time": "2022-01-21T16:31:24.783800",
     "exception": false,
     "start_time": "2022-01-21T16:31:24.625069",
     "status": "completed"
    },
    "tags": []
   },
   "source": [
    "**Fruits and Vegetables are largely sold as people tend to use them on daily purpose.**<br>\n",
    "**Snack Foods too have good sales.**"
   ]
  },
  {
   "cell_type": "code",
   "execution_count": 37,
   "id": "2bd4d814",
   "metadata": {
    "ExecuteTime": {
     "end_time": "2022-01-05T02:35:55.496345Z",
     "start_time": "2022-01-05T02:35:55.480694Z"
    },
    "execution": {
     "iopub.execute_input": "2022-01-21T16:31:25.107325Z",
     "iopub.status.busy": "2022-01-21T16:31:25.106531Z",
     "iopub.status.idle": "2022-01-21T16:31:25.109302Z",
     "shell.execute_reply": "2022-01-21T16:31:25.109852Z"
    },
    "papermill": {
     "duration": 0.168313,
     "end_time": "2022-01-21T16:31:25.110030",
     "exception": false,
     "start_time": "2022-01-21T16:31:24.941717",
     "status": "completed"
    },
    "tags": []
   },
   "outputs": [
    {
     "data": {
      "text/plain": [
       "Medium    5203\n",
       "Small     2388\n",
       "High       932\n",
       "Name: Outlet_Size, dtype: int64"
      ]
     },
     "execution_count": 37,
     "metadata": {},
     "output_type": "execute_result"
    }
   ],
   "source": [
    "train.Outlet_Size.value_counts()"
   ]
  },
  {
   "cell_type": "code",
   "execution_count": 38,
   "id": "501fd176",
   "metadata": {
    "ExecuteTime": {
     "end_time": "2022-01-05T02:35:56.314353Z",
     "start_time": "2022-01-05T02:35:55.947087Z"
    },
    "execution": {
     "iopub.execute_input": "2022-01-21T16:31:25.478512Z",
     "iopub.status.busy": "2022-01-21T16:31:25.477507Z",
     "iopub.status.idle": "2022-01-21T16:31:25.902524Z",
     "shell.execute_reply": "2022-01-21T16:31:25.903189Z"
    },
    "papermill": {
     "duration": 0.631707,
     "end_time": "2022-01-21T16:31:25.903603",
     "exception": false,
     "start_time": "2022-01-21T16:31:25.271896",
     "status": "completed"
    },
    "tags": []
   },
   "outputs": [
    {
     "data": {
      "image/png": "[encoded data removed]",
      "text/plain": [
       "<Figure size 1296x864 with 2 Axes>"
      ]
     },
     "metadata": {
      "needs_background": "light"
     },
     "output_type": "display_data"
    }
   ],
   "source": [
    "plt.figure(figsize=(18,12))\n",
    "\n",
    "plt.subplot(2,2,1)\n",
    "plt.title(\"The size of the store in terms of ground area covered count\")\n",
    "sns.countplot(x='Outlet_Size', data=train, palette='spring')\n",
    "\n",
    "plt.subplot(2,2,2)\n",
    "medium = train.Outlet_Size[train.Outlet_Size == 'Medium'].count()\n",
    "small = train.Outlet_Size[train.Outlet_Size == 'Small'].count()\n",
    "high = train.Outlet_Size[train.Outlet_Size == 'High'].count()\n",
    "plt.title(\"The size of the store in terms of ground area covered Distrbution\")\n",
    "plt.pie([medium, small, high], labels=['Medium', 'Small', 'High'], autopct=\"%.2f%%\", shadow=True, explode=[0.01,0.01,0.01])\n",
    "my_circle = plt.Circle( (0,0), 0.4, color='white')\n",
    "plt.gcf().gca().add_artist(my_circle)\n",
    "plt.legend()\n",
    "\n",
    "plt.show()"
   ]
  },
  {
   "cell_type": "markdown",
   "id": "13bec9c5",
   "metadata": {
    "papermill": {
     "duration": 0.158515,
     "end_time": "2022-01-21T16:31:26.231705",
     "exception": false,
     "start_time": "2022-01-21T16:31:26.073190",
     "status": "completed"
    },
    "tags": []
   },
   "source": [
    "Medium Size has the majoirty in the data 61.05%"
   ]
  },
  {
   "cell_type": "code",
   "execution_count": 39,
   "id": "96d26829",
   "metadata": {
    "ExecuteTime": {
     "end_time": "2022-01-05T02:35:57.093474Z",
     "start_time": "2022-01-05T02:35:57.085506Z"
    },
    "execution": {
     "iopub.execute_input": "2022-01-21T16:31:26.565027Z",
     "iopub.status.busy": "2022-01-21T16:31:26.564118Z",
     "iopub.status.idle": "2022-01-21T16:31:26.573649Z",
     "shell.execute_reply": "2022-01-21T16:31:26.573020Z"
    },
    "papermill": {
     "duration": 0.180586,
     "end_time": "2022-01-21T16:31:26.573850",
     "exception": false,
     "start_time": "2022-01-21T16:31:26.393264",
     "status": "completed"
    },
    "tags": []
   },
   "outputs": [
    {
     "data": {
      "text/plain": [
       "array(['Tier 1', 'Tier 3', 'Tier 2'], dtype=object)"
      ]
     },
     "execution_count": 39,
     "metadata": {},
     "output_type": "execute_result"
    }
   ],
   "source": [
    "train.Outlet_Location_Type.unique()"
   ]
  },
  {
   "cell_type": "code",
   "execution_count": 40,
   "id": "d4591228",
   "metadata": {
    "ExecuteTime": {
     "end_time": "2022-01-05T02:35:57.584169Z",
     "start_time": "2022-01-05T02:35:57.567223Z"
    },
    "execution": {
     "iopub.execute_input": "2022-01-21T16:31:26.907015Z",
     "iopub.status.busy": "2022-01-21T16:31:26.902241Z",
     "iopub.status.idle": "2022-01-21T16:31:26.912515Z",
     "shell.execute_reply": "2022-01-21T16:31:26.912012Z"
    },
    "papermill": {
     "duration": 0.175547,
     "end_time": "2022-01-21T16:31:26.912635",
     "exception": false,
     "start_time": "2022-01-21T16:31:26.737088",
     "status": "completed"
    },
    "tags": []
   },
   "outputs": [
    {
     "data": {
      "text/plain": [
       "Tier 3    3350\n",
       "Tier 2    2785\n",
       "Tier 1    2388\n",
       "Name: Outlet_Location_Type, dtype: int64"
      ]
     },
     "execution_count": 40,
     "metadata": {},
     "output_type": "execute_result"
    }
   ],
   "source": [
    "train.Outlet_Location_Type.value_counts()"
   ]
  },
  {
   "cell_type": "code",
   "execution_count": 41,
   "id": "7a9d2afe",
   "metadata": {
    "ExecuteTime": {
     "end_time": "2022-01-05T02:35:58.333052Z",
     "start_time": "2022-01-05T02:35:58.01601Z"
    },
    "execution": {
     "iopub.execute_input": "2022-01-21T16:31:27.134887Z",
     "iopub.status.busy": "2022-01-21T16:31:27.134195Z",
     "iopub.status.idle": "2022-01-21T16:31:27.790603Z",
     "shell.execute_reply": "2022-01-21T16:31:27.791212Z"
    },
    "papermill": {
     "duration": 0.773964,
     "end_time": "2022-01-21T16:31:27.791373",
     "exception": false,
     "start_time": "2022-01-21T16:31:27.017409",
     "status": "completed"
    },
    "tags": []
   },
   "outputs": [
    {
     "data": {
      "image/png": "[encoded data removed]",
      "text/plain": [
       "<Figure size 1296x864 with 2 Axes>"
      ]
     },
     "metadata": {
      "needs_background": "light"
     },
     "output_type": "display_data"
    }
   ],
   "source": [
    "plt.figure(figsize=(18,12))\n",
    "\n",
    "plt.subplot(2,2,1)\n",
    "plt.title(\"The type of city in which the store is located\")\n",
    "sns.countplot(x='Outlet_Location_Type', data=train, palette='twilight')\n",
    "\n",
    "plt.subplot(2,2,2)\n",
    "tier_1 = train.Outlet_Location_Type[train.Outlet_Location_Type == 'Tier 1'].count()\n",
    "tier_2 = train.Outlet_Location_Type[train.Outlet_Location_Type == 'Tier 2'].count()\n",
    "tier_3 = train.Outlet_Location_Type[train.Outlet_Location_Type == 'Tier 3'].count()\n",
    "plt.title(\"The type of city in which the store is located Distrbution\")\n",
    "plt.pie([tier_1, tier_2, tier_3], labels=['tier_1', 'tier_2', 'tier_3'], autopct=\"%.2f%%\", shadow=True, explode=[0.05,0.05,0.05])\n",
    "my_circle = plt.Circle( (0,0), 0.4, color='white')\n",
    "plt.gcf().gca().add_artist(my_circle)\n",
    "plt.legend()\n",
    "\n",
    "plt.show()"
   ]
  },
  {
   "cell_type": "markdown",
   "id": "44ee1b0f",
   "metadata": {
    "papermill": {
     "duration": 0.1059,
     "end_time": "2022-01-21T16:31:28.012051",
     "exception": false,
     "start_time": "2022-01-21T16:31:27.906151",
     "status": "completed"
    },
    "tags": []
   },
   "source": [
    "**The Outlets are maximum in number in Tier 3 Cities.**"
   ]
  },
  {
   "cell_type": "code",
   "execution_count": 42,
   "id": "e3ac4277",
   "metadata": {
    "ExecuteTime": {
     "end_time": "2022-01-05T02:35:59.000416Z",
     "start_time": "2022-01-05T02:35:58.989487Z"
    },
    "execution": {
     "iopub.execute_input": "2022-01-21T16:31:28.240466Z",
     "iopub.status.busy": "2022-01-21T16:31:28.239876Z",
     "iopub.status.idle": "2022-01-21T16:31:28.242374Z",
     "shell.execute_reply": "2022-01-21T16:31:28.242945Z"
    },
    "papermill": {
     "duration": 0.120407,
     "end_time": "2022-01-21T16:31:28.243097",
     "exception": false,
     "start_time": "2022-01-21T16:31:28.122690",
     "status": "completed"
    },
    "tags": []
   },
   "outputs": [
    {
     "data": {
      "text/plain": [
       "array(['Supermarket Type1', 'Supermarket Type2', 'Grocery Store',\n",
       "       'Supermarket Type3'], dtype=object)"
      ]
     },
     "execution_count": 42,
     "metadata": {},
     "output_type": "execute_result"
    }
   ],
   "source": [
    "train.Outlet_Type.unique()"
   ]
  },
  {
   "cell_type": "code",
   "execution_count": 43,
   "id": "92476658",
   "metadata": {
    "ExecuteTime": {
     "end_time": "2022-01-05T02:35:59.414337Z",
     "start_time": "2022-01-05T02:35:59.408362Z"
    },
    "execution": {
     "iopub.execute_input": "2022-01-21T16:31:28.464892Z",
     "iopub.status.busy": "2022-01-21T16:31:28.459629Z",
     "iopub.status.idle": "2022-01-21T16:31:28.470744Z",
     "shell.execute_reply": "2022-01-21T16:31:28.470151Z"
    },
    "papermill": {
     "duration": 0.11967,
     "end_time": "2022-01-21T16:31:28.470915",
     "exception": false,
     "start_time": "2022-01-21T16:31:28.351245",
     "status": "completed"
    },
    "tags": []
   },
   "outputs": [
    {
     "data": {
      "text/plain": [
       "Supermarket Type1    5577\n",
       "Grocery Store        1083\n",
       "Supermarket Type3     935\n",
       "Supermarket Type2     928\n",
       "Name: Outlet_Type, dtype: int64"
      ]
     },
     "execution_count": 43,
     "metadata": {},
     "output_type": "execute_result"
    }
   ],
   "source": [
    "train.Outlet_Type.value_counts()"
   ]
  },
  {
   "cell_type": "code",
   "execution_count": 44,
   "id": "c3d55f59",
   "metadata": {
    "ExecuteTime": {
     "end_time": "2022-01-05T02:36:00.135907Z",
     "start_time": "2022-01-05T02:35:59.756434Z"
    },
    "execution": {
     "iopub.execute_input": "2022-01-21T16:31:28.702034Z",
     "iopub.status.busy": "2022-01-21T16:31:28.698511Z",
     "iopub.status.idle": "2022-01-21T16:31:29.201234Z",
     "shell.execute_reply": "2022-01-21T16:31:29.200476Z"
    },
    "papermill": {
     "duration": 0.620205,
     "end_time": "2022-01-21T16:31:29.201390",
     "exception": false,
     "start_time": "2022-01-21T16:31:28.581185",
     "status": "completed"
    },
    "tags": []
   },
   "outputs": [
    {
     "data": {
      "image/png": "[encoded data removed]",
      "text/plain": [
       "<Figure size 1296x864 with 2 Axes>"
      ]
     },
     "metadata": {
      "needs_background": "light"
     },
     "output_type": "display_data"
    }
   ],
   "source": [
    "plt.figure(figsize=(18,12))\n",
    "\n",
    "plt.subplot(2,2,1)\n",
    "plt.title(\"Whether the outlet is just a grocery store or some sort of supermarket count\")\n",
    "sns.countplot(x='Outlet_Type', data=train, palette='autumn')\n",
    "\n",
    "plt.subplot(2,2,2)\n",
    "sup_1 = train.Outlet_Type[train.Outlet_Type == 'Supermarket Type1'].count()\n",
    "goc = train.Outlet_Type[train.Outlet_Type == 'Grocery Store'].count()\n",
    "sup_3 = train.Outlet_Type[train.Outlet_Type == 'Supermarket Type3'].count()\n",
    "sup_2 = train.Outlet_Type[train.Outlet_Type == 'Supermarket Type2'].count()\n",
    "plt.title(\"Whether the outlet is just a grocery store or some sort of supermarket Distrbution\")\n",
    "plt.pie([sup_1, goc, sup_3, sup_2], labels=['Supermarket Type1', 'Grocery Store', 'Supermarket Type3', 'Supermarket Type2'], autopct=\"%.2f%%\", shadow=True, explode=[0.01,0.01,0.01, 0.01])\n",
    "my_circle = plt.Circle( (0,0), 0.4, color='white')\n",
    "plt.gcf().gca().add_artist(my_circle)\n",
    "plt.legend(bbox_to_anchor=(1, 0))\n",
    "\n",
    "plt.show()"
   ]
  },
  {
   "cell_type": "markdown",
   "id": "123f0a1d",
   "metadata": {
    "papermill": {
     "duration": 0.16493,
     "end_time": "2022-01-21T16:31:29.533491",
     "exception": false,
     "start_time": "2022-01-21T16:31:29.368561",
     "status": "completed"
    },
    "tags": []
   },
   "source": [
    "**The Outlets are more of Supermarket Type1.**\n"
   ]
  },
  {
   "cell_type": "code",
   "execution_count": 45,
   "id": "3f6dbb04",
   "metadata": {
    "ExecuteTime": {
     "end_time": "2022-01-05T02:36:00.694134Z",
     "start_time": "2022-01-05T02:36:00.68218Z"
    },
    "execution": {
     "iopub.execute_input": "2022-01-21T16:31:29.865845Z",
     "iopub.status.busy": "2022-01-21T16:31:29.863887Z",
     "iopub.status.idle": "2022-01-21T16:31:29.871090Z",
     "shell.execute_reply": "2022-01-21T16:31:29.871668Z"
    },
    "papermill": {
     "duration": 0.174211,
     "end_time": "2022-01-21T16:31:29.871932",
     "exception": false,
     "start_time": "2022-01-21T16:31:29.697721",
     "status": "completed"
    },
    "tags": []
   },
   "outputs": [
    {
     "data": {
      "text/plain": [
       "array([1999, 2009, 1998, 1987, 1985, 2002, 2007, 1997, 2004], dtype=int64)"
      ]
     },
     "execution_count": 45,
     "metadata": {},
     "output_type": "execute_result"
    }
   ],
   "source": [
    "train.Outlet_Establishment_Year.unique()"
   ]
  },
  {
   "cell_type": "code",
   "execution_count": 46,
   "id": "2d62aaa3",
   "metadata": {
    "ExecuteTime": {
     "end_time": "2022-01-05T02:36:05.558752Z",
     "start_time": "2022-01-05T02:36:01.13094Z"
    },
    "execution": {
     "iopub.execute_input": "2022-01-21T16:31:30.209407Z",
     "iopub.status.busy": "2022-01-21T16:31:30.207026Z",
     "iopub.status.idle": "2022-01-21T16:31:30.214045Z",
     "shell.execute_reply": "2022-01-21T16:31:30.214593Z"
    },
    "papermill": {
     "duration": 0.176306,
     "end_time": "2022-01-21T16:31:30.214795",
     "exception": false,
     "start_time": "2022-01-21T16:31:30.038489",
     "status": "completed"
    },
    "tags": []
   },
   "outputs": [],
   "source": [
    "train['Age'] = 2021 - train.Outlet_Establishment_Year\n",
    "test['Age'] = 2021 - test.Outlet_Establishment_Year"
   ]
  },
  {
   "cell_type": "code",
   "execution_count": 47,
   "id": "4a3d143b",
   "metadata": {
    "ExecuteTime": {
     "end_time": "2022-01-05T02:36:05.733396Z",
     "start_time": "2022-01-05T02:36:05.558752Z"
    },
    "execution": {
     "iopub.execute_input": "2022-01-21T16:31:30.557551Z",
     "iopub.status.busy": "2022-01-21T16:31:30.556870Z",
     "iopub.status.idle": "2022-01-21T16:31:30.750617Z",
     "shell.execute_reply": "2022-01-21T16:31:30.749682Z"
    },
    "papermill": {
     "duration": 0.368418,
     "end_time": "2022-01-21T16:31:30.750804",
     "exception": false,
     "start_time": "2022-01-21T16:31:30.382386",
     "status": "completed"
    },
    "tags": []
   },
   "outputs": [
    {
     "data": {
      "image/png": "[encoded data removed]",
      "text/plain": [
       "<Figure size 864x432 with 1 Axes>"
      ]
     },
     "metadata": {
      "needs_background": "light"
     },
     "output_type": "display_data"
    }
   ],
   "source": [
    "plt.figure(figsize=(12,6))\n",
    "\n",
    "sns.countplot(x='Age', data=train, palette='autumn');"
   ]
  },
  {
   "cell_type": "markdown",
   "id": "431acbb6",
   "metadata": {
    "papermill": {
     "duration": 0.168534,
     "end_time": "2022-01-21T16:31:31.106984",
     "exception": false,
     "start_time": "2022-01-21T16:31:30.938450",
     "status": "completed"
    },
    "tags": []
   },
   "source": [
    "The Outlets are more of established and running from 35 years.\n"
   ]
  },
  {
   "cell_type": "code",
   "execution_count": 48,
   "id": "1879141f",
   "metadata": {
    "ExecuteTime": {
     "end_time": "2022-01-05T02:36:05.76531Z",
     "start_time": "2022-01-05T02:36:05.73537Z"
    },
    "execution": {
     "iopub.execute_input": "2022-01-21T16:31:31.430797Z",
     "iopub.status.busy": "2022-01-21T16:31:31.430123Z",
     "iopub.status.idle": "2022-01-21T16:31:31.442704Z",
     "shell.execute_reply": "2022-01-21T16:31:31.442065Z"
    },
    "papermill": {
     "duration": 0.175904,
     "end_time": "2022-01-21T16:31:31.442855",
     "exception": false,
     "start_time": "2022-01-21T16:31:31.266951",
     "status": "completed"
    },
    "tags": []
   },
   "outputs": [
    {
     "data": {
      "text/plain": [
       "Item_Identifier              1559\n",
       "Item_Weight                   416\n",
       "Item_Fat_Content                2\n",
       "Item_Visibility              7880\n",
       "Item_Type                      16\n",
       "Item_MRP                     5938\n",
       "Outlet_Identifier              10\n",
       "Outlet_Establishment_Year       9\n",
       "Outlet_Size                     3\n",
       "Outlet_Location_Type            3\n",
       "Outlet_Type                     4\n",
       "Item_Outlet_Sales            3493\n",
       "Age                             9\n",
       "dtype: int64"
      ]
     },
     "execution_count": 48,
     "metadata": {},
     "output_type": "execute_result"
    }
   ],
   "source": [
    "train.nunique()"
   ]
  },
  {
   "cell_type": "code",
   "execution_count": 49,
   "id": "1bf279a7",
   "metadata": {
    "ExecuteTime": {
     "end_time": "2022-01-05T02:36:05.797235Z",
     "start_time": "2022-01-05T02:36:05.767272Z"
    },
    "execution": {
     "iopub.execute_input": "2022-01-21T16:31:31.777117Z",
     "iopub.status.busy": "2022-01-21T16:31:31.776464Z",
     "iopub.status.idle": "2022-01-21T16:31:31.791132Z",
     "shell.execute_reply": "2022-01-21T16:31:31.791681Z"
    },
    "papermill": {
     "duration": 0.186422,
     "end_time": "2022-01-21T16:31:31.791881",
     "exception": false,
     "start_time": "2022-01-21T16:31:31.605459",
     "status": "completed"
    },
    "tags": []
   },
   "outputs": [],
   "source": [
    "FEATURES = [col for col in train.columns if col not in ['Item_Outlet_Sales', 'Outlet_Identifier']]\n",
    "cat_features = [col for col in FEATURES if train[col].nunique() < 10]\n",
    "cont_features = [col for col in FEATURES if train[col].nunique() >= 10]"
   ]
  },
  {
   "cell_type": "code",
   "execution_count": 50,
   "id": "095b61de",
   "metadata": {
    "ExecuteTime": {
     "end_time": "2022-01-05T02:36:05.812179Z",
     "start_time": "2022-01-05T02:36:05.799188Z"
    },
    "execution": {
     "iopub.execute_input": "2022-01-21T16:31:32.128460Z",
     "iopub.status.busy": "2022-01-21T16:31:32.126188Z",
     "iopub.status.idle": "2022-01-21T16:31:32.133696Z",
     "shell.execute_reply": "2022-01-21T16:31:32.133137Z"
    },
    "papermill": {
     "duration": 0.175516,
     "end_time": "2022-01-21T16:31:32.133848",
     "exception": false,
     "start_time": "2022-01-21T16:31:31.958332",
     "status": "completed"
    },
    "tags": []
   },
   "outputs": [
    {
     "data": {
      "text/plain": [
       "['Item_Fat_Content',\n",
       " 'Outlet_Establishment_Year',\n",
       " 'Outlet_Size',\n",
       " 'Outlet_Location_Type',\n",
       " 'Outlet_Type',\n",
       " 'Age']"
      ]
     },
     "execution_count": 50,
     "metadata": {},
     "output_type": "execute_result"
    }
   ],
   "source": [
    "cat_features"
   ]
  },
  {
   "cell_type": "code",
   "execution_count": 51,
   "id": "3419d18b",
   "metadata": {
    "ExecuteTime": {
     "end_time": "2022-01-05T02:36:05.82811Z",
     "start_time": "2022-01-05T02:36:05.81315Z"
    },
    "execution": {
     "iopub.execute_input": "2022-01-21T16:31:32.359516Z",
     "iopub.status.busy": "2022-01-21T16:31:32.358974Z",
     "iopub.status.idle": "2022-01-21T16:31:32.365669Z",
     "shell.execute_reply": "2022-01-21T16:31:32.365216Z"
    },
    "papermill": {
     "duration": 0.121043,
     "end_time": "2022-01-21T16:31:32.366075",
     "exception": false,
     "start_time": "2022-01-21T16:31:32.245032",
     "status": "completed"
    },
    "tags": []
   },
   "outputs": [
    {
     "data": {
      "text/plain": [
       "['Item_Identifier', 'Item_Weight', 'Item_Visibility', 'Item_Type', 'Item_MRP']"
      ]
     },
     "execution_count": 51,
     "metadata": {},
     "output_type": "execute_result"
    }
   ],
   "source": [
    "cont_features"
   ]
  },
  {
   "cell_type": "code",
   "execution_count": 52,
   "id": "a13a8dfa",
   "metadata": {
    "ExecuteTime": {
     "end_time": "2022-01-05T02:36:07.614353Z",
     "start_time": "2022-01-05T02:36:05.829108Z"
    },
    "execution": {
     "iopub.execute_input": "2022-01-21T16:31:32.601992Z",
     "iopub.status.busy": "2022-01-21T16:31:32.601377Z",
     "iopub.status.idle": "2022-01-21T16:31:35.058265Z",
     "shell.execute_reply": "2022-01-21T16:31:35.058668Z"
    },
    "papermill": {
     "duration": 2.580207,
     "end_time": "2022-01-21T16:31:35.058827",
     "exception": false,
     "start_time": "2022-01-21T16:31:32.478620",
     "status": "completed"
    },
    "tags": []
   },
   "outputs": [
    {
     "data": {
      "image/png": "[encoded data removed]",
      "text/plain": [
       "<Figure size 1584x720 with 6 Axes>"
      ]
     },
     "metadata": {},
     "output_type": "display_data"
    }
   ],
   "source": [
    "ncols = 3\n",
    "nrows = int(len(cat_features) / ncols + (len(FEATURES) % ncols > 0))-1\n",
    "\n",
    "fig, axes = plt.subplots(nrows, ncols, figsize=(22, 10), facecolor='#EAEAF2')\n",
    "\n",
    "for r in range(nrows):\n",
    "    for c in range(ncols):\n",
    "        col = cat_features[r*ncols+c]\n",
    "        sns.barplot(y=train['Item_Outlet_Sales'], x=train[col], ax=axes[r, c], palette='autumn', label='Train data')\n",
    "        axes[r, c].set_ylabel('')\n",
    "        axes[r, c].set_xlabel(col, fontsize=12, fontweight='bold')\n",
    "        axes[r, c].tick_params(labelsize=10, width=0.5)\n",
    "        axes[r, c].xaxis.offsetText.set_fontsize(6)\n",
    "        axes[r, c].yaxis.offsetText.set_fontsize(6)\n",
    "plt.show()\n"
   ]
  },
  {
   "cell_type": "markdown",
   "id": "77300301",
   "metadata": {
    "papermill": {
     "duration": 0.1113,
     "end_time": "2022-01-21T16:31:35.280030",
     "exception": false,
     "start_time": "2022-01-21T16:31:35.168730",
     "status": "completed"
    },
    "tags": []
   },
   "source": [
    "- The Item Outles sales are high for both Low Fat and Regular Item types.\n",
    "- The Outlet Sales is maximum for Medium and High sized Outlets.\n",
    "- The Outlets we have is Medium and may be with High size Outlets can improve the Outlet Sales.\n",
    "- The Outlet Sales tend to be high for Tier3 and Tier 2 location types but we have only Tier3 locations maximum Outlets.\n",
    "- Supermarket Type3 sales tends to be high which in Grocery store is very low\n",
    "- It is quiet evident that Outlets established 36 years before is having good Sales margin.<br>\n",
    "- We also have a outlet which was established before 23 years has the lowest sales margin, so established years wouldn't improve the Sales unless the products are sold according to customer's interest."
   ]
  },
  {
   "cell_type": "code",
   "execution_count": 53,
   "id": "2485542a",
   "metadata": {
    "ExecuteTime": {
     "end_time": "2022-01-05T02:36:08.339198Z",
     "start_time": "2022-01-05T02:36:07.615359Z"
    },
    "execution": {
     "iopub.execute_input": "2022-01-21T16:31:35.507104Z",
     "iopub.status.busy": "2022-01-21T16:31:35.506519Z",
     "iopub.status.idle": "2022-01-21T16:31:36.468611Z",
     "shell.execute_reply": "2022-01-21T16:31:36.468082Z"
    },
    "papermill": {
     "duration": 1.077088,
     "end_time": "2022-01-21T16:31:36.468742",
     "exception": false,
     "start_time": "2022-01-21T16:31:35.391654",
     "status": "completed"
    },
    "tags": []
   },
   "outputs": [
    {
     "data": {
      "image/png": "[encoded data removed]",
      "text/plain": [
       "<Figure size 1800x576 with 1 Axes>"
      ]
     },
     "metadata": {
      "needs_background": "light"
     },
     "output_type": "display_data"
    }
   ],
   "source": [
    "plt.figure(figsize=(25,8))\n",
    "\n",
    "order=train.groupby('Item_Type').mean().sort_values(by='Item_Outlet_Sales', ascending=False).index\n",
    "sns.barplot(x='Item_Type',y='Item_Outlet_Sales',data=train,palette='spring', order=order);"
   ]
  },
  {
   "cell_type": "markdown",
   "id": "d1c1c50e",
   "metadata": {
    "papermill": {
     "duration": 0.113051,
     "end_time": "2022-01-21T16:31:36.696538",
     "exception": false,
     "start_time": "2022-01-21T16:31:36.583487",
     "status": "completed"
    },
    "tags": []
   },
   "source": [
    "**The products available were Fruits-Veggies and Snack Foods but the sales of Seafood and Starchy Foods seems higher and hence the sales can be improved with having stock of products that are most bought by customers**"
   ]
  },
  {
   "cell_type": "code",
   "execution_count": 54,
   "id": "f2ee9219",
   "metadata": {
    "ExecuteTime": {
     "end_time": "2022-01-05T02:36:08.371107Z",
     "start_time": "2022-01-05T02:36:08.340193Z"
    },
    "execution": {
     "iopub.execute_input": "2022-01-21T16:31:36.941901Z",
     "iopub.status.busy": "2022-01-21T16:31:36.936198Z",
     "iopub.status.idle": "2022-01-21T16:31:36.955299Z",
     "shell.execute_reply": "2022-01-21T16:31:36.955876Z"
    },
    "papermill": {
     "duration": 0.146538,
     "end_time": "2022-01-21T16:31:36.956052",
     "exception": false,
     "start_time": "2022-01-21T16:31:36.809514",
     "status": "completed"
    },
    "tags": []
   },
   "outputs": [
    {
     "data": {
      "text/plain": [
       "Item_Identifier              1559\n",
       "Item_Weight                   416\n",
       "Item_Fat_Content                2\n",
       "Item_Visibility              7880\n",
       "Item_Type                      16\n",
       "Item_MRP                     5938\n",
       "Outlet_Identifier              10\n",
       "Outlet_Establishment_Year       9\n",
       "Outlet_Size                     3\n",
       "Outlet_Location_Type            3\n",
       "Outlet_Type                     4\n",
       "Item_Outlet_Sales            3493\n",
       "Age                             9\n",
       "dtype: int64"
      ]
     },
     "execution_count": 54,
     "metadata": {},
     "output_type": "execute_result"
    }
   ],
   "source": [
    "train.nunique()"
   ]
  },
  {
   "cell_type": "markdown",
   "id": "23495aec",
   "metadata": {
    "papermill": {
     "duration": 0.110528,
     "end_time": "2022-01-21T16:31:37.187870",
     "exception": false,
     "start_time": "2022-01-21T16:31:37.077342",
     "status": "completed"
    },
    "tags": []
   },
   "source": [
    "Continous Features:\n",
    "\n",
    "- Item_Weight\n",
    "- Item_Visibility\n",
    "- Item_MRP"
   ]
  },
  {
   "cell_type": "code",
   "execution_count": 55,
   "id": "951247ba",
   "metadata": {
    "ExecuteTime": {
     "end_time": "2022-01-05T02:36:11.797744Z",
     "start_time": "2022-01-05T02:36:11.775784Z"
    },
    "execution": {
     "iopub.execute_input": "2022-01-21T16:31:37.418175Z",
     "iopub.status.busy": "2022-01-21T16:31:37.417615Z",
     "iopub.status.idle": "2022-01-21T16:31:37.439442Z",
     "shell.execute_reply": "2022-01-21T16:31:37.438888Z"
    },
    "papermill": {
     "duration": 0.139192,
     "end_time": "2022-01-21T16:31:37.439567",
     "exception": false,
     "start_time": "2022-01-21T16:31:37.300375",
     "status": "completed"
    },
    "tags": []
   },
   "outputs": [],
   "source": [
    "FEATURES = [col for col in train.columns if col not in ['Item_Outlet_Sales', 'Outlet_Identifier', 'Item_Identifier']]\n",
    "cat_features = [col for col in FEATURES if train[col].nunique() < 25]\n",
    "cont_features = [col for col in FEATURES if train[col].nunique() >= 25]"
   ]
  },
  {
   "cell_type": "code",
   "execution_count": 56,
   "id": "dd9ba763",
   "metadata": {
    "ExecuteTime": {
     "end_time": "2022-01-05T02:36:12.147792Z",
     "start_time": "2022-01-05T02:36:12.143768Z"
    },
    "execution": {
     "iopub.execute_input": "2022-01-21T16:31:37.675836Z",
     "iopub.status.busy": "2022-01-21T16:31:37.675125Z",
     "iopub.status.idle": "2022-01-21T16:31:37.678461Z",
     "shell.execute_reply": "2022-01-21T16:31:37.678907Z"
    },
    "papermill": {
     "duration": 0.124405,
     "end_time": "2022-01-21T16:31:37.679090",
     "exception": false,
     "start_time": "2022-01-21T16:31:37.554685",
     "status": "completed"
    },
    "tags": []
   },
   "outputs": [
    {
     "data": {
      "text/plain": [
       "['Item_Weight', 'Item_Visibility', 'Item_MRP']"
      ]
     },
     "execution_count": 56,
     "metadata": {},
     "output_type": "execute_result"
    }
   ],
   "source": [
    "cont_features"
   ]
  },
  {
   "cell_type": "code",
   "execution_count": 57,
   "id": "63bd4da6",
   "metadata": {
    "ExecuteTime": {
     "end_time": "2022-01-05T02:36:13.402285Z",
     "start_time": "2022-01-05T02:36:12.614729Z"
    },
    "execution": {
     "iopub.execute_input": "2022-01-21T16:31:37.912948Z",
     "iopub.status.busy": "2022-01-21T16:31:37.912196Z",
     "iopub.status.idle": "2022-01-21T16:31:38.923462Z",
     "shell.execute_reply": "2022-01-21T16:31:38.923896Z"
    },
    "papermill": {
     "duration": 1.129542,
     "end_time": "2022-01-21T16:31:38.924033",
     "exception": false,
     "start_time": "2022-01-21T16:31:37.794491",
     "status": "completed"
    },
    "tags": []
   },
   "outputs": [
    {
     "data": {
      "image/png": "[encoded data removed]",
      "text/plain": [
       "<Figure size 720x1440 with 4 Axes>"
      ]
     },
     "metadata": {
      "needs_background": "light"
     },
     "output_type": "display_data"
    }
   ],
   "source": [
    "# distrbution of the continous features\n",
    "plt.figure(figsize=(10,20))\n",
    "plt.subplot(4,1,1)\n",
    "plt.title(\"Item_Weight Distrbution\")\n",
    "sns.kdeplot(x='Item_Weight', data=train)\n",
    "\n",
    "plt.subplot(4,1,2)\n",
    "plt.title(\"Item_Visibility Distrbution\")\n",
    "sns.kdeplot(x='Item_Visibility', data=train);\n",
    "\n",
    "plt.subplot(4,1,3)\n",
    "plt.title(\"Item_MRP Distrbution\")\n",
    "sns.kdeplot(x='Item_MRP', data=train);\n",
    "\n",
    "plt.subplot(4,1,4)\n",
    "plt.title(\"Item_Outlet_Sales\")\n",
    "sns.kdeplot(x='Item_Visibility', data=train);"
   ]
  },
  {
   "cell_type": "code",
   "execution_count": 58,
   "id": "32035899",
   "metadata": {
    "ExecuteTime": {
     "end_time": "2022-01-05T02:37:11.98736Z",
     "start_time": "2022-01-05T02:36:13.424233Z"
    },
    "execution": {
     "iopub.execute_input": "2022-01-21T16:31:39.155711Z",
     "iopub.status.busy": "2022-01-21T16:31:39.155064Z",
     "iopub.status.idle": "2022-01-21T16:32:49.100347Z",
     "shell.execute_reply": "2022-01-21T16:32:49.100904Z"
    },
    "papermill": {
     "duration": 70.062851,
     "end_time": "2022-01-21T16:32:49.101076",
     "exception": false,
     "start_time": "2022-01-21T16:31:39.038225",
     "status": "completed"
    },
    "tags": []
   },
   "outputs": [
    {
     "data": {
      "image/png": "[encoded data removed]",
      "text/plain": [
       "<Figure size 1296x1080 with 3 Axes>"
      ]
     },
     "metadata": {
      "needs_background": "light"
     },
     "output_type": "display_data"
    }
   ],
   "source": [
    "plt.figure(figsize=(18,15))\n",
    "plt.subplot(3,1,1)\n",
    "sns.lineplot(x='Item_Weight', y='Item_Outlet_Sales', data=train);\n",
    "\n",
    "plt.subplot(3,1,2)\n",
    "sns.lineplot(x='Item_Visibility', y='Item_Outlet_Sales', data=train);\n",
    "\n",
    "plt.subplot(3,1,3)\n",
    "sns.lineplot(x='Item_MRP', y='Item_Outlet_Sales', data=train);"
   ]
  },
  {
   "cell_type": "markdown",
   "id": "d1559b72",
   "metadata": {
    "papermill": {
     "duration": 0.177808,
     "end_time": "2022-01-21T16:32:49.460821",
     "exception": false,
     "start_time": "2022-01-21T16:32:49.283013",
     "status": "completed"
    },
    "tags": []
   },
   "source": [
    "Item_Visibility has a minimum value of zero. This makes no practical sense because when a product is being sold in a store, the visibility cannot be 0.\n",
    "Items MRP ranging from 200-250 dollars is having high Sales.\n"
   ]
  },
  {
   "cell_type": "code",
   "execution_count": 59,
   "id": "2279447f",
   "metadata": {
    "ExecuteTime": {
     "end_time": "2022-01-05T02:37:13.070104Z",
     "start_time": "2022-01-05T02:37:11.989322Z"
    },
    "execution": {
     "iopub.execute_input": "2022-01-21T16:32:49.823325Z",
     "iopub.status.busy": "2022-01-21T16:32:49.822787Z",
     "iopub.status.idle": "2022-01-21T16:32:51.286345Z",
     "shell.execute_reply": "2022-01-21T16:32:51.286731Z"
    },
    "papermill": {
     "duration": 1.646805,
     "end_time": "2022-01-21T16:32:51.286901",
     "exception": false,
     "start_time": "2022-01-21T16:32:49.640096",
     "status": "completed"
    },
    "tags": []
   },
   "outputs": [
    {
     "name": "stderr",
     "output_type": "stream",
     "text": [
      "C:\\Users\\PSPL\\anaconda3\\lib\\site-packages\\seaborn\\_decorators.py:36: FutureWarning: Pass the following variables as keyword args: x, y. From version 0.12, the only valid positional argument will be `data`, and passing other arguments without an explicit keyword will result in an error or misinterpretation.\n",
      "  warnings.warn(\n"
     ]
    },
    {
     "data": {
      "image/png": "[encoded data removed]",
      "text/plain": [
       "<Figure size 1800x360 with 1 Axes>"
      ]
     },
     "metadata": {
      "needs_background": "light"
     },
     "output_type": "display_data"
    }
   ],
   "source": [
    "plt.figure(figsize=(25,5))\n",
    "sns.barplot('Item_Type','Item_Outlet_Sales',hue='Item_Fat_Content',data=train,palette='mako')\n",
    "plt.legend();"
   ]
  },
  {
   "cell_type": "markdown",
   "id": "9f96e9e5",
   "metadata": {
    "papermill": {
     "duration": 0.122652,
     "end_time": "2022-01-21T16:32:51.533434",
     "exception": false,
     "start_time": "2022-01-21T16:32:51.410782",
     "status": "completed"
    },
    "tags": []
   },
   "source": [
    "**Seafood Regular is highest in price**"
   ]
  },
  {
   "cell_type": "code",
   "execution_count": 60,
   "id": "a9886843",
   "metadata": {
    "ExecuteTime": {
     "end_time": "2022-01-05T02:37:13.674815Z",
     "start_time": "2022-01-05T02:37:13.072099Z"
    },
    "execution": {
     "iopub.execute_input": "2022-01-21T16:32:51.783928Z",
     "iopub.status.busy": "2022-01-21T16:32:51.783433Z",
     "iopub.status.idle": "2022-01-21T16:32:52.424509Z",
     "shell.execute_reply": "2022-01-21T16:32:52.424102Z"
    },
    "papermill": {
     "duration": 0.767679,
     "end_time": "2022-01-21T16:32:52.424626",
     "exception": false,
     "start_time": "2022-01-21T16:32:51.656947",
     "status": "completed"
    },
    "tags": []
   },
   "outputs": [
    {
     "name": "stderr",
     "output_type": "stream",
     "text": [
      "C:\\Users\\PSPL\\anaconda3\\lib\\site-packages\\seaborn\\_decorators.py:36: FutureWarning: Pass the following variables as keyword args: x, y. From version 0.12, the only valid positional argument will be `data`, and passing other arguments without an explicit keyword will result in an error or misinterpretation.\n",
      "  warnings.warn(\n"
     ]
    },
    {
     "data": {
      "image/png": "[encoded data removed]",
      "text/plain": [
       "<Figure size 720x360 with 1 Axes>"
      ]
     },
     "metadata": {
      "needs_background": "light"
     },
     "output_type": "display_data"
    }
   ],
   "source": [
    "plt.figure(figsize=(10,5))\n",
    "sns.barplot('Outlet_Location_Type','Item_Outlet_Sales',hue='Outlet_Type',data=train,palette='magma')\n",
    "plt.legend()\n",
    "plt.show()"
   ]
  },
  {
   "cell_type": "code",
   "execution_count": 61,
   "id": "57eaced9",
   "metadata": {
    "ExecuteTime": {
     "end_time": "2022-01-05T02:37:13.707173Z",
     "start_time": "2022-01-05T02:37:13.675812Z"
    },
    "execution": {
     "iopub.execute_input": "2022-01-21T16:32:52.677461Z",
     "iopub.status.busy": "2022-01-21T16:32:52.676936Z",
     "iopub.status.idle": "2022-01-21T16:32:52.691131Z",
     "shell.execute_reply": "2022-01-21T16:32:52.691631Z"
    },
    "papermill": {
     "duration": 0.14424,
     "end_time": "2022-01-21T16:32:52.691795",
     "exception": false,
     "start_time": "2022-01-21T16:32:52.547555",
     "status": "completed"
    },
    "tags": []
   },
   "outputs": [
    {
     "data": {
      "text/plain": [
       "Item_Identifier              1559\n",
       "Item_Weight                   416\n",
       "Item_Fat_Content                2\n",
       "Item_Visibility              7880\n",
       "Item_Type                      16\n",
       "Item_MRP                     5938\n",
       "Outlet_Identifier              10\n",
       "Outlet_Establishment_Year       9\n",
       "Outlet_Size                     3\n",
       "Outlet_Location_Type            3\n",
       "Outlet_Type                     4\n",
       "Item_Outlet_Sales            3493\n",
       "Age                             9\n",
       "dtype: int64"
      ]
     },
     "execution_count": 61,
     "metadata": {},
     "output_type": "execute_result"
    }
   ],
   "source": [
    "train.nunique()"
   ]
  },
  {
   "cell_type": "code",
   "execution_count": 62,
   "id": "a73d3368",
   "metadata": {
    "ExecuteTime": {
     "end_time": "2022-01-05T02:37:14.279762Z",
     "start_time": "2022-01-05T02:37:13.709168Z"
    },
    "execution": {
     "iopub.execute_input": "2022-01-21T16:32:52.944998Z",
     "iopub.status.busy": "2022-01-21T16:32:52.944400Z",
     "iopub.status.idle": "2022-01-21T16:32:53.469528Z",
     "shell.execute_reply": "2022-01-21T16:32:53.470085Z"
    },
    "papermill": {
     "duration": 0.65501,
     "end_time": "2022-01-21T16:32:53.470259",
     "exception": false,
     "start_time": "2022-01-21T16:32:52.815249",
     "status": "completed"
    },
    "tags": []
   },
   "outputs": [
    {
     "name": "stderr",
     "output_type": "stream",
     "text": [
      "C:\\Users\\PSPL\\anaconda3\\lib\\site-packages\\seaborn\\_decorators.py:36: FutureWarning: Pass the following variables as keyword args: x, y. From version 0.12, the only valid positional argument will be `data`, and passing other arguments without an explicit keyword will result in an error or misinterpretation.\n",
      "  warnings.warn(\n"
     ]
    },
    {
     "data": {
      "image/png": "[encoded data removed]",
      "text/plain": [
       "<Figure size 720x360 with 1 Axes>"
      ]
     },
     "metadata": {
      "needs_background": "light"
     },
     "output_type": "display_data"
    }
   ],
   "source": [
    "plt.figure(figsize=(10,5))\n",
    "sns.barplot('Item_Fat_Content','Item_Outlet_Sales',hue='Outlet_Size',data=train,palette='autumn')\n",
    "plt.legend()\n",
    "plt.show()"
   ]
  },
  {
   "cell_type": "code",
   "execution_count": 63,
   "id": "2b292c03",
   "metadata": {
    "ExecuteTime": {
     "end_time": "2022-01-05T02:37:14.791977Z",
     "start_time": "2022-01-05T02:37:14.280747Z"
    },
    "execution": {
     "iopub.execute_input": "2022-01-21T16:32:53.844698Z",
     "iopub.status.busy": "2022-01-21T16:32:53.843905Z",
     "iopub.status.idle": "2022-01-21T16:32:54.475680Z",
     "shell.execute_reply": "2022-01-21T16:32:54.474936Z"
    },
    "papermill": {
     "duration": 0.822568,
     "end_time": "2022-01-21T16:32:54.475848",
     "exception": false,
     "start_time": "2022-01-21T16:32:53.653280",
     "status": "completed"
    },
    "tags": []
   },
   "outputs": [
    {
     "name": "stderr",
     "output_type": "stream",
     "text": [
      "C:\\Users\\PSPL\\anaconda3\\lib\\site-packages\\seaborn\\_decorators.py:36: FutureWarning: Pass the following variables as keyword args: x, y. From version 0.12, the only valid positional argument will be `data`, and passing other arguments without an explicit keyword will result in an error or misinterpretation.\n",
      "  warnings.warn(\n"
     ]
    },
    {
     "data": {
      "image/png": "[encoded data removed]",
      "text/plain": [
       "<Figure size 720x360 with 1 Axes>"
      ]
     },
     "metadata": {
      "needs_background": "light"
     },
     "output_type": "display_data"
    }
   ],
   "source": [
    "plt.figure(figsize=(10,5))\n",
    "sns.barplot('Item_Fat_Content','Item_Outlet_Sales',hue='Outlet_Type',data=train,palette='summer')\n",
    "plt.legend()\n",
    "plt.show()"
   ]
  },
  {
   "cell_type": "markdown",
   "id": "734a8dd1",
   "metadata": {
    "papermill": {
     "duration": 0.282868,
     "end_time": "2022-01-21T16:32:54.947151",
     "exception": false,
     "start_time": "2022-01-21T16:32:54.664283",
     "status": "completed"
    },
    "tags": []
   },
   "source": [
    "The Tier-3 location type has all types of Outlet type and has high sales margin.\n"
   ]
  },
  {
   "cell_type": "markdown",
   "id": "867825bb",
   "metadata": {
    "papermill": {
     "duration": 0.187627,
     "end_time": "2022-01-21T16:32:55.701023",
     "exception": false,
     "start_time": "2022-01-21T16:32:55.513396",
     "status": "completed"
    },
    "tags": []
   },
   "source": [
    "<a id='6'></a>\n",
    "# Date PreProcessing"
   ]
  },
  {
   "cell_type": "code",
   "execution_count": 64,
   "id": "a8f16868",
   "metadata": {
    "ExecuteTime": {
     "end_time": "2022-01-05T02:37:14.807974Z",
     "start_time": "2022-01-05T02:37:14.792989Z"
    },
    "execution": {
     "iopub.execute_input": "2022-01-21T16:32:56.071726Z",
     "iopub.status.busy": "2022-01-21T16:32:56.071124Z",
     "iopub.status.idle": "2022-01-21T16:32:56.086324Z",
     "shell.execute_reply": "2022-01-21T16:32:56.085724Z"
    },
    "papermill": {
     "duration": 0.200578,
     "end_time": "2022-01-21T16:32:56.086481",
     "exception": false,
     "start_time": "2022-01-21T16:32:55.885903",
     "status": "completed"
    },
    "tags": []
   },
   "outputs": [
    {
     "data": {
      "text/plain": [
       "Item_Identifier              1559\n",
       "Item_Weight                   416\n",
       "Item_Fat_Content                2\n",
       "Item_Visibility              7880\n",
       "Item_Type                      16\n",
       "Item_MRP                     5938\n",
       "Outlet_Identifier              10\n",
       "Outlet_Establishment_Year       9\n",
       "Outlet_Size                     3\n",
       "Outlet_Location_Type            3\n",
       "Outlet_Type                     4\n",
       "Item_Outlet_Sales            3493\n",
       "Age                             9\n",
       "dtype: int64"
      ]
     },
     "execution_count": 64,
     "metadata": {},
     "output_type": "execute_result"
    }
   ],
   "source": [
    "train.nunique()"
   ]
  },
  {
   "cell_type": "code",
   "execution_count": 65,
   "id": "fa34be69",
   "metadata": {
    "ExecuteTime": {
     "end_time": "2022-01-05T02:37:14.823932Z",
     "start_time": "2022-01-05T02:37:14.810986Z"
    },
    "execution": {
     "iopub.execute_input": "2022-01-21T16:32:56.460697Z",
     "iopub.status.busy": "2022-01-21T16:32:56.460017Z",
     "iopub.status.idle": "2022-01-21T16:32:56.462626Z",
     "shell.execute_reply": "2022-01-21T16:32:56.463139Z"
    },
    "papermill": {
     "duration": 0.19253,
     "end_time": "2022-01-21T16:32:56.463309",
     "exception": false,
     "start_time": "2022-01-21T16:32:56.270779",
     "status": "completed"
    },
    "tags": []
   },
   "outputs": [
    {
     "data": {
      "text/plain": [
       "Item_Identifier               object\n",
       "Item_Weight                  float64\n",
       "Item_Fat_Content              object\n",
       "Item_Visibility              float64\n",
       "Item_Type                     object\n",
       "Item_MRP                     float64\n",
       "Outlet_Identifier             object\n",
       "Outlet_Establishment_Year      int64\n",
       "Outlet_Size                   object\n",
       "Outlet_Location_Type          object\n",
       "Outlet_Type                   object\n",
       "Item_Outlet_Sales            float64\n",
       "Age                            int64\n",
       "dtype: object"
      ]
     },
     "execution_count": 65,
     "metadata": {},
     "output_type": "execute_result"
    }
   ],
   "source": [
    "train.dtypes"
   ]
  },
  {
   "cell_type": "code",
   "execution_count": 66,
   "id": "fc1d1f7d",
   "metadata": {
    "ExecuteTime": {
     "end_time": "2022-01-05T02:37:14.839863Z",
     "start_time": "2022-01-05T02:37:14.824927Z"
    },
    "execution": {
     "iopub.execute_input": "2022-01-21T16:32:56.835635Z",
     "iopub.status.busy": "2022-01-21T16:32:56.834983Z",
     "iopub.status.idle": "2022-01-21T16:32:56.840980Z",
     "shell.execute_reply": "2022-01-21T16:32:56.841483Z"
    },
    "papermill": {
     "duration": 0.193713,
     "end_time": "2022-01-21T16:32:56.841652",
     "exception": false,
     "start_time": "2022-01-21T16:32:56.647939",
     "status": "completed"
    },
    "tags": []
   },
   "outputs": [
    {
     "data": {
      "text/plain": [
       "Item_Identifier               object\n",
       "Item_Weight                  float64\n",
       "Item_Fat_Content              object\n",
       "Item_Visibility              float64\n",
       "Item_Type                     object\n",
       "Item_MRP                     float64\n",
       "Outlet_Identifier             object\n",
       "Outlet_Establishment_Year      int64\n",
       "Outlet_Size                   object\n",
       "Outlet_Location_Type          object\n",
       "Outlet_Type                   object\n",
       "Age                            int64\n",
       "dtype: object"
      ]
     },
     "execution_count": 66,
     "metadata": {},
     "output_type": "execute_result"
    }
   ],
   "source": [
    "test.dtypes"
   ]
  },
  {
   "cell_type": "code",
   "execution_count": 67,
   "id": "9a22ecef",
   "metadata": {
    "ExecuteTime": {
     "end_time": "2022-01-05T02:37:14.855821Z",
     "start_time": "2022-01-05T02:37:14.840859Z"
    },
    "execution": {
     "iopub.execute_input": "2022-01-21T16:32:57.218545Z",
     "iopub.status.busy": "2022-01-21T16:32:57.217874Z",
     "iopub.status.idle": "2022-01-21T16:32:57.226152Z",
     "shell.execute_reply": "2022-01-21T16:32:57.226654Z"
    },
    "papermill": {
     "duration": 0.199227,
     "end_time": "2022-01-21T16:32:57.226864",
     "exception": false,
     "start_time": "2022-01-21T16:32:57.027637",
     "status": "completed"
    },
    "tags": []
   },
   "outputs": [
    {
     "data": {
      "text/plain": [
       "Index([], dtype='object')"
      ]
     },
     "execution_count": 67,
     "metadata": {},
     "output_type": "execute_result"
    }
   ],
   "source": [
    "train.columns[train.isna().any()]"
   ]
  },
  {
   "cell_type": "markdown",
   "id": "de28b56f",
   "metadata": {
    "papermill": {
     "duration": 0.184588,
     "end_time": "2022-01-21T16:32:57.594908",
     "exception": false,
     "start_time": "2022-01-21T16:32:57.410320",
     "status": "completed"
    },
    "tags": []
   },
   "source": [
    "<a id='6.1'></a>\n",
    "***Label Encoder***"
   ]
  },
  {
   "cell_type": "code",
   "execution_count": 68,
   "id": "fcb15b6b",
   "metadata": {
    "ExecuteTime": {
     "end_time": "2022-01-05T02:37:14.887769Z",
     "start_time": "2022-01-05T02:37:14.856818Z"
    },
    "execution": {
     "iopub.execute_input": "2022-01-21T16:32:57.962700Z",
     "iopub.status.busy": "2022-01-21T16:32:57.962099Z",
     "iopub.status.idle": "2022-01-21T16:32:57.981054Z",
     "shell.execute_reply": "2022-01-21T16:32:57.980407Z"
    },
    "papermill": {
     "duration": 0.202637,
     "end_time": "2022-01-21T16:32:57.981200",
     "exception": false,
     "start_time": "2022-01-21T16:32:57.778563",
     "status": "completed"
    },
    "tags": []
   },
   "outputs": [],
   "source": [
    "#apply Label Encoder to convert Categorical ordered features to numeric\n",
    "encode = LabelEncoder()\n",
    "list_transform = ['Item_Fat_Content','Outlet_Location_Type','Outlet_Size','Outlet_Type']\n",
    "\n",
    "for i in list_transform:\n",
    "    train[i] = encode.fit_transform(train[i])\n",
    "    \n",
    "for i in list_transform:\n",
    "    test[i] = encode.fit_transform(test[i])"
   ]
  },
  {
   "cell_type": "code",
   "execution_count": 69,
   "id": "f751482c",
   "metadata": {
    "ExecuteTime": {
     "end_time": "2022-01-05T02:37:14.903717Z",
     "start_time": "2022-01-05T02:37:14.888765Z"
    },
    "execution": {
     "iopub.execute_input": "2022-01-21T16:32:58.374491Z",
     "iopub.status.busy": "2022-01-21T16:32:58.373804Z",
     "iopub.status.idle": "2022-01-21T16:32:58.380743Z",
     "shell.execute_reply": "2022-01-21T16:32:58.380163Z"
    },
    "papermill": {
     "duration": 0.206964,
     "end_time": "2022-01-21T16:32:58.380908",
     "exception": false,
     "start_time": "2022-01-21T16:32:58.173944",
     "status": "completed"
    },
    "tags": []
   },
   "outputs": [
    {
     "data": {
      "text/plain": [
       "Item_Identifier               object\n",
       "Item_Weight                  float64\n",
       "Item_Fat_Content               int32\n",
       "Item_Visibility              float64\n",
       "Item_Type                     object\n",
       "Item_MRP                     float64\n",
       "Outlet_Identifier             object\n",
       "Outlet_Establishment_Year      int64\n",
       "Outlet_Size                    int32\n",
       "Outlet_Location_Type           int32\n",
       "Outlet_Type                    int32\n",
       "Item_Outlet_Sales            float64\n",
       "Age                            int64\n",
       "dtype: object"
      ]
     },
     "execution_count": 69,
     "metadata": {},
     "output_type": "execute_result"
    }
   ],
   "source": [
    "train.dtypes"
   ]
  },
  {
   "cell_type": "code",
   "execution_count": 70,
   "id": "43bd59d6",
   "metadata": {
    "ExecuteTime": {
     "end_time": "2022-01-05T02:37:14.919683Z",
     "start_time": "2022-01-05T02:37:14.904713Z"
    },
    "execution": {
     "iopub.execute_input": "2022-01-21T16:32:58.766271Z",
     "iopub.status.busy": "2022-01-21T16:32:58.765607Z",
     "iopub.status.idle": "2022-01-21T16:32:58.769378Z",
     "shell.execute_reply": "2022-01-21T16:32:58.768841Z"
    },
    "papermill": {
     "duration": 0.20097,
     "end_time": "2022-01-21T16:32:58.769513",
     "exception": false,
     "start_time": "2022-01-21T16:32:58.568543",
     "status": "completed"
    },
    "tags": []
   },
   "outputs": [
    {
     "data": {
      "text/plain": [
       "Item_Identifier               object\n",
       "Item_Weight                  float64\n",
       "Item_Fat_Content               int32\n",
       "Item_Visibility              float64\n",
       "Item_Type                     object\n",
       "Item_MRP                     float64\n",
       "Outlet_Identifier             object\n",
       "Outlet_Establishment_Year      int64\n",
       "Outlet_Size                    int32\n",
       "Outlet_Location_Type           int32\n",
       "Outlet_Type                    int32\n",
       "Age                            int64\n",
       "dtype: object"
      ]
     },
     "execution_count": 70,
     "metadata": {},
     "output_type": "execute_result"
    }
   ],
   "source": [
    "test.dtypes"
   ]
  },
  {
   "cell_type": "code",
   "execution_count": 71,
   "id": "f887f615",
   "metadata": {
    "ExecuteTime": {
     "end_time": "2022-01-05T02:37:14.935607Z",
     "start_time": "2022-01-05T02:37:14.921644Z"
    },
    "execution": {
     "iopub.execute_input": "2022-01-21T16:32:59.146150Z",
     "iopub.status.busy": "2022-01-21T16:32:59.145466Z",
     "iopub.status.idle": "2022-01-21T16:32:59.152141Z",
     "shell.execute_reply": "2022-01-21T16:32:59.151602Z"
    },
    "papermill": {
     "duration": 0.195062,
     "end_time": "2022-01-21T16:32:59.152289",
     "exception": false,
     "start_time": "2022-01-21T16:32:58.957227",
     "status": "completed"
    },
    "tags": []
   },
   "outputs": [],
   "source": [
    "#drop non needed features\n",
    "train = train.drop(['Item_Identifier','Outlet_Identifier','Outlet_Establishment_Year'],axis=1)\n",
    "test= test.drop(['Item_Identifier','Outlet_Identifier','Outlet_Establishment_Year'],axis=1)"
   ]
  },
  {
   "cell_type": "code",
   "execution_count": 72,
   "id": "82493d5d",
   "metadata": {
    "ExecuteTime": {
     "end_time": "2022-01-05T02:37:14.967524Z",
     "start_time": "2022-01-05T02:37:14.936604Z"
    },
    "execution": {
     "iopub.execute_input": "2022-01-21T16:32:59.530100Z",
     "iopub.status.busy": "2022-01-21T16:32:59.529400Z",
     "iopub.status.idle": "2022-01-21T16:32:59.544881Z",
     "shell.execute_reply": "2022-01-21T16:32:59.544156Z"
    },
    "papermill": {
     "duration": 0.206316,
     "end_time": "2022-01-21T16:32:59.545019",
     "exception": false,
     "start_time": "2022-01-21T16:32:59.338703",
     "status": "completed"
    },
    "tags": []
   },
   "outputs": [
    {
     "data": {
      "text/html": [
       "<div>\n",
       "<style scoped>\n",
       "    .dataframe tbody tr th:only-of-type {\n",
       "        vertical-align: middle;\n",
       "    }\n",
       "\n",
       "    .dataframe tbody tr th {\n",
       "        vertical-align: top;\n",
       "    }\n",
       "\n",
       "    .dataframe thead th {\n",
       "        text-align: right;\n",
       "    }\n",
       "</style>\n",
       "<table border=\"1\" class=\"dataframe\">\n",
       "  <thead>\n",
       "    <tr style=\"text-align: right;\">\n",
       "      <th></th>\n",
       "      <th>Item_Weight</th>\n",
       "      <th>Item_Fat_Content</th>\n",
       "      <th>Item_Visibility</th>\n",
       "      <th>Item_MRP</th>\n",
       "      <th>Outlet_Size</th>\n",
       "      <th>Outlet_Location_Type</th>\n",
       "      <th>Outlet_Type</th>\n",
       "      <th>Item_Outlet_Sales</th>\n",
       "      <th>Age</th>\n",
       "    </tr>\n",
       "  </thead>\n",
       "  <tbody>\n",
       "    <tr>\n",
       "      <th>Item_Weight</th>\n",
       "      <td>1.000000</td>\n",
       "      <td>-0.021157</td>\n",
       "      <td>-0.012049</td>\n",
       "      <td>0.024756</td>\n",
       "      <td>-0.007225</td>\n",
       "      <td>0.004088</td>\n",
       "      <td>-0.000566</td>\n",
       "      <td>0.011550</td>\n",
       "      <td>0.008301</td>\n",
       "    </tr>\n",
       "    <tr>\n",
       "      <th>Item_Fat_Content</th>\n",
       "      <td>-0.021157</td>\n",
       "      <td>1.000000</td>\n",
       "      <td>0.047314</td>\n",
       "      <td>0.006063</td>\n",
       "      <td>-0.000622</td>\n",
       "      <td>-0.001598</td>\n",
       "      <td>0.002199</td>\n",
       "      <td>0.018719</td>\n",
       "      <td>-0.003151</td>\n",
       "    </tr>\n",
       "    <tr>\n",
       "      <th>Item_Visibility</th>\n",
       "      <td>-0.012049</td>\n",
       "      <td>0.047314</td>\n",
       "      <td>1.000000</td>\n",
       "      <td>-0.001315</td>\n",
       "      <td>0.069309</td>\n",
       "      <td>-0.028099</td>\n",
       "      <td>-0.173468</td>\n",
       "      <td>-0.128625</td>\n",
       "      <td>0.074834</td>\n",
       "    </tr>\n",
       "    <tr>\n",
       "      <th>Item_MRP</th>\n",
       "      <td>0.024756</td>\n",
       "      <td>0.006063</td>\n",
       "      <td>-0.001315</td>\n",
       "      <td>1.000000</td>\n",
       "      <td>0.006059</td>\n",
       "      <td>0.000232</td>\n",
       "      <td>-0.001975</td>\n",
       "      <td>0.567574</td>\n",
       "      <td>-0.005020</td>\n",
       "    </tr>\n",
       "    <tr>\n",
       "      <th>Outlet_Size</th>\n",
       "      <td>-0.007225</td>\n",
       "      <td>-0.000622</td>\n",
       "      <td>0.069309</td>\n",
       "      <td>0.006059</td>\n",
       "      <td>1.000000</td>\n",
       "      <td>-0.614311</td>\n",
       "      <td>-0.201483</td>\n",
       "      <td>-0.086182</td>\n",
       "      <td>-0.193389</td>\n",
       "    </tr>\n",
       "    <tr>\n",
       "      <th>Outlet_Location_Type</th>\n",
       "      <td>0.004088</td>\n",
       "      <td>-0.001598</td>\n",
       "      <td>-0.028099</td>\n",
       "      <td>0.000232</td>\n",
       "      <td>-0.614311</td>\n",
       "      <td>1.000000</td>\n",
       "      <td>0.467219</td>\n",
       "      <td>0.089367</td>\n",
       "      <td>0.089216</td>\n",
       "    </tr>\n",
       "    <tr>\n",
       "      <th>Outlet_Type</th>\n",
       "      <td>-0.000566</td>\n",
       "      <td>0.002199</td>\n",
       "      <td>-0.173468</td>\n",
       "      <td>-0.001975</td>\n",
       "      <td>-0.201483</td>\n",
       "      <td>0.467219</td>\n",
       "      <td>1.000000</td>\n",
       "      <td>0.401522</td>\n",
       "      <td>0.122304</td>\n",
       "    </tr>\n",
       "    <tr>\n",
       "      <th>Item_Outlet_Sales</th>\n",
       "      <td>0.011550</td>\n",
       "      <td>0.018719</td>\n",
       "      <td>-0.128625</td>\n",
       "      <td>0.567574</td>\n",
       "      <td>-0.086182</td>\n",
       "      <td>0.089367</td>\n",
       "      <td>0.401522</td>\n",
       "      <td>1.000000</td>\n",
       "      <td>0.049135</td>\n",
       "    </tr>\n",
       "    <tr>\n",
       "      <th>Age</th>\n",
       "      <td>0.008301</td>\n",
       "      <td>-0.003151</td>\n",
       "      <td>0.074834</td>\n",
       "      <td>-0.005020</td>\n",
       "      <td>-0.193389</td>\n",
       "      <td>0.089216</td>\n",
       "      <td>0.122304</td>\n",
       "      <td>0.049135</td>\n",
       "      <td>1.000000</td>\n",
       "    </tr>\n",
       "  </tbody>\n",
       "</table>\n",
       "</div>"
      ],
      "text/plain": [
       "                      Item_Weight  Item_Fat_Content  Item_Visibility  \\\n",
       "Item_Weight              1.000000         -0.021157        -0.012049   \n",
       "Item_Fat_Content        -0.021157          1.000000         0.047314   \n",
       "Item_Visibility         -0.012049          0.047314         1.000000   \n",
       "Item_MRP                 0.024756          0.006063        -0.001315   \n",
       "Outlet_Size             -0.007225         -0.000622         0.069309   \n",
       "Outlet_Location_Type     0.004088         -0.001598        -0.028099   \n",
       "Outlet_Type             -0.000566          0.002199        -0.173468   \n",
       "Item_Outlet_Sales        0.011550          0.018719        -0.128625   \n",
       "Age                      0.008301         -0.003151         0.074834   \n",
       "\n",
       "                      Item_MRP  Outlet_Size  Outlet_Location_Type  \\\n",
       "Item_Weight           0.024756    -0.007225              0.004088   \n",
       "Item_Fat_Content      0.006063    -0.000622             -0.001598   \n",
       "Item_Visibility      -0.001315     0.069309             -0.028099   \n",
       "Item_MRP              1.000000     0.006059              0.000232   \n",
       "Outlet_Size           0.006059     1.000000             -0.614311   \n",
       "Outlet_Location_Type  0.000232    -0.614311              1.000000   \n",
       "Outlet_Type          -0.001975    -0.201483              0.467219   \n",
       "Item_Outlet_Sales     0.567574    -0.086182              0.089367   \n",
       "Age                  -0.005020    -0.193389              0.089216   \n",
       "\n",
       "                      Outlet_Type  Item_Outlet_Sales       Age  \n",
       "Item_Weight             -0.000566           0.011550  0.008301  \n",
       "Item_Fat_Content         0.002199           0.018719 -0.003151  \n",
       "Item_Visibility         -0.173468          -0.128625  0.074834  \n",
       "Item_MRP                -0.001975           0.567574 -0.005020  \n",
       "Outlet_Size             -0.201483          -0.086182 -0.193389  \n",
       "Outlet_Location_Type     0.467219           0.089367  0.089216  \n",
       "Outlet_Type              1.000000           0.401522  0.122304  \n",
       "Item_Outlet_Sales        0.401522           1.000000  0.049135  \n",
       "Age                      0.122304           0.049135  1.000000  "
      ]
     },
     "execution_count": 72,
     "metadata": {},
     "output_type": "execute_result"
    }
   ],
   "source": [
    "train.corr()"
   ]
  },
  {
   "cell_type": "code",
   "execution_count": 73,
   "id": "6baf3662",
   "metadata": {
    "ExecuteTime": {
     "end_time": "2022-01-05T02:37:16.115759Z",
     "start_time": "2022-01-05T02:37:14.968519Z"
    },
    "execution": {
     "iopub.execute_input": "2022-01-21T16:32:59.934067Z",
     "iopub.status.busy": "2022-01-21T16:32:59.933285Z",
     "iopub.status.idle": "2022-01-21T16:33:00.674844Z",
     "shell.execute_reply": "2022-01-21T16:33:00.673683Z"
    },
    "papermill": {
     "duration": 0.93706,
     "end_time": "2022-01-21T16:33:00.675020",
     "exception": false,
     "start_time": "2022-01-21T16:32:59.737960",
     "status": "completed"
    },
    "tags": []
   },
   "outputs": [
    {
     "data": {
      "image/png": "[encoded data removed]",
      "text/plain": [
       "<Figure size 1440x720 with 2 Axes>"
      ]
     },
     "metadata": {
      "needs_background": "light"
     },
     "output_type": "display_data"
    }
   ],
   "source": [
    "plt.figure(figsize=(20,10))\n",
    "sns.heatmap(train.corr(), annot=True);"
   ]
  },
  {
   "cell_type": "markdown",
   "id": "0dfe3b28",
   "metadata": {
    "papermill": {
     "duration": 0.189684,
     "end_time": "2022-01-21T16:33:01.053202",
     "exception": false,
     "start_time": "2022-01-21T16:33:00.863518",
     "status": "completed"
    },
    "tags": []
   },
   "source": [
    "<a id='6.2'></a>\n",
    "***one hot encoder***"
   ]
  },
  {
   "cell_type": "code",
   "execution_count": 74,
   "id": "8a738bbf",
   "metadata": {
    "ExecuteTime": {
     "end_time": "2022-01-05T02:37:16.131741Z",
     "start_time": "2022-01-05T02:37:16.117752Z"
    },
    "execution": {
     "iopub.execute_input": "2022-01-21T16:33:01.442331Z",
     "iopub.status.busy": "2022-01-21T16:33:01.441611Z",
     "iopub.status.idle": "2022-01-21T16:33:01.445906Z",
     "shell.execute_reply": "2022-01-21T16:33:01.445368Z"
    },
    "papermill": {
     "duration": 0.203289,
     "end_time": "2022-01-21T16:33:01.446021",
     "exception": false,
     "start_time": "2022-01-21T16:33:01.242732",
     "status": "completed"
    },
    "tags": []
   },
   "outputs": [],
   "source": [
    "#apply one hot encoder to convert non-order categorical featuers\n",
    "dummies1 = pd.get_dummies(train.Item_Type)\n",
    "dummies2 = pd.get_dummies(test.Item_Type)"
   ]
  },
  {
   "cell_type": "code",
   "execution_count": 75,
   "id": "7ca7f03c",
   "metadata": {
    "ExecuteTime": {
     "end_time": "2022-01-05T02:37:16.194547Z",
     "start_time": "2022-01-05T02:37:16.132712Z"
    },
    "execution": {
     "iopub.execute_input": "2022-01-21T16:33:01.709407Z",
     "iopub.status.busy": "2022-01-21T16:33:01.708862Z",
     "iopub.status.idle": "2022-01-21T16:33:01.722393Z",
     "shell.execute_reply": "2022-01-21T16:33:01.722753Z"
    },
    "papermill": {
     "duration": 0.149852,
     "end_time": "2022-01-21T16:33:01.722929",
     "exception": false,
     "start_time": "2022-01-21T16:33:01.573077",
     "status": "completed"
    },
    "tags": []
   },
   "outputs": [
    {
     "data": {
      "text/html": [
       "<div>\n",
       "<style scoped>\n",
       "    .dataframe tbody tr th:only-of-type {\n",
       "        vertical-align: middle;\n",
       "    }\n",
       "\n",
       "    .dataframe tbody tr th {\n",
       "        vertical-align: top;\n",
       "    }\n",
       "\n",
       "    .dataframe thead th {\n",
       "        text-align: right;\n",
       "    }\n",
       "</style>\n",
       "<table border=\"1\" class=\"dataframe\">\n",
       "  <thead>\n",
       "    <tr style=\"text-align: right;\">\n",
       "      <th></th>\n",
       "      <th>Item_Weight</th>\n",
       "      <th>Item_Fat_Content</th>\n",
       "      <th>Item_Visibility</th>\n",
       "      <th>Item_Type</th>\n",
       "      <th>Item_MRP</th>\n",
       "      <th>Outlet_Size</th>\n",
       "      <th>Outlet_Location_Type</th>\n",
       "      <th>Outlet_Type</th>\n",
       "      <th>Item_Outlet_Sales</th>\n",
       "      <th>Age</th>\n",
       "    </tr>\n",
       "  </thead>\n",
       "  <tbody>\n",
       "    <tr>\n",
       "      <th>0</th>\n",
       "      <td>9.30</td>\n",
       "      <td>0</td>\n",
       "      <td>0.016047</td>\n",
       "      <td>Dairy</td>\n",
       "      <td>249.8092</td>\n",
       "      <td>1</td>\n",
       "      <td>0</td>\n",
       "      <td>1</td>\n",
       "      <td>3735.1380</td>\n",
       "      <td>22</td>\n",
       "    </tr>\n",
       "    <tr>\n",
       "      <th>1</th>\n",
       "      <td>5.92</td>\n",
       "      <td>1</td>\n",
       "      <td>0.019278</td>\n",
       "      <td>Soft Drinks</td>\n",
       "      <td>48.2692</td>\n",
       "      <td>1</td>\n",
       "      <td>2</td>\n",
       "      <td>2</td>\n",
       "      <td>443.4228</td>\n",
       "      <td>12</td>\n",
       "    </tr>\n",
       "    <tr>\n",
       "      <th>2</th>\n",
       "      <td>17.50</td>\n",
       "      <td>0</td>\n",
       "      <td>0.016760</td>\n",
       "      <td>Meat</td>\n",
       "      <td>141.6180</td>\n",
       "      <td>1</td>\n",
       "      <td>0</td>\n",
       "      <td>1</td>\n",
       "      <td>2097.2700</td>\n",
       "      <td>22</td>\n",
       "    </tr>\n",
       "    <tr>\n",
       "      <th>3</th>\n",
       "      <td>19.20</td>\n",
       "      <td>1</td>\n",
       "      <td>0.000000</td>\n",
       "      <td>Fruits and Vegetables</td>\n",
       "      <td>182.0950</td>\n",
       "      <td>1</td>\n",
       "      <td>2</td>\n",
       "      <td>0</td>\n",
       "      <td>732.3800</td>\n",
       "      <td>23</td>\n",
       "    </tr>\n",
       "    <tr>\n",
       "      <th>4</th>\n",
       "      <td>8.93</td>\n",
       "      <td>0</td>\n",
       "      <td>0.000000</td>\n",
       "      <td>Household</td>\n",
       "      <td>53.8614</td>\n",
       "      <td>0</td>\n",
       "      <td>2</td>\n",
       "      <td>1</td>\n",
       "      <td>994.7052</td>\n",
       "      <td>34</td>\n",
       "    </tr>\n",
       "  </tbody>\n",
       "</table>\n",
       "</div>"
      ],
      "text/plain": [
       "   Item_Weight  Item_Fat_Content  Item_Visibility              Item_Type  \\\n",
       "0         9.30                 0         0.016047                  Dairy   \n",
       "1         5.92                 1         0.019278            Soft Drinks   \n",
       "2        17.50                 0         0.016760                   Meat   \n",
       "3        19.20                 1         0.000000  Fruits and Vegetables   \n",
       "4         8.93                 0         0.000000              Household   \n",
       "\n",
       "   Item_MRP  Outlet_Size  Outlet_Location_Type  Outlet_Type  \\\n",
       "0  249.8092            1                     0            1   \n",
       "1   48.2692            1                     2            2   \n",
       "2  141.6180            1                     0            1   \n",
       "3  182.0950            1                     2            0   \n",
       "4   53.8614            0                     2            1   \n",
       "\n",
       "   Item_Outlet_Sales  Age  \n",
       "0          3735.1380   22  \n",
       "1           443.4228   12  \n",
       "2          2097.2700   22  \n",
       "3           732.3800   23  \n",
       "4           994.7052   34  "
      ]
     },
     "execution_count": 75,
     "metadata": {},
     "output_type": "execute_result"
    }
   ],
   "source": [
    "train.head()"
   ]
  },
  {
   "cell_type": "code",
   "execution_count": 76,
   "id": "eeea8273",
   "metadata": {
    "ExecuteTime": {
     "end_time": "2022-01-05T02:37:16.226463Z",
     "start_time": "2022-01-05T02:37:16.196543Z"
    },
    "execution": {
     "iopub.execute_input": "2022-01-21T16:33:01.993500Z",
     "iopub.status.busy": "2022-01-21T16:33:01.992992Z",
     "iopub.status.idle": "2022-01-21T16:33:02.005871Z",
     "shell.execute_reply": "2022-01-21T16:33:02.006292Z"
    },
    "papermill": {
     "duration": 0.151698,
     "end_time": "2022-01-21T16:33:02.006446",
     "exception": false,
     "start_time": "2022-01-21T16:33:01.854748",
     "status": "completed"
    },
    "tags": []
   },
   "outputs": [
    {
     "data": {
      "text/html": [
       "<div>\n",
       "<style scoped>\n",
       "    .dataframe tbody tr th:only-of-type {\n",
       "        vertical-align: middle;\n",
       "    }\n",
       "\n",
       "    .dataframe tbody tr th {\n",
       "        vertical-align: top;\n",
       "    }\n",
       "\n",
       "    .dataframe thead th {\n",
       "        text-align: right;\n",
       "    }\n",
       "</style>\n",
       "<table border=\"1\" class=\"dataframe\">\n",
       "  <thead>\n",
       "    <tr style=\"text-align: right;\">\n",
       "      <th></th>\n",
       "      <th>Item_Weight</th>\n",
       "      <th>Item_Fat_Content</th>\n",
       "      <th>Item_Visibility</th>\n",
       "      <th>Item_Type</th>\n",
       "      <th>Item_MRP</th>\n",
       "      <th>Outlet_Size</th>\n",
       "      <th>Outlet_Location_Type</th>\n",
       "      <th>Outlet_Type</th>\n",
       "      <th>Age</th>\n",
       "    </tr>\n",
       "  </thead>\n",
       "  <tbody>\n",
       "    <tr>\n",
       "      <th>0</th>\n",
       "      <td>20.750000</td>\n",
       "      <td>0</td>\n",
       "      <td>0.007565</td>\n",
       "      <td>Snack Foods</td>\n",
       "      <td>107.8622</td>\n",
       "      <td>1</td>\n",
       "      <td>0</td>\n",
       "      <td>1</td>\n",
       "      <td>22</td>\n",
       "    </tr>\n",
       "    <tr>\n",
       "      <th>1</th>\n",
       "      <td>8.300000</td>\n",
       "      <td>1</td>\n",
       "      <td>0.038428</td>\n",
       "      <td>Dairy</td>\n",
       "      <td>87.3198</td>\n",
       "      <td>1</td>\n",
       "      <td>1</td>\n",
       "      <td>1</td>\n",
       "      <td>14</td>\n",
       "    </tr>\n",
       "    <tr>\n",
       "      <th>2</th>\n",
       "      <td>14.600000</td>\n",
       "      <td>0</td>\n",
       "      <td>0.099575</td>\n",
       "      <td>Others</td>\n",
       "      <td>241.7538</td>\n",
       "      <td>1</td>\n",
       "      <td>2</td>\n",
       "      <td>0</td>\n",
       "      <td>23</td>\n",
       "    </tr>\n",
       "    <tr>\n",
       "      <th>3</th>\n",
       "      <td>7.315000</td>\n",
       "      <td>0</td>\n",
       "      <td>0.015388</td>\n",
       "      <td>Snack Foods</td>\n",
       "      <td>155.0340</td>\n",
       "      <td>1</td>\n",
       "      <td>1</td>\n",
       "      <td>1</td>\n",
       "      <td>14</td>\n",
       "    </tr>\n",
       "    <tr>\n",
       "      <th>4</th>\n",
       "      <td>12.695633</td>\n",
       "      <td>1</td>\n",
       "      <td>0.118599</td>\n",
       "      <td>Dairy</td>\n",
       "      <td>234.2300</td>\n",
       "      <td>1</td>\n",
       "      <td>2</td>\n",
       "      <td>3</td>\n",
       "      <td>36</td>\n",
       "    </tr>\n",
       "  </tbody>\n",
       "</table>\n",
       "</div>"
      ],
      "text/plain": [
       "   Item_Weight  Item_Fat_Content  Item_Visibility    Item_Type  Item_MRP  \\\n",
       "0    20.750000                 0         0.007565  Snack Foods  107.8622   \n",
       "1     8.300000                 1         0.038428        Dairy   87.3198   \n",
       "2    14.600000                 0         0.099575       Others  241.7538   \n",
       "3     7.315000                 0         0.015388  Snack Foods  155.0340   \n",
       "4    12.695633                 1         0.118599        Dairy  234.2300   \n",
       "\n",
       "   Outlet_Size  Outlet_Location_Type  Outlet_Type  Age  \n",
       "0            1                     0            1   22  \n",
       "1            1                     1            1   14  \n",
       "2            1                     2            0   23  \n",
       "3            1                     1            1   14  \n",
       "4            1                     2            3   36  "
      ]
     },
     "execution_count": 76,
     "metadata": {},
     "output_type": "execute_result"
    }
   ],
   "source": [
    "test.head()"
   ]
  },
  {
   "cell_type": "code",
   "execution_count": 77,
   "id": "d8f68693",
   "metadata": {
    "ExecuteTime": {
     "end_time": "2022-01-05T02:37:16.24242Z",
     "start_time": "2022-01-05T02:37:16.228456Z"
    },
    "execution": {
     "iopub.execute_input": "2022-01-21T16:33:02.282205Z",
     "iopub.status.busy": "2022-01-21T16:33:02.281663Z",
     "iopub.status.idle": "2022-01-21T16:33:02.284459Z",
     "shell.execute_reply": "2022-01-21T16:33:02.283951Z"
    },
    "papermill": {
     "duration": 0.144298,
     "end_time": "2022-01-21T16:33:02.284581",
     "exception": false,
     "start_time": "2022-01-21T16:33:02.140283",
     "status": "completed"
    },
    "tags": []
   },
   "outputs": [],
   "source": [
    "train = pd.concat([train, dummies1], axis=1)\n",
    "test = pd.concat([test, dummies2], axis=1)"
   ]
  },
  {
   "cell_type": "code",
   "execution_count": 78,
   "id": "40608a69",
   "metadata": {
    "ExecuteTime": {
     "end_time": "2022-01-05T02:37:16.274333Z",
     "start_time": "2022-01-05T02:37:16.244414Z"
    },
    "execution": {
     "iopub.execute_input": "2022-01-21T16:33:02.569590Z",
     "iopub.status.busy": "2022-01-21T16:33:02.558834Z",
     "iopub.status.idle": "2022-01-21T16:33:02.581107Z",
     "shell.execute_reply": "2022-01-21T16:33:02.580557Z"
    },
    "papermill": {
     "duration": 0.163683,
     "end_time": "2022-01-21T16:33:02.581251",
     "exception": false,
     "start_time": "2022-01-21T16:33:02.417568",
     "status": "completed"
    },
    "tags": []
   },
   "outputs": [
    {
     "data": {
      "text/html": [
       "<div>\n",
       "<style scoped>\n",
       "    .dataframe tbody tr th:only-of-type {\n",
       "        vertical-align: middle;\n",
       "    }\n",
       "\n",
       "    .dataframe tbody tr th {\n",
       "        vertical-align: top;\n",
       "    }\n",
       "\n",
       "    .dataframe thead th {\n",
       "        text-align: right;\n",
       "    }\n",
       "</style>\n",
       "<table border=\"1\" class=\"dataframe\">\n",
       "  <thead>\n",
       "    <tr style=\"text-align: right;\">\n",
       "      <th></th>\n",
       "      <th>Item_Weight</th>\n",
       "      <th>Item_Fat_Content</th>\n",
       "      <th>Item_Visibility</th>\n",
       "      <th>Item_Type</th>\n",
       "      <th>Item_MRP</th>\n",
       "      <th>Outlet_Size</th>\n",
       "      <th>Outlet_Location_Type</th>\n",
       "      <th>Outlet_Type</th>\n",
       "      <th>Item_Outlet_Sales</th>\n",
       "      <th>Age</th>\n",
       "      <th>...</th>\n",
       "      <th>Fruits and Vegetables</th>\n",
       "      <th>Hard Drinks</th>\n",
       "      <th>Health and Hygiene</th>\n",
       "      <th>Household</th>\n",
       "      <th>Meat</th>\n",
       "      <th>Others</th>\n",
       "      <th>Seafood</th>\n",
       "      <th>Snack Foods</th>\n",
       "      <th>Soft Drinks</th>\n",
       "      <th>Starchy Foods</th>\n",
       "    </tr>\n",
       "  </thead>\n",
       "  <tbody>\n",
       "    <tr>\n",
       "      <th>0</th>\n",
       "      <td>9.30</td>\n",
       "      <td>0</td>\n",
       "      <td>0.016047</td>\n",
       "      <td>Dairy</td>\n",
       "      <td>249.8092</td>\n",
       "      <td>1</td>\n",
       "      <td>0</td>\n",
       "      <td>1</td>\n",
       "      <td>3735.1380</td>\n",
       "      <td>22</td>\n",
       "      <td>...</td>\n",
       "      <td>0</td>\n",
       "      <td>0</td>\n",
       "      <td>0</td>\n",
       "      <td>0</td>\n",
       "      <td>0</td>\n",
       "      <td>0</td>\n",
       "      <td>0</td>\n",
       "      <td>0</td>\n",
       "      <td>0</td>\n",
       "      <td>0</td>\n",
       "    </tr>\n",
       "    <tr>\n",
       "      <th>1</th>\n",
       "      <td>5.92</td>\n",
       "      <td>1</td>\n",
       "      <td>0.019278</td>\n",
       "      <td>Soft Drinks</td>\n",
       "      <td>48.2692</td>\n",
       "      <td>1</td>\n",
       "      <td>2</td>\n",
       "      <td>2</td>\n",
       "      <td>443.4228</td>\n",
       "      <td>12</td>\n",
       "      <td>...</td>\n",
       "      <td>0</td>\n",
       "      <td>0</td>\n",
       "      <td>0</td>\n",
       "      <td>0</td>\n",
       "      <td>0</td>\n",
       "      <td>0</td>\n",
       "      <td>0</td>\n",
       "      <td>0</td>\n",
       "      <td>1</td>\n",
       "      <td>0</td>\n",
       "    </tr>\n",
       "    <tr>\n",
       "      <th>2</th>\n",
       "      <td>17.50</td>\n",
       "      <td>0</td>\n",
       "      <td>0.016760</td>\n",
       "      <td>Meat</td>\n",
       "      <td>141.6180</td>\n",
       "      <td>1</td>\n",
       "      <td>0</td>\n",
       "      <td>1</td>\n",
       "      <td>2097.2700</td>\n",
       "      <td>22</td>\n",
       "      <td>...</td>\n",
       "      <td>0</td>\n",
       "      <td>0</td>\n",
       "      <td>0</td>\n",
       "      <td>0</td>\n",
       "      <td>1</td>\n",
       "      <td>0</td>\n",
       "      <td>0</td>\n",
       "      <td>0</td>\n",
       "      <td>0</td>\n",
       "      <td>0</td>\n",
       "    </tr>\n",
       "    <tr>\n",
       "      <th>3</th>\n",
       "      <td>19.20</td>\n",
       "      <td>1</td>\n",
       "      <td>0.000000</td>\n",
       "      <td>Fruits and Vegetables</td>\n",
       "      <td>182.0950</td>\n",
       "      <td>1</td>\n",
       "      <td>2</td>\n",
       "      <td>0</td>\n",
       "      <td>732.3800</td>\n",
       "      <td>23</td>\n",
       "      <td>...</td>\n",
       "      <td>1</td>\n",
       "      <td>0</td>\n",
       "      <td>0</td>\n",
       "      <td>0</td>\n",
       "      <td>0</td>\n",
       "      <td>0</td>\n",
       "      <td>0</td>\n",
       "      <td>0</td>\n",
       "      <td>0</td>\n",
       "      <td>0</td>\n",
       "    </tr>\n",
       "    <tr>\n",
       "      <th>4</th>\n",
       "      <td>8.93</td>\n",
       "      <td>0</td>\n",
       "      <td>0.000000</td>\n",
       "      <td>Household</td>\n",
       "      <td>53.8614</td>\n",
       "      <td>0</td>\n",
       "      <td>2</td>\n",
       "      <td>1</td>\n",
       "      <td>994.7052</td>\n",
       "      <td>34</td>\n",
       "      <td>...</td>\n",
       "      <td>0</td>\n",
       "      <td>0</td>\n",
       "      <td>0</td>\n",
       "      <td>1</td>\n",
       "      <td>0</td>\n",
       "      <td>0</td>\n",
       "      <td>0</td>\n",
       "      <td>0</td>\n",
       "      <td>0</td>\n",
       "      <td>0</td>\n",
       "    </tr>\n",
       "  </tbody>\n",
       "</table>\n",
       "<p>5 rows × 26 columns</p>\n",
       "</div>"
      ],
      "text/plain": [
       "   Item_Weight  Item_Fat_Content  Item_Visibility              Item_Type  \\\n",
       "0         9.30                 0         0.016047                  Dairy   \n",
       "1         5.92                 1         0.019278            Soft Drinks   \n",
       "2        17.50                 0         0.016760                   Meat   \n",
       "3        19.20                 1         0.000000  Fruits and Vegetables   \n",
       "4         8.93                 0         0.000000              Household   \n",
       "\n",
       "   Item_MRP  Outlet_Size  Outlet_Location_Type  Outlet_Type  \\\n",
       "0  249.8092            1                     0            1   \n",
       "1   48.2692            1                     2            2   \n",
       "2  141.6180            1                     0            1   \n",
       "3  182.0950            1                     2            0   \n",
       "4   53.8614            0                     2            1   \n",
       "\n",
       "   Item_Outlet_Sales  Age  ...  Fruits and Vegetables  Hard Drinks  \\\n",
       "0          3735.1380   22  ...                      0            0   \n",
       "1           443.4228   12  ...                      0            0   \n",
       "2          2097.2700   22  ...                      0            0   \n",
       "3           732.3800   23  ...                      1            0   \n",
       "4           994.7052   34  ...                      0            0   \n",
       "\n",
       "   Health and Hygiene  Household  Meat  Others  Seafood  Snack Foods  \\\n",
       "0                   0          0     0       0        0            0   \n",
       "1                   0          0     0       0        0            0   \n",
       "2                   0          0     1       0        0            0   \n",
       "3                   0          0     0       0        0            0   \n",
       "4                   0          1     0       0        0            0   \n",
       "\n",
       "   Soft Drinks  Starchy Foods  \n",
       "0            0              0  \n",
       "1            1              0  \n",
       "2            0              0  \n",
       "3            0              0  \n",
       "4            0              0  \n",
       "\n",
       "[5 rows x 26 columns]"
      ]
     },
     "execution_count": 78,
     "metadata": {},
     "output_type": "execute_result"
    }
   ],
   "source": [
    "train.head()"
   ]
  },
  {
   "cell_type": "code",
   "execution_count": 79,
   "id": "3b5cf18f",
   "metadata": {
    "ExecuteTime": {
     "end_time": "2022-01-05T02:37:16.306248Z",
     "start_time": "2022-01-05T02:37:16.275331Z"
    },
    "execution": {
     "iopub.execute_input": "2022-01-21T16:33:02.971793Z",
     "iopub.status.busy": "2022-01-21T16:33:02.971187Z",
     "iopub.status.idle": "2022-01-21T16:33:02.984580Z",
     "shell.execute_reply": "2022-01-21T16:33:02.985206Z"
    },
    "papermill": {
     "duration": 0.211386,
     "end_time": "2022-01-21T16:33:02.985384",
     "exception": false,
     "start_time": "2022-01-21T16:33:02.773998",
     "status": "completed"
    },
    "tags": []
   },
   "outputs": [
    {
     "data": {
      "text/html": [
       "<div>\n",
       "<style scoped>\n",
       "    .dataframe tbody tr th:only-of-type {\n",
       "        vertical-align: middle;\n",
       "    }\n",
       "\n",
       "    .dataframe tbody tr th {\n",
       "        vertical-align: top;\n",
       "    }\n",
       "\n",
       "    .dataframe thead th {\n",
       "        text-align: right;\n",
       "    }\n",
       "</style>\n",
       "<table border=\"1\" class=\"dataframe\">\n",
       "  <thead>\n",
       "    <tr style=\"text-align: right;\">\n",
       "      <th></th>\n",
       "      <th>Item_Weight</th>\n",
       "      <th>Item_Fat_Content</th>\n",
       "      <th>Item_Visibility</th>\n",
       "      <th>Item_Type</th>\n",
       "      <th>Item_MRP</th>\n",
       "      <th>Outlet_Size</th>\n",
       "      <th>Outlet_Location_Type</th>\n",
       "      <th>Outlet_Type</th>\n",
       "      <th>Age</th>\n",
       "      <th>Baking Goods</th>\n",
       "      <th>...</th>\n",
       "      <th>Fruits and Vegetables</th>\n",
       "      <th>Hard Drinks</th>\n",
       "      <th>Health and Hygiene</th>\n",
       "      <th>Household</th>\n",
       "      <th>Meat</th>\n",
       "      <th>Others</th>\n",
       "      <th>Seafood</th>\n",
       "      <th>Snack Foods</th>\n",
       "      <th>Soft Drinks</th>\n",
       "      <th>Starchy Foods</th>\n",
       "    </tr>\n",
       "  </thead>\n",
       "  <tbody>\n",
       "    <tr>\n",
       "      <th>0</th>\n",
       "      <td>20.750000</td>\n",
       "      <td>0</td>\n",
       "      <td>0.007565</td>\n",
       "      <td>Snack Foods</td>\n",
       "      <td>107.8622</td>\n",
       "      <td>1</td>\n",
       "      <td>0</td>\n",
       "      <td>1</td>\n",
       "      <td>22</td>\n",
       "      <td>0</td>\n",
       "      <td>...</td>\n",
       "      <td>0</td>\n",
       "      <td>0</td>\n",
       "      <td>0</td>\n",
       "      <td>0</td>\n",
       "      <td>0</td>\n",
       "      <td>0</td>\n",
       "      <td>0</td>\n",
       "      <td>1</td>\n",
       "      <td>0</td>\n",
       "      <td>0</td>\n",
       "    </tr>\n",
       "    <tr>\n",
       "      <th>1</th>\n",
       "      <td>8.300000</td>\n",
       "      <td>1</td>\n",
       "      <td>0.038428</td>\n",
       "      <td>Dairy</td>\n",
       "      <td>87.3198</td>\n",
       "      <td>1</td>\n",
       "      <td>1</td>\n",
       "      <td>1</td>\n",
       "      <td>14</td>\n",
       "      <td>0</td>\n",
       "      <td>...</td>\n",
       "      <td>0</td>\n",
       "      <td>0</td>\n",
       "      <td>0</td>\n",
       "      <td>0</td>\n",
       "      <td>0</td>\n",
       "      <td>0</td>\n",
       "      <td>0</td>\n",
       "      <td>0</td>\n",
       "      <td>0</td>\n",
       "      <td>0</td>\n",
       "    </tr>\n",
       "    <tr>\n",
       "      <th>2</th>\n",
       "      <td>14.600000</td>\n",
       "      <td>0</td>\n",
       "      <td>0.099575</td>\n",
       "      <td>Others</td>\n",
       "      <td>241.7538</td>\n",
       "      <td>1</td>\n",
       "      <td>2</td>\n",
       "      <td>0</td>\n",
       "      <td>23</td>\n",
       "      <td>0</td>\n",
       "      <td>...</td>\n",
       "      <td>0</td>\n",
       "      <td>0</td>\n",
       "      <td>0</td>\n",
       "      <td>0</td>\n",
       "      <td>0</td>\n",
       "      <td>1</td>\n",
       "      <td>0</td>\n",
       "      <td>0</td>\n",
       "      <td>0</td>\n",
       "      <td>0</td>\n",
       "    </tr>\n",
       "    <tr>\n",
       "      <th>3</th>\n",
       "      <td>7.315000</td>\n",
       "      <td>0</td>\n",
       "      <td>0.015388</td>\n",
       "      <td>Snack Foods</td>\n",
       "      <td>155.0340</td>\n",
       "      <td>1</td>\n",
       "      <td>1</td>\n",
       "      <td>1</td>\n",
       "      <td>14</td>\n",
       "      <td>0</td>\n",
       "      <td>...</td>\n",
       "      <td>0</td>\n",
       "      <td>0</td>\n",
       "      <td>0</td>\n",
       "      <td>0</td>\n",
       "      <td>0</td>\n",
       "      <td>0</td>\n",
       "      <td>0</td>\n",
       "      <td>1</td>\n",
       "      <td>0</td>\n",
       "      <td>0</td>\n",
       "    </tr>\n",
       "    <tr>\n",
       "      <th>4</th>\n",
       "      <td>12.695633</td>\n",
       "      <td>1</td>\n",
       "      <td>0.118599</td>\n",
       "      <td>Dairy</td>\n",
       "      <td>234.2300</td>\n",
       "      <td>1</td>\n",
       "      <td>2</td>\n",
       "      <td>3</td>\n",
       "      <td>36</td>\n",
       "      <td>0</td>\n",
       "      <td>...</td>\n",
       "      <td>0</td>\n",
       "      <td>0</td>\n",
       "      <td>0</td>\n",
       "      <td>0</td>\n",
       "      <td>0</td>\n",
       "      <td>0</td>\n",
       "      <td>0</td>\n",
       "      <td>0</td>\n",
       "      <td>0</td>\n",
       "      <td>0</td>\n",
       "    </tr>\n",
       "  </tbody>\n",
       "</table>\n",
       "<p>5 rows × 25 columns</p>\n",
       "</div>"
      ],
      "text/plain": [
       "   Item_Weight  Item_Fat_Content  Item_Visibility    Item_Type  Item_MRP  \\\n",
       "0    20.750000                 0         0.007565  Snack Foods  107.8622   \n",
       "1     8.300000                 1         0.038428        Dairy   87.3198   \n",
       "2    14.600000                 0         0.099575       Others  241.7538   \n",
       "3     7.315000                 0         0.015388  Snack Foods  155.0340   \n",
       "4    12.695633                 1         0.118599        Dairy  234.2300   \n",
       "\n",
       "   Outlet_Size  Outlet_Location_Type  Outlet_Type  Age  Baking Goods  ...  \\\n",
       "0            1                     0            1   22             0  ...   \n",
       "1            1                     1            1   14             0  ...   \n",
       "2            1                     2            0   23             0  ...   \n",
       "3            1                     1            1   14             0  ...   \n",
       "4            1                     2            3   36             0  ...   \n",
       "\n",
       "   Fruits and Vegetables  Hard Drinks  Health and Hygiene  Household  Meat  \\\n",
       "0                      0            0                   0          0     0   \n",
       "1                      0            0                   0          0     0   \n",
       "2                      0            0                   0          0     0   \n",
       "3                      0            0                   0          0     0   \n",
       "4                      0            0                   0          0     0   \n",
       "\n",
       "   Others  Seafood  Snack Foods  Soft Drinks  Starchy Foods  \n",
       "0       0        0            1            0              0  \n",
       "1       0        0            0            0              0  \n",
       "2       1        0            0            0              0  \n",
       "3       0        0            1            0              0  \n",
       "4       0        0            0            0              0  \n",
       "\n",
       "[5 rows x 25 columns]"
      ]
     },
     "execution_count": 79,
     "metadata": {},
     "output_type": "execute_result"
    }
   ],
   "source": [
    "test.head()"
   ]
  },
  {
   "cell_type": "code",
   "execution_count": 80,
   "id": "40918787",
   "metadata": {
    "ExecuteTime": {
     "end_time": "2022-01-05T02:37:16.322205Z",
     "start_time": "2022-01-05T02:37:16.310238Z"
    },
    "execution": {
     "iopub.execute_input": "2022-01-21T16:33:03.380142Z",
     "iopub.status.busy": "2022-01-21T16:33:03.379429Z",
     "iopub.status.idle": "2022-01-21T16:33:03.384034Z",
     "shell.execute_reply": "2022-01-21T16:33:03.384593Z"
    },
    "papermill": {
     "duration": 0.205354,
     "end_time": "2022-01-21T16:33:03.384807",
     "exception": false,
     "start_time": "2022-01-21T16:33:03.179453",
     "status": "completed"
    },
    "tags": []
   },
   "outputs": [],
   "source": [
    "#drop the main feature and one dummy feature\n",
    "train.drop(['Item_Type', 'Starchy Foods'], axis=1, inplace=True)\n",
    "test.drop(['Item_Type', 'Starchy Foods'], axis=1, inplace=True)"
   ]
  },
  {
   "cell_type": "code",
   "execution_count": 81,
   "id": "ed80cc86",
   "metadata": {
    "ExecuteTime": {
     "end_time": "2022-01-05T02:37:16.338195Z",
     "start_time": "2022-01-05T02:37:16.324201Z"
    },
    "execution": {
     "iopub.execute_input": "2022-01-21T16:33:03.791923Z",
     "iopub.status.busy": "2022-01-21T16:33:03.791181Z",
     "iopub.status.idle": "2022-01-21T16:33:03.797255Z",
     "shell.execute_reply": "2022-01-21T16:33:03.796670Z"
    },
    "papermill": {
     "duration": 0.211781,
     "end_time": "2022-01-21T16:33:03.797423",
     "exception": false,
     "start_time": "2022-01-21T16:33:03.585642",
     "status": "completed"
    },
    "tags": []
   },
   "outputs": [
    {
     "data": {
      "text/plain": [
       "['Item_Weight', 'Item_Visibility', 'Item_MRP']"
      ]
     },
     "execution_count": 81,
     "metadata": {},
     "output_type": "execute_result"
    }
   ],
   "source": [
    "cont_features"
   ]
  },
  {
   "cell_type": "code",
   "execution_count": 82,
   "id": "158f725e",
   "metadata": {
    "ExecuteTime": {
     "end_time": "2022-01-05T02:37:16.36911Z",
     "start_time": "2022-01-05T02:37:16.339195Z"
    },
    "execution": {
     "iopub.execute_input": "2022-01-21T16:33:04.217701Z",
     "iopub.status.busy": "2022-01-21T16:33:04.217022Z",
     "iopub.status.idle": "2022-01-21T16:33:04.221274Z",
     "shell.execute_reply": "2022-01-21T16:33:04.221862Z"
    },
    "papermill": {
     "duration": 0.223344,
     "end_time": "2022-01-21T16:33:04.222033",
     "exception": false,
     "start_time": "2022-01-21T16:33:03.998689",
     "status": "completed"
    },
    "tags": []
   },
   "outputs": [
    {
     "data": {
      "text/html": [
       "<div>\n",
       "<style scoped>\n",
       "    .dataframe tbody tr th:only-of-type {\n",
       "        vertical-align: middle;\n",
       "    }\n",
       "\n",
       "    .dataframe tbody tr th {\n",
       "        vertical-align: top;\n",
       "    }\n",
       "\n",
       "    .dataframe thead th {\n",
       "        text-align: right;\n",
       "    }\n",
       "</style>\n",
       "<table border=\"1\" class=\"dataframe\">\n",
       "  <thead>\n",
       "    <tr style=\"text-align: right;\">\n",
       "      <th></th>\n",
       "      <th>Item_Weight</th>\n",
       "      <th>Item_Fat_Content</th>\n",
       "      <th>Item_Visibility</th>\n",
       "      <th>Item_MRP</th>\n",
       "      <th>Outlet_Size</th>\n",
       "      <th>Outlet_Location_Type</th>\n",
       "      <th>Outlet_Type</th>\n",
       "      <th>Item_Outlet_Sales</th>\n",
       "      <th>Age</th>\n",
       "      <th>Baking Goods</th>\n",
       "      <th>...</th>\n",
       "      <th>Frozen Foods</th>\n",
       "      <th>Fruits and Vegetables</th>\n",
       "      <th>Hard Drinks</th>\n",
       "      <th>Health and Hygiene</th>\n",
       "      <th>Household</th>\n",
       "      <th>Meat</th>\n",
       "      <th>Others</th>\n",
       "      <th>Seafood</th>\n",
       "      <th>Snack Foods</th>\n",
       "      <th>Soft Drinks</th>\n",
       "    </tr>\n",
       "  </thead>\n",
       "  <tbody>\n",
       "    <tr>\n",
       "      <th>0</th>\n",
       "      <td>9.30</td>\n",
       "      <td>0</td>\n",
       "      <td>0.016047</td>\n",
       "      <td>249.8092</td>\n",
       "      <td>1</td>\n",
       "      <td>0</td>\n",
       "      <td>1</td>\n",
       "      <td>3735.1380</td>\n",
       "      <td>22</td>\n",
       "      <td>0</td>\n",
       "      <td>...</td>\n",
       "      <td>0</td>\n",
       "      <td>0</td>\n",
       "      <td>0</td>\n",
       "      <td>0</td>\n",
       "      <td>0</td>\n",
       "      <td>0</td>\n",
       "      <td>0</td>\n",
       "      <td>0</td>\n",
       "      <td>0</td>\n",
       "      <td>0</td>\n",
       "    </tr>\n",
       "    <tr>\n",
       "      <th>1</th>\n",
       "      <td>5.92</td>\n",
       "      <td>1</td>\n",
       "      <td>0.019278</td>\n",
       "      <td>48.2692</td>\n",
       "      <td>1</td>\n",
       "      <td>2</td>\n",
       "      <td>2</td>\n",
       "      <td>443.4228</td>\n",
       "      <td>12</td>\n",
       "      <td>0</td>\n",
       "      <td>...</td>\n",
       "      <td>0</td>\n",
       "      <td>0</td>\n",
       "      <td>0</td>\n",
       "      <td>0</td>\n",
       "      <td>0</td>\n",
       "      <td>0</td>\n",
       "      <td>0</td>\n",
       "      <td>0</td>\n",
       "      <td>0</td>\n",
       "      <td>1</td>\n",
       "    </tr>\n",
       "    <tr>\n",
       "      <th>2</th>\n",
       "      <td>17.50</td>\n",
       "      <td>0</td>\n",
       "      <td>0.016760</td>\n",
       "      <td>141.6180</td>\n",
       "      <td>1</td>\n",
       "      <td>0</td>\n",
       "      <td>1</td>\n",
       "      <td>2097.2700</td>\n",
       "      <td>22</td>\n",
       "      <td>0</td>\n",
       "      <td>...</td>\n",
       "      <td>0</td>\n",
       "      <td>0</td>\n",
       "      <td>0</td>\n",
       "      <td>0</td>\n",
       "      <td>0</td>\n",
       "      <td>1</td>\n",
       "      <td>0</td>\n",
       "      <td>0</td>\n",
       "      <td>0</td>\n",
       "      <td>0</td>\n",
       "    </tr>\n",
       "    <tr>\n",
       "      <th>3</th>\n",
       "      <td>19.20</td>\n",
       "      <td>1</td>\n",
       "      <td>0.000000</td>\n",
       "      <td>182.0950</td>\n",
       "      <td>1</td>\n",
       "      <td>2</td>\n",
       "      <td>0</td>\n",
       "      <td>732.3800</td>\n",
       "      <td>23</td>\n",
       "      <td>0</td>\n",
       "      <td>...</td>\n",
       "      <td>0</td>\n",
       "      <td>1</td>\n",
       "      <td>0</td>\n",
       "      <td>0</td>\n",
       "      <td>0</td>\n",
       "      <td>0</td>\n",
       "      <td>0</td>\n",
       "      <td>0</td>\n",
       "      <td>0</td>\n",
       "      <td>0</td>\n",
       "    </tr>\n",
       "    <tr>\n",
       "      <th>4</th>\n",
       "      <td>8.93</td>\n",
       "      <td>0</td>\n",
       "      <td>0.000000</td>\n",
       "      <td>53.8614</td>\n",
       "      <td>0</td>\n",
       "      <td>2</td>\n",
       "      <td>1</td>\n",
       "      <td>994.7052</td>\n",
       "      <td>34</td>\n",
       "      <td>0</td>\n",
       "      <td>...</td>\n",
       "      <td>0</td>\n",
       "      <td>0</td>\n",
       "      <td>0</td>\n",
       "      <td>0</td>\n",
       "      <td>1</td>\n",
       "      <td>0</td>\n",
       "      <td>0</td>\n",
       "      <td>0</td>\n",
       "      <td>0</td>\n",
       "      <td>0</td>\n",
       "    </tr>\n",
       "  </tbody>\n",
       "</table>\n",
       "<p>5 rows × 24 columns</p>\n",
       "</div>"
      ],
      "text/plain": [
       "   Item_Weight  Item_Fat_Content  Item_Visibility  Item_MRP  Outlet_Size  \\\n",
       "0         9.30                 0         0.016047  249.8092            1   \n",
       "1         5.92                 1         0.019278   48.2692            1   \n",
       "2        17.50                 0         0.016760  141.6180            1   \n",
       "3        19.20                 1         0.000000  182.0950            1   \n",
       "4         8.93                 0         0.000000   53.8614            0   \n",
       "\n",
       "   Outlet_Location_Type  Outlet_Type  Item_Outlet_Sales  Age  Baking Goods  \\\n",
       "0                     0            1          3735.1380   22             0   \n",
       "1                     2            2           443.4228   12             0   \n",
       "2                     0            1          2097.2700   22             0   \n",
       "3                     2            0           732.3800   23             0   \n",
       "4                     2            1           994.7052   34             0   \n",
       "\n",
       "   ...  Frozen Foods  Fruits and Vegetables  Hard Drinks  Health and Hygiene  \\\n",
       "0  ...             0                      0            0                   0   \n",
       "1  ...             0                      0            0                   0   \n",
       "2  ...             0                      0            0                   0   \n",
       "3  ...             0                      1            0                   0   \n",
       "4  ...             0                      0            0                   0   \n",
       "\n",
       "   Household  Meat  Others  Seafood  Snack Foods  Soft Drinks  \n",
       "0          0     0       0        0            0            0  \n",
       "1          0     0       0        0            0            1  \n",
       "2          0     1       0        0            0            0  \n",
       "3          0     0       0        0            0            0  \n",
       "4          1     0       0        0            0            0  \n",
       "\n",
       "[5 rows x 24 columns]"
      ]
     },
     "execution_count": 82,
     "metadata": {},
     "output_type": "execute_result"
    }
   ],
   "source": [
    "train.head()"
   ]
  },
  {
   "cell_type": "code",
   "execution_count": 83,
   "id": "ae87e696",
   "metadata": {
    "ExecuteTime": {
     "end_time": "2022-01-05T02:37:16.387032Z",
     "start_time": "2022-01-05T02:37:16.370102Z"
    },
    "execution": {
     "iopub.execute_input": "2022-01-21T16:33:04.631108Z",
     "iopub.status.busy": "2022-01-21T16:33:04.630453Z",
     "iopub.status.idle": "2022-01-21T16:33:04.648542Z",
     "shell.execute_reply": "2022-01-21T16:33:04.649193Z"
    },
    "papermill": {
     "duration": 0.223846,
     "end_time": "2022-01-21T16:33:04.649384",
     "exception": false,
     "start_time": "2022-01-21T16:33:04.425538",
     "status": "completed"
    },
    "tags": []
   },
   "outputs": [
    {
     "data": {
      "text/html": [
       "<div>\n",
       "<style scoped>\n",
       "    .dataframe tbody tr th:only-of-type {\n",
       "        vertical-align: middle;\n",
       "    }\n",
       "\n",
       "    .dataframe tbody tr th {\n",
       "        vertical-align: top;\n",
       "    }\n",
       "\n",
       "    .dataframe thead th {\n",
       "        text-align: right;\n",
       "    }\n",
       "</style>\n",
       "<table border=\"1\" class=\"dataframe\">\n",
       "  <thead>\n",
       "    <tr style=\"text-align: right;\">\n",
       "      <th></th>\n",
       "      <th>Item_Weight</th>\n",
       "      <th>Item_Fat_Content</th>\n",
       "      <th>Item_Visibility</th>\n",
       "      <th>Item_MRP</th>\n",
       "      <th>Outlet_Size</th>\n",
       "      <th>Outlet_Location_Type</th>\n",
       "      <th>Outlet_Type</th>\n",
       "      <th>Age</th>\n",
       "      <th>Baking Goods</th>\n",
       "      <th>Breads</th>\n",
       "      <th>...</th>\n",
       "      <th>Frozen Foods</th>\n",
       "      <th>Fruits and Vegetables</th>\n",
       "      <th>Hard Drinks</th>\n",
       "      <th>Health and Hygiene</th>\n",
       "      <th>Household</th>\n",
       "      <th>Meat</th>\n",
       "      <th>Others</th>\n",
       "      <th>Seafood</th>\n",
       "      <th>Snack Foods</th>\n",
       "      <th>Soft Drinks</th>\n",
       "    </tr>\n",
       "  </thead>\n",
       "  <tbody>\n",
       "    <tr>\n",
       "      <th>0</th>\n",
       "      <td>20.750000</td>\n",
       "      <td>0</td>\n",
       "      <td>0.007565</td>\n",
       "      <td>107.8622</td>\n",
       "      <td>1</td>\n",
       "      <td>0</td>\n",
       "      <td>1</td>\n",
       "      <td>22</td>\n",
       "      <td>0</td>\n",
       "      <td>0</td>\n",
       "      <td>...</td>\n",
       "      <td>0</td>\n",
       "      <td>0</td>\n",
       "      <td>0</td>\n",
       "      <td>0</td>\n",
       "      <td>0</td>\n",
       "      <td>0</td>\n",
       "      <td>0</td>\n",
       "      <td>0</td>\n",
       "      <td>1</td>\n",
       "      <td>0</td>\n",
       "    </tr>\n",
       "    <tr>\n",
       "      <th>1</th>\n",
       "      <td>8.300000</td>\n",
       "      <td>1</td>\n",
       "      <td>0.038428</td>\n",
       "      <td>87.3198</td>\n",
       "      <td>1</td>\n",
       "      <td>1</td>\n",
       "      <td>1</td>\n",
       "      <td>14</td>\n",
       "      <td>0</td>\n",
       "      <td>0</td>\n",
       "      <td>...</td>\n",
       "      <td>0</td>\n",
       "      <td>0</td>\n",
       "      <td>0</td>\n",
       "      <td>0</td>\n",
       "      <td>0</td>\n",
       "      <td>0</td>\n",
       "      <td>0</td>\n",
       "      <td>0</td>\n",
       "      <td>0</td>\n",
       "      <td>0</td>\n",
       "    </tr>\n",
       "    <tr>\n",
       "      <th>2</th>\n",
       "      <td>14.600000</td>\n",
       "      <td>0</td>\n",
       "      <td>0.099575</td>\n",
       "      <td>241.7538</td>\n",
       "      <td>1</td>\n",
       "      <td>2</td>\n",
       "      <td>0</td>\n",
       "      <td>23</td>\n",
       "      <td>0</td>\n",
       "      <td>0</td>\n",
       "      <td>...</td>\n",
       "      <td>0</td>\n",
       "      <td>0</td>\n",
       "      <td>0</td>\n",
       "      <td>0</td>\n",
       "      <td>0</td>\n",
       "      <td>0</td>\n",
       "      <td>1</td>\n",
       "      <td>0</td>\n",
       "      <td>0</td>\n",
       "      <td>0</td>\n",
       "    </tr>\n",
       "    <tr>\n",
       "      <th>3</th>\n",
       "      <td>7.315000</td>\n",
       "      <td>0</td>\n",
       "      <td>0.015388</td>\n",
       "      <td>155.0340</td>\n",
       "      <td>1</td>\n",
       "      <td>1</td>\n",
       "      <td>1</td>\n",
       "      <td>14</td>\n",
       "      <td>0</td>\n",
       "      <td>0</td>\n",
       "      <td>...</td>\n",
       "      <td>0</td>\n",
       "      <td>0</td>\n",
       "      <td>0</td>\n",
       "      <td>0</td>\n",
       "      <td>0</td>\n",
       "      <td>0</td>\n",
       "      <td>0</td>\n",
       "      <td>0</td>\n",
       "      <td>1</td>\n",
       "      <td>0</td>\n",
       "    </tr>\n",
       "    <tr>\n",
       "      <th>4</th>\n",
       "      <td>12.695633</td>\n",
       "      <td>1</td>\n",
       "      <td>0.118599</td>\n",
       "      <td>234.2300</td>\n",
       "      <td>1</td>\n",
       "      <td>2</td>\n",
       "      <td>3</td>\n",
       "      <td>36</td>\n",
       "      <td>0</td>\n",
       "      <td>0</td>\n",
       "      <td>...</td>\n",
       "      <td>0</td>\n",
       "      <td>0</td>\n",
       "      <td>0</td>\n",
       "      <td>0</td>\n",
       "      <td>0</td>\n",
       "      <td>0</td>\n",
       "      <td>0</td>\n",
       "      <td>0</td>\n",
       "      <td>0</td>\n",
       "      <td>0</td>\n",
       "    </tr>\n",
       "  </tbody>\n",
       "</table>\n",
       "<p>5 rows × 23 columns</p>\n",
       "</div>"
      ],
      "text/plain": [
       "   Item_Weight  Item_Fat_Content  Item_Visibility  Item_MRP  Outlet_Size  \\\n",
       "0    20.750000                 0         0.007565  107.8622            1   \n",
       "1     8.300000                 1         0.038428   87.3198            1   \n",
       "2    14.600000                 0         0.099575  241.7538            1   \n",
       "3     7.315000                 0         0.015388  155.0340            1   \n",
       "4    12.695633                 1         0.118599  234.2300            1   \n",
       "\n",
       "   Outlet_Location_Type  Outlet_Type  Age  Baking Goods  Breads  ...  \\\n",
       "0                     0            1   22             0       0  ...   \n",
       "1                     1            1   14             0       0  ...   \n",
       "2                     2            0   23             0       0  ...   \n",
       "3                     1            1   14             0       0  ...   \n",
       "4                     2            3   36             0       0  ...   \n",
       "\n",
       "   Frozen Foods  Fruits and Vegetables  Hard Drinks  Health and Hygiene  \\\n",
       "0             0                      0            0                   0   \n",
       "1             0                      0            0                   0   \n",
       "2             0                      0            0                   0   \n",
       "3             0                      0            0                   0   \n",
       "4             0                      0            0                   0   \n",
       "\n",
       "   Household  Meat  Others  Seafood  Snack Foods  Soft Drinks  \n",
       "0          0     0       0        0            1            0  \n",
       "1          0     0       0        0            0            0  \n",
       "2          0     0       1        0            0            0  \n",
       "3          0     0       0        0            1            0  \n",
       "4          0     0       0        0            0            0  \n",
       "\n",
       "[5 rows x 23 columns]"
      ]
     },
     "execution_count": 83,
     "metadata": {},
     "output_type": "execute_result"
    }
   ],
   "source": [
    "test.head()"
   ]
  },
  {
   "cell_type": "code",
   "execution_count": 84,
   "id": "c2e33750",
   "metadata": {
    "ExecuteTime": {
     "end_time": "2022-01-05T02:37:16.401028Z",
     "start_time": "2022-01-05T02:37:16.388029Z"
    },
    "execution": {
     "iopub.execute_input": "2022-01-21T16:33:05.073189Z",
     "iopub.status.busy": "2022-01-21T16:33:05.072645Z",
     "iopub.status.idle": "2022-01-21T16:33:05.082892Z",
     "shell.execute_reply": "2022-01-21T16:33:05.083373Z"
    },
    "papermill": {
     "duration": 0.229361,
     "end_time": "2022-01-21T16:33:05.083524",
     "exception": false,
     "start_time": "2022-01-21T16:33:04.854163",
     "status": "completed"
    },
    "tags": []
   },
   "outputs": [
    {
     "data": {
      "text/html": [
       "<div>\n",
       "<style scoped>\n",
       "    .dataframe tbody tr th:only-of-type {\n",
       "        vertical-align: middle;\n",
       "    }\n",
       "\n",
       "    .dataframe tbody tr th {\n",
       "        vertical-align: top;\n",
       "    }\n",
       "\n",
       "    .dataframe thead th {\n",
       "        text-align: right;\n",
       "    }\n",
       "</style>\n",
       "<table border=\"1\" class=\"dataframe\">\n",
       "  <thead>\n",
       "    <tr style=\"text-align: right;\">\n",
       "      <th></th>\n",
       "      <th>Item_Weight</th>\n",
       "      <th>Item_Visibility</th>\n",
       "      <th>Item_MRP</th>\n",
       "    </tr>\n",
       "  </thead>\n",
       "  <tbody>\n",
       "    <tr>\n",
       "      <th>0</th>\n",
       "      <td>9.30</td>\n",
       "      <td>0.016047</td>\n",
       "      <td>249.8092</td>\n",
       "    </tr>\n",
       "    <tr>\n",
       "      <th>1</th>\n",
       "      <td>5.92</td>\n",
       "      <td>0.019278</td>\n",
       "      <td>48.2692</td>\n",
       "    </tr>\n",
       "    <tr>\n",
       "      <th>2</th>\n",
       "      <td>17.50</td>\n",
       "      <td>0.016760</td>\n",
       "      <td>141.6180</td>\n",
       "    </tr>\n",
       "    <tr>\n",
       "      <th>3</th>\n",
       "      <td>19.20</td>\n",
       "      <td>0.000000</td>\n",
       "      <td>182.0950</td>\n",
       "    </tr>\n",
       "    <tr>\n",
       "      <th>4</th>\n",
       "      <td>8.93</td>\n",
       "      <td>0.000000</td>\n",
       "      <td>53.8614</td>\n",
       "    </tr>\n",
       "  </tbody>\n",
       "</table>\n",
       "</div>"
      ],
      "text/plain": [
       "   Item_Weight  Item_Visibility  Item_MRP\n",
       "0         9.30         0.016047  249.8092\n",
       "1         5.92         0.019278   48.2692\n",
       "2        17.50         0.016760  141.6180\n",
       "3        19.20         0.000000  182.0950\n",
       "4         8.93         0.000000   53.8614"
      ]
     },
     "execution_count": 84,
     "metadata": {},
     "output_type": "execute_result"
    }
   ],
   "source": [
    "X = train[cont_features]\n",
    "X.head()"
   ]
  },
  {
   "cell_type": "code",
   "execution_count": 85,
   "id": "fc590bdc",
   "metadata": {
    "ExecuteTime": {
     "end_time": "2022-01-05T02:37:16.416952Z",
     "start_time": "2022-01-05T02:37:16.402025Z"
    },
    "execution": {
     "iopub.execute_input": "2022-01-21T16:33:05.358999Z",
     "iopub.status.busy": "2022-01-21T16:33:05.358433Z",
     "iopub.status.idle": "2022-01-21T16:33:05.370241Z",
     "shell.execute_reply": "2022-01-21T16:33:05.370677Z"
    },
    "papermill": {
     "duration": 0.15087,
     "end_time": "2022-01-21T16:33:05.370892",
     "exception": false,
     "start_time": "2022-01-21T16:33:05.220022",
     "status": "completed"
    },
    "tags": []
   },
   "outputs": [
    {
     "data": {
      "text/html": [
       "<div>\n",
       "<style scoped>\n",
       "    .dataframe tbody tr th:only-of-type {\n",
       "        vertical-align: middle;\n",
       "    }\n",
       "\n",
       "    .dataframe tbody tr th {\n",
       "        vertical-align: top;\n",
       "    }\n",
       "\n",
       "    .dataframe thead th {\n",
       "        text-align: right;\n",
       "    }\n",
       "</style>\n",
       "<table border=\"1\" class=\"dataframe\">\n",
       "  <thead>\n",
       "    <tr style=\"text-align: right;\">\n",
       "      <th></th>\n",
       "      <th>Item_Weight</th>\n",
       "      <th>Item_Visibility</th>\n",
       "      <th>Item_MRP</th>\n",
       "    </tr>\n",
       "  </thead>\n",
       "  <tbody>\n",
       "    <tr>\n",
       "      <th>0</th>\n",
       "      <td>20.750000</td>\n",
       "      <td>0.007565</td>\n",
       "      <td>107.8622</td>\n",
       "    </tr>\n",
       "    <tr>\n",
       "      <th>1</th>\n",
       "      <td>8.300000</td>\n",
       "      <td>0.038428</td>\n",
       "      <td>87.3198</td>\n",
       "    </tr>\n",
       "    <tr>\n",
       "      <th>2</th>\n",
       "      <td>14.600000</td>\n",
       "      <td>0.099575</td>\n",
       "      <td>241.7538</td>\n",
       "    </tr>\n",
       "    <tr>\n",
       "      <th>3</th>\n",
       "      <td>7.315000</td>\n",
       "      <td>0.015388</td>\n",
       "      <td>155.0340</td>\n",
       "    </tr>\n",
       "    <tr>\n",
       "      <th>4</th>\n",
       "      <td>12.695633</td>\n",
       "      <td>0.118599</td>\n",
       "      <td>234.2300</td>\n",
       "    </tr>\n",
       "  </tbody>\n",
       "</table>\n",
       "</div>"
      ],
      "text/plain": [
       "   Item_Weight  Item_Visibility  Item_MRP\n",
       "0    20.750000         0.007565  107.8622\n",
       "1     8.300000         0.038428   87.3198\n",
       "2    14.600000         0.099575  241.7538\n",
       "3     7.315000         0.015388  155.0340\n",
       "4    12.695633         0.118599  234.2300"
      ]
     },
     "execution_count": 85,
     "metadata": {},
     "output_type": "execute_result"
    }
   ],
   "source": [
    "test2 = test[cont_features]\n",
    "test2.head()"
   ]
  },
  {
   "cell_type": "markdown",
   "id": "83a25a65",
   "metadata": {
    "papermill": {
     "duration": 0.137605,
     "end_time": "2022-01-21T16:33:05.921179",
     "exception": false,
     "start_time": "2022-01-21T16:33:05.783574",
     "status": "completed"
    },
    "tags": []
   },
   "source": [
    "<a id='7'></a>\n",
    "# Feature Scaling"
   ]
  },
  {
   "cell_type": "code",
   "execution_count": 86,
   "id": "6f951bfd",
   "metadata": {
    "ExecuteTime": {
     "end_time": "2022-01-05T02:37:16.431947Z",
     "start_time": "2022-01-05T02:37:16.41795Z"
    },
    "execution": {
     "iopub.execute_input": "2022-01-21T16:33:06.207177Z",
     "iopub.status.busy": "2022-01-21T16:33:06.206615Z",
     "iopub.status.idle": "2022-01-21T16:33:06.218187Z",
     "shell.execute_reply": "2022-01-21T16:33:06.217723Z"
    },
    "papermill": {
     "duration": 0.155049,
     "end_time": "2022-01-21T16:33:06.218311",
     "exception": false,
     "start_time": "2022-01-21T16:33:06.063262",
     "status": "completed"
    },
    "tags": []
   },
   "outputs": [],
   "source": [
    "scaler = StandardScaler()\n",
    "X = scaler.fit_transform(X)\n",
    "test2 = scaler.fit_transform(test2)"
   ]
  },
  {
   "cell_type": "code",
   "execution_count": 87,
   "id": "996dd117",
   "metadata": {
    "ExecuteTime": {
     "end_time": "2022-01-05T02:37:16.447906Z",
     "start_time": "2022-01-05T02:37:16.432908Z"
    },
    "execution": {
     "iopub.execute_input": "2022-01-21T16:33:06.497337Z",
     "iopub.status.busy": "2022-01-21T16:33:06.496753Z",
     "iopub.status.idle": "2022-01-21T16:33:06.500197Z",
     "shell.execute_reply": "2022-01-21T16:33:06.499674Z"
    },
    "papermill": {
     "duration": 0.147002,
     "end_time": "2022-01-21T16:33:06.500382",
     "exception": false,
     "start_time": "2022-01-21T16:33:06.353380",
     "status": "completed"
    },
    "tags": []
   },
   "outputs": [],
   "source": [
    "X = pd.DataFrame(X, columns=cont_features)\n",
    "test2 = pd.DataFrame(test2, columns=cont_features)"
   ]
  },
  {
   "cell_type": "code",
   "execution_count": 88,
   "id": "23363ecd",
   "metadata": {
    "ExecuteTime": {
     "end_time": "2022-01-05T02:37:16.463845Z",
     "start_time": "2022-01-05T02:37:16.448899Z"
    },
    "execution": {
     "iopub.execute_input": "2022-01-21T16:33:06.784968Z",
     "iopub.status.busy": "2022-01-21T16:33:06.784416Z",
     "iopub.status.idle": "2022-01-21T16:33:06.789786Z",
     "shell.execute_reply": "2022-01-21T16:33:06.789217Z"
    },
    "papermill": {
     "duration": 0.150786,
     "end_time": "2022-01-21T16:33:06.789913",
     "exception": false,
     "start_time": "2022-01-21T16:33:06.639127",
     "status": "completed"
    },
    "scrolled": true,
    "tags": []
   },
   "outputs": [
    {
     "data": {
      "text/html": [
       "<div>\n",
       "<style scoped>\n",
       "    .dataframe tbody tr th:only-of-type {\n",
       "        vertical-align: middle;\n",
       "    }\n",
       "\n",
       "    .dataframe tbody tr th {\n",
       "        vertical-align: top;\n",
       "    }\n",
       "\n",
       "    .dataframe thead th {\n",
       "        text-align: right;\n",
       "    }\n",
       "</style>\n",
       "<table border=\"1\" class=\"dataframe\">\n",
       "  <thead>\n",
       "    <tr style=\"text-align: right;\">\n",
       "      <th></th>\n",
       "      <th>Item_Weight</th>\n",
       "      <th>Item_Visibility</th>\n",
       "      <th>Item_MRP</th>\n",
       "    </tr>\n",
       "  </thead>\n",
       "  <tbody>\n",
       "    <tr>\n",
       "      <th>0</th>\n",
       "      <td>-0.841872</td>\n",
       "      <td>-0.970732</td>\n",
       "      <td>1.747454</td>\n",
       "    </tr>\n",
       "    <tr>\n",
       "      <th>1</th>\n",
       "      <td>-1.641706</td>\n",
       "      <td>-0.908111</td>\n",
       "      <td>-1.489023</td>\n",
       "    </tr>\n",
       "    <tr>\n",
       "      <th>2</th>\n",
       "      <td>1.098554</td>\n",
       "      <td>-0.956917</td>\n",
       "      <td>0.010040</td>\n",
       "    </tr>\n",
       "    <tr>\n",
       "      <th>3</th>\n",
       "      <td>1.500838</td>\n",
       "      <td>-1.281758</td>\n",
       "      <td>0.660050</td>\n",
       "    </tr>\n",
       "    <tr>\n",
       "      <th>4</th>\n",
       "      <td>-0.929428</td>\n",
       "      <td>-1.281758</td>\n",
       "      <td>-1.399220</td>\n",
       "    </tr>\n",
       "  </tbody>\n",
       "</table>\n",
       "</div>"
      ],
      "text/plain": [
       "   Item_Weight  Item_Visibility  Item_MRP\n",
       "0    -0.841872        -0.970732  1.747454\n",
       "1    -1.641706        -0.908111 -1.489023\n",
       "2     1.098554        -0.956917  0.010040\n",
       "3     1.500838        -1.281758  0.660050\n",
       "4    -0.929428        -1.281758 -1.399220"
      ]
     },
     "execution_count": 88,
     "metadata": {},
     "output_type": "execute_result"
    }
   ],
   "source": [
    "X.head()"
   ]
  },
  {
   "cell_type": "code",
   "execution_count": 89,
   "id": "acd95de6",
   "metadata": {
    "ExecuteTime": {
     "end_time": "2022-01-05T02:37:16.479784Z",
     "start_time": "2022-01-05T02:37:16.464825Z"
    },
    "execution": {
     "iopub.execute_input": "2022-01-21T16:33:07.077492Z",
     "iopub.status.busy": "2022-01-21T16:33:07.076980Z",
     "iopub.status.idle": "2022-01-21T16:33:07.080066Z",
     "shell.execute_reply": "2022-01-21T16:33:07.080460Z"
    },
    "papermill": {
     "duration": 0.149345,
     "end_time": "2022-01-21T16:33:07.080594",
     "exception": false,
     "start_time": "2022-01-21T16:33:06.931249",
     "status": "completed"
    },
    "tags": []
   },
   "outputs": [
    {
     "data": {
      "text/html": [
       "<div>\n",
       "<style scoped>\n",
       "    .dataframe tbody tr th:only-of-type {\n",
       "        vertical-align: middle;\n",
       "    }\n",
       "\n",
       "    .dataframe tbody tr th {\n",
       "        vertical-align: top;\n",
       "    }\n",
       "\n",
       "    .dataframe thead th {\n",
       "        text-align: right;\n",
       "    }\n",
       "</style>\n",
       "<table border=\"1\" class=\"dataframe\">\n",
       "  <thead>\n",
       "    <tr style=\"text-align: right;\">\n",
       "      <th></th>\n",
       "      <th>Item_Weight</th>\n",
       "      <th>Item_Visibility</th>\n",
       "      <th>Item_MRP</th>\n",
       "    </tr>\n",
       "  </thead>\n",
       "  <tbody>\n",
       "    <tr>\n",
       "      <th>0</th>\n",
       "      <td>1.897460e+00</td>\n",
       "      <td>-1.134077</td>\n",
       "      <td>-0.536555</td>\n",
       "    </tr>\n",
       "    <tr>\n",
       "      <th>1</th>\n",
       "      <td>-1.035530e+00</td>\n",
       "      <td>-0.531850</td>\n",
       "      <td>-0.868937</td>\n",
       "    </tr>\n",
       "    <tr>\n",
       "      <th>2</th>\n",
       "      <td>4.486336e-01</td>\n",
       "      <td>0.661316</td>\n",
       "      <td>1.629848</td>\n",
       "    </tr>\n",
       "    <tr>\n",
       "      <th>3</th>\n",
       "      <td>-1.267578e+00</td>\n",
       "      <td>-0.981416</td>\n",
       "      <td>0.226697</td>\n",
       "    </tr>\n",
       "    <tr>\n",
       "      <th>4</th>\n",
       "      <td>-5.230960e-14</td>\n",
       "      <td>1.032540</td>\n",
       "      <td>1.508110</td>\n",
       "    </tr>\n",
       "  </tbody>\n",
       "</table>\n",
       "</div>"
      ],
      "text/plain": [
       "    Item_Weight  Item_Visibility  Item_MRP\n",
       "0  1.897460e+00        -1.134077 -0.536555\n",
       "1 -1.035530e+00        -0.531850 -0.868937\n",
       "2  4.486336e-01         0.661316  1.629848\n",
       "3 -1.267578e+00        -0.981416  0.226697\n",
       "4 -5.230960e-14         1.032540  1.508110"
      ]
     },
     "execution_count": 89,
     "metadata": {},
     "output_type": "execute_result"
    }
   ],
   "source": [
    "test2.head()"
   ]
  },
  {
   "cell_type": "code",
   "execution_count": 90,
   "id": "4a30a238",
   "metadata": {
    "ExecuteTime": {
     "end_time": "2022-01-05T02:37:16.495776Z",
     "start_time": "2022-01-05T02:37:16.480807Z"
    },
    "execution": {
     "iopub.execute_input": "2022-01-21T16:33:07.363746Z",
     "iopub.status.busy": "2022-01-21T16:33:07.363186Z",
     "iopub.status.idle": "2022-01-21T16:33:07.367810Z",
     "shell.execute_reply": "2022-01-21T16:33:07.367219Z"
    },
    "papermill": {
     "duration": 0.148154,
     "end_time": "2022-01-21T16:33:07.367937",
     "exception": false,
     "start_time": "2022-01-21T16:33:07.219783",
     "status": "completed"
    },
    "tags": []
   },
   "outputs": [
    {
     "data": {
      "text/plain": [
       "['Item_Weight',\n",
       " 'Item_Fat_Content',\n",
       " 'Item_Visibility',\n",
       " 'Item_MRP',\n",
       " 'Outlet_Size',\n",
       " 'Outlet_Location_Type',\n",
       " 'Outlet_Type',\n",
       " 'Age',\n",
       " 'Baking Goods',\n",
       " 'Breads',\n",
       " 'Breakfast',\n",
       " 'Canned',\n",
       " 'Dairy',\n",
       " 'Frozen Foods',\n",
       " 'Fruits and Vegetables',\n",
       " 'Hard Drinks',\n",
       " 'Health and Hygiene',\n",
       " 'Household',\n",
       " 'Meat',\n",
       " 'Others',\n",
       " 'Seafood',\n",
       " 'Snack Foods',\n",
       " 'Soft Drinks']"
      ]
     },
     "execution_count": 90,
     "metadata": {},
     "output_type": "execute_result"
    }
   ],
   "source": [
    "FEATURES = [col for col in train.columns if col not in ['Item_Outlet_Sales']]\n",
    "FEATURES"
   ]
  },
  {
   "cell_type": "code",
   "execution_count": 91,
   "id": "ee22759e",
   "metadata": {
    "ExecuteTime": {
     "end_time": "2022-01-05T02:37:16.511725Z",
     "start_time": "2022-01-05T02:37:16.49677Z"
    },
    "execution": {
     "iopub.execute_input": "2022-01-21T16:33:07.653831Z",
     "iopub.status.busy": "2022-01-21T16:33:07.653258Z",
     "iopub.status.idle": "2022-01-21T16:33:07.664116Z",
     "shell.execute_reply": "2022-01-21T16:33:07.663613Z"
    },
    "papermill": {
     "duration": 0.155976,
     "end_time": "2022-01-21T16:33:07.664242",
     "exception": false,
     "start_time": "2022-01-21T16:33:07.508266",
     "status": "completed"
    },
    "tags": []
   },
   "outputs": [
    {
     "data": {
      "text/plain": [
       "['Item_Fat_Content',\n",
       " 'Outlet_Size',\n",
       " 'Outlet_Location_Type',\n",
       " 'Outlet_Type',\n",
       " 'Age',\n",
       " 'Baking Goods',\n",
       " 'Breads',\n",
       " 'Breakfast',\n",
       " 'Canned',\n",
       " 'Dairy',\n",
       " 'Frozen Foods',\n",
       " 'Fruits and Vegetables',\n",
       " 'Hard Drinks',\n",
       " 'Health and Hygiene',\n",
       " 'Household',\n",
       " 'Meat',\n",
       " 'Others',\n",
       " 'Seafood',\n",
       " 'Snack Foods',\n",
       " 'Soft Drinks']"
      ]
     },
     "execution_count": 91,
     "metadata": {},
     "output_type": "execute_result"
    }
   ],
   "source": [
    "cat_features = [col for col in FEATURES if train[col].nunique() < 25]\n",
    "cat_features"
   ]
  },
  {
   "cell_type": "markdown",
   "id": "d5b8c7db",
   "metadata": {
    "papermill": {
     "duration": 0.135947,
     "end_time": "2022-01-21T16:33:08.221749",
     "exception": false,
     "start_time": "2022-01-21T16:33:08.085802",
     "status": "completed"
    },
    "tags": []
   },
   "source": [
    "<a id= '8'></a>\n",
    "# Assigning Feature and Target Variables"
   ]
  },
  {
   "cell_type": "code",
   "execution_count": 92,
   "id": "4d4773dd",
   "metadata": {
    "ExecuteTime": {
     "end_time": "2022-01-05T02:37:16.543613Z",
     "start_time": "2022-01-05T02:37:16.512696Z"
    },
    "execution": {
     "iopub.execute_input": "2022-01-21T16:33:08.520271Z",
     "iopub.status.busy": "2022-01-21T16:33:08.506681Z",
     "iopub.status.idle": "2022-01-21T16:33:08.523471Z",
     "shell.execute_reply": "2022-01-21T16:33:08.522919Z"
    },
    "papermill": {
     "duration": 0.162933,
     "end_time": "2022-01-21T16:33:08.523602",
     "exception": false,
     "start_time": "2022-01-21T16:33:08.360669",
     "status": "completed"
    },
    "tags": []
   },
   "outputs": [
    {
     "data": {
      "text/html": [
       "<div>\n",
       "<style scoped>\n",
       "    .dataframe tbody tr th:only-of-type {\n",
       "        vertical-align: middle;\n",
       "    }\n",
       "\n",
       "    .dataframe tbody tr th {\n",
       "        vertical-align: top;\n",
       "    }\n",
       "\n",
       "    .dataframe thead th {\n",
       "        text-align: right;\n",
       "    }\n",
       "</style>\n",
       "<table border=\"1\" class=\"dataframe\">\n",
       "  <thead>\n",
       "    <tr style=\"text-align: right;\">\n",
       "      <th></th>\n",
       "      <th>Item_Weight</th>\n",
       "      <th>Item_Visibility</th>\n",
       "      <th>Item_MRP</th>\n",
       "      <th>Item_Fat_Content</th>\n",
       "      <th>Outlet_Size</th>\n",
       "      <th>Outlet_Location_Type</th>\n",
       "      <th>Outlet_Type</th>\n",
       "      <th>Age</th>\n",
       "      <th>Baking Goods</th>\n",
       "      <th>Breads</th>\n",
       "      <th>...</th>\n",
       "      <th>Frozen Foods</th>\n",
       "      <th>Fruits and Vegetables</th>\n",
       "      <th>Hard Drinks</th>\n",
       "      <th>Health and Hygiene</th>\n",
       "      <th>Household</th>\n",
       "      <th>Meat</th>\n",
       "      <th>Others</th>\n",
       "      <th>Seafood</th>\n",
       "      <th>Snack Foods</th>\n",
       "      <th>Soft Drinks</th>\n",
       "    </tr>\n",
       "  </thead>\n",
       "  <tbody>\n",
       "    <tr>\n",
       "      <th>0</th>\n",
       "      <td>-0.841872</td>\n",
       "      <td>-0.970732</td>\n",
       "      <td>1.747454</td>\n",
       "      <td>0</td>\n",
       "      <td>1</td>\n",
       "      <td>0</td>\n",
       "      <td>1</td>\n",
       "      <td>22</td>\n",
       "      <td>0</td>\n",
       "      <td>0</td>\n",
       "      <td>...</td>\n",
       "      <td>0</td>\n",
       "      <td>0</td>\n",
       "      <td>0</td>\n",
       "      <td>0</td>\n",
       "      <td>0</td>\n",
       "      <td>0</td>\n",
       "      <td>0</td>\n",
       "      <td>0</td>\n",
       "      <td>0</td>\n",
       "      <td>0</td>\n",
       "    </tr>\n",
       "    <tr>\n",
       "      <th>1</th>\n",
       "      <td>-1.641706</td>\n",
       "      <td>-0.908111</td>\n",
       "      <td>-1.489023</td>\n",
       "      <td>1</td>\n",
       "      <td>1</td>\n",
       "      <td>2</td>\n",
       "      <td>2</td>\n",
       "      <td>12</td>\n",
       "      <td>0</td>\n",
       "      <td>0</td>\n",
       "      <td>...</td>\n",
       "      <td>0</td>\n",
       "      <td>0</td>\n",
       "      <td>0</td>\n",
       "      <td>0</td>\n",
       "      <td>0</td>\n",
       "      <td>0</td>\n",
       "      <td>0</td>\n",
       "      <td>0</td>\n",
       "      <td>0</td>\n",
       "      <td>1</td>\n",
       "    </tr>\n",
       "    <tr>\n",
       "      <th>2</th>\n",
       "      <td>1.098554</td>\n",
       "      <td>-0.956917</td>\n",
       "      <td>0.010040</td>\n",
       "      <td>0</td>\n",
       "      <td>1</td>\n",
       "      <td>0</td>\n",
       "      <td>1</td>\n",
       "      <td>22</td>\n",
       "      <td>0</td>\n",
       "      <td>0</td>\n",
       "      <td>...</td>\n",
       "      <td>0</td>\n",
       "      <td>0</td>\n",
       "      <td>0</td>\n",
       "      <td>0</td>\n",
       "      <td>0</td>\n",
       "      <td>1</td>\n",
       "      <td>0</td>\n",
       "      <td>0</td>\n",
       "      <td>0</td>\n",
       "      <td>0</td>\n",
       "    </tr>\n",
       "    <tr>\n",
       "      <th>3</th>\n",
       "      <td>1.500838</td>\n",
       "      <td>-1.281758</td>\n",
       "      <td>0.660050</td>\n",
       "      <td>1</td>\n",
       "      <td>1</td>\n",
       "      <td>2</td>\n",
       "      <td>0</td>\n",
       "      <td>23</td>\n",
       "      <td>0</td>\n",
       "      <td>0</td>\n",
       "      <td>...</td>\n",
       "      <td>0</td>\n",
       "      <td>1</td>\n",
       "      <td>0</td>\n",
       "      <td>0</td>\n",
       "      <td>0</td>\n",
       "      <td>0</td>\n",
       "      <td>0</td>\n",
       "      <td>0</td>\n",
       "      <td>0</td>\n",
       "      <td>0</td>\n",
       "    </tr>\n",
       "    <tr>\n",
       "      <th>4</th>\n",
       "      <td>-0.929428</td>\n",
       "      <td>-1.281758</td>\n",
       "      <td>-1.399220</td>\n",
       "      <td>0</td>\n",
       "      <td>0</td>\n",
       "      <td>2</td>\n",
       "      <td>1</td>\n",
       "      <td>34</td>\n",
       "      <td>0</td>\n",
       "      <td>0</td>\n",
       "      <td>...</td>\n",
       "      <td>0</td>\n",
       "      <td>0</td>\n",
       "      <td>0</td>\n",
       "      <td>0</td>\n",
       "      <td>1</td>\n",
       "      <td>0</td>\n",
       "      <td>0</td>\n",
       "      <td>0</td>\n",
       "      <td>0</td>\n",
       "      <td>0</td>\n",
       "    </tr>\n",
       "  </tbody>\n",
       "</table>\n",
       "<p>5 rows × 23 columns</p>\n",
       "</div>"
      ],
      "text/plain": [
       "   Item_Weight  Item_Visibility  Item_MRP  Item_Fat_Content  Outlet_Size  \\\n",
       "0    -0.841872        -0.970732  1.747454                 0            1   \n",
       "1    -1.641706        -0.908111 -1.489023                 1            1   \n",
       "2     1.098554        -0.956917  0.010040                 0            1   \n",
       "3     1.500838        -1.281758  0.660050                 1            1   \n",
       "4    -0.929428        -1.281758 -1.399220                 0            0   \n",
       "\n",
       "   Outlet_Location_Type  Outlet_Type  Age  Baking Goods  Breads  ...  \\\n",
       "0                     0            1   22             0       0  ...   \n",
       "1                     2            2   12             0       0  ...   \n",
       "2                     0            1   22             0       0  ...   \n",
       "3                     2            0   23             0       0  ...   \n",
       "4                     2            1   34             0       0  ...   \n",
       "\n",
       "   Frozen Foods  Fruits and Vegetables  Hard Drinks  Health and Hygiene  \\\n",
       "0             0                      0            0                   0   \n",
       "1             0                      0            0                   0   \n",
       "2             0                      0            0                   0   \n",
       "3             0                      1            0                   0   \n",
       "4             0                      0            0                   0   \n",
       "\n",
       "   Household  Meat  Others  Seafood  Snack Foods  Soft Drinks  \n",
       "0          0     0       0        0            0            0  \n",
       "1          0     0       0        0            0            1  \n",
       "2          0     1       0        0            0            0  \n",
       "3          0     0       0        0            0            0  \n",
       "4          1     0       0        0            0            0  \n",
       "\n",
       "[5 rows x 23 columns]"
      ]
     },
     "execution_count": 92,
     "metadata": {},
     "output_type": "execute_result"
    }
   ],
   "source": [
    "X = pd.concat([X, train[cat_features]], axis=1)\n",
    "X.head()"
   ]
  },
  {
   "cell_type": "code",
   "execution_count": 93,
   "id": "3b55ca46",
   "metadata": {
    "ExecuteTime": {
     "end_time": "2022-01-05T02:37:16.55957Z",
     "start_time": "2022-01-05T02:37:16.544612Z"
    },
    "execution": {
     "iopub.execute_input": "2022-01-21T16:33:08.934558Z",
     "iopub.status.busy": "2022-01-21T16:33:08.933706Z",
     "iopub.status.idle": "2022-01-21T16:33:08.937432Z",
     "shell.execute_reply": "2022-01-21T16:33:08.936800Z"
    },
    "papermill": {
     "duration": 0.214971,
     "end_time": "2022-01-21T16:33:08.937563",
     "exception": false,
     "start_time": "2022-01-21T16:33:08.722592",
     "status": "completed"
    },
    "tags": []
   },
   "outputs": [
    {
     "data": {
      "text/plain": [
       "0    3735.1380\n",
       "1     443.4228\n",
       "2    2097.2700\n",
       "3     732.3800\n",
       "4     994.7052\n",
       "Name: Item_Outlet_Sales, dtype: float64"
      ]
     },
     "execution_count": 93,
     "metadata": {},
     "output_type": "execute_result"
    }
   ],
   "source": [
    "y = train.Item_Outlet_Sales\n",
    "y.head()"
   ]
  },
  {
   "cell_type": "code",
   "execution_count": 94,
   "id": "a4a986ac",
   "metadata": {
    "ExecuteTime": {
     "end_time": "2022-01-05T02:37:16.591485Z",
     "start_time": "2022-01-05T02:37:16.560572Z"
    },
    "execution": {
     "iopub.execute_input": "2022-01-21T16:33:09.437000Z",
     "iopub.status.busy": "2022-01-21T16:33:09.436473Z",
     "iopub.status.idle": "2022-01-21T16:33:09.456127Z",
     "shell.execute_reply": "2022-01-21T16:33:09.456655Z"
    },
    "papermill": {
     "duration": 0.315974,
     "end_time": "2022-01-21T16:33:09.456818",
     "exception": false,
     "start_time": "2022-01-21T16:33:09.140844",
     "status": "completed"
    },
    "tags": []
   },
   "outputs": [
    {
     "data": {
      "text/html": [
       "<div>\n",
       "<style scoped>\n",
       "    .dataframe tbody tr th:only-of-type {\n",
       "        vertical-align: middle;\n",
       "    }\n",
       "\n",
       "    .dataframe tbody tr th {\n",
       "        vertical-align: top;\n",
       "    }\n",
       "\n",
       "    .dataframe thead th {\n",
       "        text-align: right;\n",
       "    }\n",
       "</style>\n",
       "<table border=\"1\" class=\"dataframe\">\n",
       "  <thead>\n",
       "    <tr style=\"text-align: right;\">\n",
       "      <th></th>\n",
       "      <th>Item_Weight</th>\n",
       "      <th>Item_Visibility</th>\n",
       "      <th>Item_MRP</th>\n",
       "      <th>Item_Fat_Content</th>\n",
       "      <th>Outlet_Size</th>\n",
       "      <th>Outlet_Location_Type</th>\n",
       "      <th>Outlet_Type</th>\n",
       "      <th>Age</th>\n",
       "      <th>Baking Goods</th>\n",
       "      <th>Breads</th>\n",
       "      <th>...</th>\n",
       "      <th>Frozen Foods</th>\n",
       "      <th>Fruits and Vegetables</th>\n",
       "      <th>Hard Drinks</th>\n",
       "      <th>Health and Hygiene</th>\n",
       "      <th>Household</th>\n",
       "      <th>Meat</th>\n",
       "      <th>Others</th>\n",
       "      <th>Seafood</th>\n",
       "      <th>Snack Foods</th>\n",
       "      <th>Soft Drinks</th>\n",
       "    </tr>\n",
       "  </thead>\n",
       "  <tbody>\n",
       "    <tr>\n",
       "      <th>0</th>\n",
       "      <td>1.897460e+00</td>\n",
       "      <td>-1.134077</td>\n",
       "      <td>-0.536555</td>\n",
       "      <td>0</td>\n",
       "      <td>1</td>\n",
       "      <td>0</td>\n",
       "      <td>1</td>\n",
       "      <td>22</td>\n",
       "      <td>0</td>\n",
       "      <td>0</td>\n",
       "      <td>...</td>\n",
       "      <td>0</td>\n",
       "      <td>0</td>\n",
       "      <td>0</td>\n",
       "      <td>0</td>\n",
       "      <td>0</td>\n",
       "      <td>0</td>\n",
       "      <td>0</td>\n",
       "      <td>0</td>\n",
       "      <td>1</td>\n",
       "      <td>0</td>\n",
       "    </tr>\n",
       "    <tr>\n",
       "      <th>1</th>\n",
       "      <td>-1.035530e+00</td>\n",
       "      <td>-0.531850</td>\n",
       "      <td>-0.868937</td>\n",
       "      <td>1</td>\n",
       "      <td>1</td>\n",
       "      <td>1</td>\n",
       "      <td>1</td>\n",
       "      <td>14</td>\n",
       "      <td>0</td>\n",
       "      <td>0</td>\n",
       "      <td>...</td>\n",
       "      <td>0</td>\n",
       "      <td>0</td>\n",
       "      <td>0</td>\n",
       "      <td>0</td>\n",
       "      <td>0</td>\n",
       "      <td>0</td>\n",
       "      <td>0</td>\n",
       "      <td>0</td>\n",
       "      <td>0</td>\n",
       "      <td>0</td>\n",
       "    </tr>\n",
       "    <tr>\n",
       "      <th>2</th>\n",
       "      <td>4.486336e-01</td>\n",
       "      <td>0.661316</td>\n",
       "      <td>1.629848</td>\n",
       "      <td>0</td>\n",
       "      <td>1</td>\n",
       "      <td>2</td>\n",
       "      <td>0</td>\n",
       "      <td>23</td>\n",
       "      <td>0</td>\n",
       "      <td>0</td>\n",
       "      <td>...</td>\n",
       "      <td>0</td>\n",
       "      <td>0</td>\n",
       "      <td>0</td>\n",
       "      <td>0</td>\n",
       "      <td>0</td>\n",
       "      <td>0</td>\n",
       "      <td>1</td>\n",
       "      <td>0</td>\n",
       "      <td>0</td>\n",
       "      <td>0</td>\n",
       "    </tr>\n",
       "    <tr>\n",
       "      <th>3</th>\n",
       "      <td>-1.267578e+00</td>\n",
       "      <td>-0.981416</td>\n",
       "      <td>0.226697</td>\n",
       "      <td>0</td>\n",
       "      <td>1</td>\n",
       "      <td>1</td>\n",
       "      <td>1</td>\n",
       "      <td>14</td>\n",
       "      <td>0</td>\n",
       "      <td>0</td>\n",
       "      <td>...</td>\n",
       "      <td>0</td>\n",
       "      <td>0</td>\n",
       "      <td>0</td>\n",
       "      <td>0</td>\n",
       "      <td>0</td>\n",
       "      <td>0</td>\n",
       "      <td>0</td>\n",
       "      <td>0</td>\n",
       "      <td>1</td>\n",
       "      <td>0</td>\n",
       "    </tr>\n",
       "    <tr>\n",
       "      <th>4</th>\n",
       "      <td>-5.230960e-14</td>\n",
       "      <td>1.032540</td>\n",
       "      <td>1.508110</td>\n",
       "      <td>1</td>\n",
       "      <td>1</td>\n",
       "      <td>2</td>\n",
       "      <td>3</td>\n",
       "      <td>36</td>\n",
       "      <td>0</td>\n",
       "      <td>0</td>\n",
       "      <td>...</td>\n",
       "      <td>0</td>\n",
       "      <td>0</td>\n",
       "      <td>0</td>\n",
       "      <td>0</td>\n",
       "      <td>0</td>\n",
       "      <td>0</td>\n",
       "      <td>0</td>\n",
       "      <td>0</td>\n",
       "      <td>0</td>\n",
       "      <td>0</td>\n",
       "    </tr>\n",
       "  </tbody>\n",
       "</table>\n",
       "<p>5 rows × 23 columns</p>\n",
       "</div>"
      ],
      "text/plain": [
       "    Item_Weight  Item_Visibility  Item_MRP  Item_Fat_Content  Outlet_Size  \\\n",
       "0  1.897460e+00        -1.134077 -0.536555                 0            1   \n",
       "1 -1.035530e+00        -0.531850 -0.868937                 1            1   \n",
       "2  4.486336e-01         0.661316  1.629848                 0            1   \n",
       "3 -1.267578e+00        -0.981416  0.226697                 0            1   \n",
       "4 -5.230960e-14         1.032540  1.508110                 1            1   \n",
       "\n",
       "   Outlet_Location_Type  Outlet_Type  Age  Baking Goods  Breads  ...  \\\n",
       "0                     0            1   22             0       0  ...   \n",
       "1                     1            1   14             0       0  ...   \n",
       "2                     2            0   23             0       0  ...   \n",
       "3                     1            1   14             0       0  ...   \n",
       "4                     2            3   36             0       0  ...   \n",
       "\n",
       "   Frozen Foods  Fruits and Vegetables  Hard Drinks  Health and Hygiene  \\\n",
       "0             0                      0            0                   0   \n",
       "1             0                      0            0                   0   \n",
       "2             0                      0            0                   0   \n",
       "3             0                      0            0                   0   \n",
       "4             0                      0            0                   0   \n",
       "\n",
       "   Household  Meat  Others  Seafood  Snack Foods  Soft Drinks  \n",
       "0          0     0       0        0            1            0  \n",
       "1          0     0       0        0            0            0  \n",
       "2          0     0       1        0            0            0  \n",
       "3          0     0       0        0            1            0  \n",
       "4          0     0       0        0            0            0  \n",
       "\n",
       "[5 rows x 23 columns]"
      ]
     },
     "execution_count": 94,
     "metadata": {},
     "output_type": "execute_result"
    }
   ],
   "source": [
    "test2 = pd.concat([test2, test[cat_features]], axis=1)\n",
    "test2.head()"
   ]
  },
  {
   "cell_type": "code",
   "execution_count": 95,
   "id": "d316e1e5",
   "metadata": {
    "ExecuteTime": {
     "end_time": "2022-01-05T02:37:16.607475Z",
     "start_time": "2022-01-05T02:37:16.593481Z"
    },
    "execution": {
     "iopub.execute_input": "2022-01-21T16:33:09.729345Z",
     "iopub.status.busy": "2022-01-21T16:33:09.728855Z",
     "iopub.status.idle": "2022-01-21T16:33:09.733036Z",
     "shell.execute_reply": "2022-01-21T16:33:09.733487Z"
    },
    "papermill": {
     "duration": 0.143108,
     "end_time": "2022-01-21T16:33:09.733623",
     "exception": false,
     "start_time": "2022-01-21T16:33:09.590515",
     "status": "completed"
    },
    "tags": []
   },
   "outputs": [
    {
     "data": {
      "text/plain": [
       "(8523, 24)"
      ]
     },
     "execution_count": 95,
     "metadata": {},
     "output_type": "execute_result"
    }
   ],
   "source": [
    "train.shape"
   ]
  },
  {
   "cell_type": "code",
   "execution_count": 96,
   "id": "813e7570",
   "metadata": {
    "ExecuteTime": {
     "end_time": "2022-01-05T02:37:16.623399Z",
     "start_time": "2022-01-05T02:37:16.609438Z"
    },
    "execution": {
     "iopub.execute_input": "2022-01-21T16:33:10.083899Z",
     "iopub.status.busy": "2022-01-21T16:33:10.082996Z",
     "iopub.status.idle": "2022-01-21T16:33:10.088503Z",
     "shell.execute_reply": "2022-01-21T16:33:10.088932Z"
    },
    "papermill": {
     "duration": 0.21931,
     "end_time": "2022-01-21T16:33:10.089093",
     "exception": false,
     "start_time": "2022-01-21T16:33:09.869783",
     "status": "completed"
    },
    "tags": []
   },
   "outputs": [
    {
     "data": {
      "text/plain": [
       "(8523, 23)"
      ]
     },
     "execution_count": 96,
     "metadata": {},
     "output_type": "execute_result"
    }
   ],
   "source": [
    "X.shape"
   ]
  },
  {
   "cell_type": "code",
   "execution_count": 97,
   "id": "2748e491",
   "metadata": {
    "ExecuteTime": {
     "end_time": "2022-01-05T02:37:16.639356Z",
     "start_time": "2022-01-05T02:37:16.625395Z"
    },
    "execution": {
     "iopub.execute_input": "2022-01-21T16:33:10.372131Z",
     "iopub.status.busy": "2022-01-21T16:33:10.371640Z",
     "iopub.status.idle": "2022-01-21T16:33:10.377162Z",
     "shell.execute_reply": "2022-01-21T16:33:10.377567Z"
    },
    "papermill": {
     "duration": 0.14985,
     "end_time": "2022-01-21T16:33:10.377706",
     "exception": false,
     "start_time": "2022-01-21T16:33:10.227856",
     "status": "completed"
    },
    "tags": []
   },
   "outputs": [
    {
     "data": {
      "text/plain": [
       "(5681, 23)"
      ]
     },
     "execution_count": 97,
     "metadata": {},
     "output_type": "execute_result"
    }
   ],
   "source": [
    "test2.shape"
   ]
  },
  {
   "cell_type": "markdown",
   "id": "810f8525",
   "metadata": {
    "papermill": {
     "duration": 0.140829,
     "end_time": "2022-01-21T16:33:10.933455",
     "exception": false,
     "start_time": "2022-01-21T16:33:10.792626",
     "status": "completed"
    },
    "tags": []
   },
   "source": [
    "<a id='9'></a>\n",
    "# Spliting the data into Training and Testing data"
   ]
  },
  {
   "cell_type": "code",
   "execution_count": 98,
   "id": "07441ba0",
   "metadata": {
    "ExecuteTime": {
     "end_time": "2022-01-05T02:37:16.655314Z",
     "start_time": "2022-01-05T02:37:16.641354Z"
    },
    "execution": {
     "iopub.execute_input": "2022-01-21T16:33:11.219974Z",
     "iopub.status.busy": "2022-01-21T16:33:11.218817Z",
     "iopub.status.idle": "2022-01-21T16:33:11.224901Z",
     "shell.execute_reply": "2022-01-21T16:33:11.225285Z"
    },
    "papermill": {
     "duration": 0.152074,
     "end_time": "2022-01-21T16:33:11.225440",
     "exception": false,
     "start_time": "2022-01-21T16:33:11.073366",
     "status": "completed"
    },
    "tags": []
   },
   "outputs": [],
   "source": [
    "X_train, X_test, y_train, y_test = train_test_split(X,y, test_size=0.25, random_state = 0)"
   ]
  },
  {
   "cell_type": "markdown",
   "id": "899349b3",
   "metadata": {
    "papermill": {
     "duration": 0.135233,
     "end_time": "2022-01-21T16:33:11.777420",
     "exception": false,
     "start_time": "2022-01-21T16:33:11.642187",
     "status": "completed"
    },
    "tags": []
   },
   "source": [
    "<a id='10'></a>\n",
    "# Modeling"
   ]
  },
  {
   "cell_type": "code",
   "execution_count": 99,
   "id": "30c8b6ce",
   "metadata": {
    "ExecuteTime": {
     "end_time": "2022-01-05T03:55:12.364407Z",
     "start_time": "2022-01-05T03:55:12.344435Z"
    },
    "execution": {
     "iopub.execute_input": "2022-01-21T16:33:12.053636Z",
     "iopub.status.busy": "2022-01-21T16:33:12.053191Z",
     "iopub.status.idle": "2022-01-21T16:33:12.055600Z",
     "shell.execute_reply": "2022-01-21T16:33:12.055950Z"
    },
    "papermill": {
     "duration": 0.146121,
     "end_time": "2022-01-21T16:33:12.056068",
     "exception": false,
     "start_time": "2022-01-21T16:33:11.909947",
     "status": "completed"
    },
    "tags": []
   },
   "outputs": [],
   "source": [
    "def kfolds(model, model_name):\n",
    "    model = cross_val_score(model, X,y, cv=10)\n",
    "    model_score = np.average(model)\n",
    "    print(f\"{model_name} score on cross validation: {model_score * 100}%\")\n",
    "\n",
    "def train(model, model_name):\n",
    "    model.fit(X_train, y_train)\n",
    "    model_train_score = model.score(X_train, y_train)\n",
    "    model_test_score = model.score(X_test, y_test)\n",
    "    print(f\"{model_name} model score on Training data: {model_train_score * 100}%\\n{model_name} model score on Testing data: {model_test_score * 100}%\")\n",
    "\n",
    "def r2(model, model_name):\n",
    "    score = r2_score(y_test, model.predict(X_test))\n",
    "    print(f\"R2 Score for {model_name} is {score * 100}%\")"
   ]
  },
  {
   "cell_type": "markdown",
   "id": "b7410ce9",
   "metadata": {
    "papermill": {
     "duration": 0.138045,
     "end_time": "2022-01-21T16:33:12.333069",
     "exception": false,
     "start_time": "2022-01-21T16:33:12.195024",
     "status": "completed"
    },
    "tags": []
   },
   "source": [
    "<a id='10.1'></a>\n",
    "## Random Forest Regressor Model"
   ]
  },
  {
   "cell_type": "code",
   "execution_count": 100,
   "id": "fce38d1b",
   "metadata": {
    "ExecuteTime": {
     "end_time": "2022-01-05T02:39:13.515674Z",
     "start_time": "2022-01-05T02:38:31.269084Z"
    },
    "execution": {
     "iopub.execute_input": "2022-01-21T16:33:12.610374Z",
     "iopub.status.busy": "2022-01-21T16:33:12.609819Z",
     "iopub.status.idle": "2022-01-21T16:33:56.117314Z",
     "shell.execute_reply": "2022-01-21T16:33:56.117871Z"
    },
    "papermill": {
     "duration": 43.647946,
     "end_time": "2022-01-21T16:33:56.118040",
     "exception": false,
     "start_time": "2022-01-21T16:33:12.470094",
     "status": "completed"
    },
    "tags": []
   },
   "outputs": [
    {
     "name": "stdout",
     "output_type": "stream",
     "text": [
      "Random Forest score on cross validation: 55.08829304997788%\n",
      "Random Forest model score on Training data: 93.76656421743338%\n",
      "Random Forest model score on Testing data: 55.013394761315546%\n"
     ]
    }
   ],
   "source": [
    "rf_model = RandomForestRegressor()\n",
    "kfolds(rf_model, \"Random Forest\")\n",
    "train(rf_model, \"Random Forest\")"
   ]
  },
  {
   "cell_type": "code",
   "execution_count": 103,
   "id": "ee2c706b",
   "metadata": {
    "ExecuteTime": {
     "end_time": "2022-01-05T03:55:20.189626Z",
     "start_time": "2022-01-05T03:55:20.12774Z"
    },
    "execution": {
     "iopub.execute_input": "2022-01-21T16:33:56.543700Z",
     "iopub.status.busy": "2022-01-21T16:33:56.542847Z",
     "iopub.status.idle": "2022-01-21T16:33:56.612153Z",
     "shell.execute_reply": "2022-01-21T16:33:56.612544Z"
    },
    "papermill": {
     "duration": 0.287298,
     "end_time": "2022-01-21T16:33:56.612703",
     "exception": false,
     "start_time": "2022-01-21T16:33:56.325405",
     "status": "completed"
    },
    "tags": []
   },
   "outputs": [
    {
     "name": "stdout",
     "output_type": "stream",
     "text": [
      "R2 Score for Random Forest is 55.013394761315546%\n"
     ]
    }
   ],
   "source": [
    "r2(rf_model, \"Random Forest\")"
   ]
  },
  {
   "cell_type": "markdown",
   "id": "78054f48",
   "metadata": {
    "papermill": {
     "duration": 0.140958,
     "end_time": "2022-01-21T16:33:56.893808",
     "exception": false,
     "start_time": "2022-01-21T16:33:56.752850",
     "status": "completed"
    },
    "tags": []
   },
   "source": [
    "<a id='10.2'></a>\n",
    "## Gradient Boosting Regressor Model"
   ]
  },
  {
   "cell_type": "code",
   "execution_count": 104,
   "id": "9e12b98e",
   "metadata": {
    "ExecuteTime": {
     "end_time": "2022-01-05T02:40:28.608865Z",
     "start_time": "2022-01-05T02:40:18.113523Z"
    },
    "execution": {
     "iopub.execute_input": "2022-01-21T16:33:57.180031Z",
     "iopub.status.busy": "2022-01-21T16:33:57.179465Z",
     "iopub.status.idle": "2022-01-21T16:34:09.986104Z",
     "shell.execute_reply": "2022-01-21T16:34:09.986594Z"
    },
    "papermill": {
     "duration": 12.952911,
     "end_time": "2022-01-21T16:34:09.986942",
     "exception": false,
     "start_time": "2022-01-21T16:33:57.034031",
     "status": "completed"
    },
    "tags": []
   },
   "outputs": [
    {
     "name": "stdout",
     "output_type": "stream",
     "text": [
      "Gradient Boosting score on cross validation: 59.52743149686065%\n",
      "Gradient Boosting model score on Training data: 63.97546179843361%\n",
      "Gradient Boosting model score on Testing data: 59.193323550993114%\n"
     ]
    }
   ],
   "source": [
    "gbr = GradientBoostingRegressor()\n",
    "kfolds(gbr, \"Gradient Boosting\")\n",
    "train(gbr, \"Gradient Boosting\")"
   ]
  },
  {
   "cell_type": "code",
   "execution_count": 105,
   "id": "5f0c0cd0",
   "metadata": {
    "ExecuteTime": {
     "end_time": "2022-01-05T03:55:43.124169Z",
     "start_time": "2022-01-05T03:55:43.101231Z"
    },
    "execution": {
     "iopub.execute_input": "2022-01-21T16:34:10.286003Z",
     "iopub.status.busy": "2022-01-21T16:34:10.281182Z",
     "iopub.status.idle": "2022-01-21T16:34:10.295595Z",
     "shell.execute_reply": "2022-01-21T16:34:10.294670Z"
    },
    "papermill": {
     "duration": 0.162301,
     "end_time": "2022-01-21T16:34:10.295753",
     "exception": false,
     "start_time": "2022-01-21T16:34:10.133452",
     "status": "completed"
    },
    "tags": []
   },
   "outputs": [
    {
     "name": "stdout",
     "output_type": "stream",
     "text": [
      "R2 Score for Gradient Boosting is 59.193323550993114%\n"
     ]
    }
   ],
   "source": [
    "r2(gbr, \"Gradient Boosting\")"
   ]
  },
  {
   "cell_type": "markdown",
   "id": "efeb2fd2",
   "metadata": {
    "papermill": {
     "duration": 0.143042,
     "end_time": "2022-01-21T16:34:10.580696",
     "exception": false,
     "start_time": "2022-01-21T16:34:10.437654",
     "status": "completed"
    },
    "tags": []
   },
   "source": [
    "<a id='10.3'></a>\n",
    "## Bagging Regressor Model"
   ]
  },
  {
   "cell_type": "code",
   "execution_count": 106,
   "id": "1e9f680c",
   "metadata": {
    "ExecuteTime": {
     "end_time": "2022-01-05T02:40:44.231176Z",
     "start_time": "2022-01-05T02:40:39.693006Z"
    },
    "execution": {
     "iopub.execute_input": "2022-01-21T16:34:10.864867Z",
     "iopub.status.busy": "2022-01-21T16:34:10.864371Z",
     "iopub.status.idle": "2022-01-21T16:34:16.113009Z",
     "shell.execute_reply": "2022-01-21T16:34:16.112475Z"
    },
    "papermill": {
     "duration": 5.390339,
     "end_time": "2022-01-21T16:34:16.113149",
     "exception": false,
     "start_time": "2022-01-21T16:34:10.722810",
     "status": "completed"
    },
    "tags": []
   },
   "outputs": [
    {
     "name": "stdout",
     "output_type": "stream",
     "text": [
      "Bagging score on cross validation: 50.60406148672792%\n",
      "Bagging model score on Training data: 91.96543731200553%\n",
      "Bagging model score on Testing data: 52.33608146188556%\n"
     ]
    }
   ],
   "source": [
    "br = BaggingRegressor()\n",
    "kfolds(br, \"Bagging\")\n",
    "train(br, \"Bagging\")"
   ]
  },
  {
   "cell_type": "code",
   "execution_count": 107,
   "id": "ee033af8",
   "metadata": {
    "ExecuteTime": {
     "end_time": "2022-01-05T03:56:07.05005Z",
     "start_time": "2022-01-05T03:56:07.033055Z"
    },
    "execution": {
     "iopub.execute_input": "2022-01-21T16:34:16.413107Z",
     "iopub.status.busy": "2022-01-21T16:34:16.411858Z",
     "iopub.status.idle": "2022-01-21T16:34:16.423946Z",
     "shell.execute_reply": "2022-01-21T16:34:16.423394Z"
    },
    "papermill": {
     "duration": 0.164,
     "end_time": "2022-01-21T16:34:16.424060",
     "exception": false,
     "start_time": "2022-01-21T16:34:16.260060",
     "status": "completed"
    },
    "tags": []
   },
   "outputs": [
    {
     "name": "stdout",
     "output_type": "stream",
     "text": [
      "R2 Score for Bagging is 52.33608146188556%\n"
     ]
    }
   ],
   "source": [
    "r2(br, \"Bagging\")"
   ]
  },
  {
   "cell_type": "markdown",
   "id": "51ab9ea8",
   "metadata": {
    "papermill": {
     "duration": 0.146974,
     "end_time": "2022-01-21T16:34:16.713716",
     "exception": false,
     "start_time": "2022-01-21T16:34:16.566742",
     "status": "completed"
    },
    "tags": []
   },
   "source": [
    "<a id='10.4'></a>\n",
    "## Linear Regression model"
   ]
  },
  {
   "cell_type": "code",
   "execution_count": 108,
   "id": "27bfd958",
   "metadata": {
    "ExecuteTime": {
     "end_time": "2022-01-05T02:41:16.602927Z",
     "start_time": "2022-01-05T02:41:16.411598Z"
    },
    "execution": {
     "iopub.execute_input": "2022-01-21T16:34:17.007449Z",
     "iopub.status.busy": "2022-01-21T16:34:17.006903Z",
     "iopub.status.idle": "2022-01-21T16:34:17.164131Z",
     "shell.execute_reply": "2022-01-21T16:34:17.163251Z"
    },
    "papermill": {
     "duration": 0.307305,
     "end_time": "2022-01-21T16:34:17.164302",
     "exception": false,
     "start_time": "2022-01-21T16:34:16.856997",
     "status": "completed"
    },
    "tags": []
   },
   "outputs": [
    {
     "name": "stdout",
     "output_type": "stream",
     "text": [
      "Linear Regression score on cross validation: 50.31900826878359%\n",
      "Linear Regression model score on Training data: 50.89311130059562%\n",
      "Linear Regression model score on Testing data: 50.466335860479795%\n"
     ]
    }
   ],
   "source": [
    "lr = LinearRegression()\n",
    "kfolds(lr, \"Linear Regression\")\n",
    "train(lr, \"Linear Regression\")"
   ]
  },
  {
   "cell_type": "code",
   "execution_count": 109,
   "id": "bc5ee68f",
   "metadata": {
    "ExecuteTime": {
     "end_time": "2022-01-05T03:56:23.681821Z",
     "start_time": "2022-01-05T03:56:23.675841Z"
    },
    "execution": {
     "iopub.execute_input": "2022-01-21T16:34:17.491670Z",
     "iopub.status.busy": "2022-01-21T16:34:17.490779Z",
     "iopub.status.idle": "2022-01-21T16:34:17.496157Z",
     "shell.execute_reply": "2022-01-21T16:34:17.496842Z"
    },
    "papermill": {
     "duration": 0.154762,
     "end_time": "2022-01-21T16:34:17.497062",
     "exception": false,
     "start_time": "2022-01-21T16:34:17.342300",
     "status": "completed"
    },
    "tags": []
   },
   "outputs": [
    {
     "name": "stdout",
     "output_type": "stream",
     "text": [
      "R2 Score for Linear Regression is 50.466335860479795%\n"
     ]
    }
   ],
   "source": [
    "r2(lr, \"Linear Regression\")"
   ]
  },
  {
   "cell_type": "markdown",
   "id": "25874845",
   "metadata": {
    "papermill": {
     "duration": 0.217833,
     "end_time": "2022-01-21T16:34:17.953975",
     "exception": false,
     "start_time": "2022-01-21T16:34:17.736142",
     "status": "completed"
    },
    "tags": []
   },
   "source": [
    "<a id='10.5'></a>\n",
    "## SVR Model"
   ]
  },
  {
   "cell_type": "code",
   "execution_count": 110,
   "id": "c8117787",
   "metadata": {
    "ExecuteTime": {
     "end_time": "2022-01-05T03:47:45.25605Z",
     "start_time": "2022-01-05T03:45:46.475202Z"
    },
    "execution": {
     "iopub.execute_input": "2022-01-21T16:34:18.387059Z",
     "iopub.status.busy": "2022-01-21T16:34:18.386325Z",
     "iopub.status.idle": "2022-01-21T16:37:19.433330Z",
     "shell.execute_reply": "2022-01-21T16:37:19.432630Z"
    },
    "papermill": {
     "duration": 181.264328,
     "end_time": "2022-01-21T16:37:19.433521",
     "exception": false,
     "start_time": "2022-01-21T16:34:18.169193",
     "status": "completed"
    },
    "tags": []
   },
   "outputs": [
    {
     "name": "stdout",
     "output_type": "stream",
     "text": [
      "SVR score on cross validation: 51.941077899425046%\n",
      "SVR model score on Training data: 52.588872102068066%\n",
      "SVR model score on Testing data: 53.77641680432737%\n"
     ]
    }
   ],
   "source": [
    "svr = SVR(gamma='auto', kernel='poly', C=15)\n",
    "kfolds(svr, \"SVR\")\n",
    "train(svr, \"SVR\")"
   ]
  },
  {
   "cell_type": "code",
   "execution_count": 111,
   "id": "ac8bade1",
   "metadata": {
    "ExecuteTime": {
     "end_time": "2022-01-05T03:56:59.409684Z",
     "start_time": "2022-01-05T03:56:59.0322Z"
    },
    "execution": {
     "iopub.execute_input": "2022-01-21T16:37:19.868346Z",
     "iopub.status.busy": "2022-01-21T16:37:19.867407Z",
     "iopub.status.idle": "2022-01-21T16:37:20.646129Z",
     "shell.execute_reply": "2022-01-21T16:37:20.646789Z"
    },
    "papermill": {
     "duration": 0.997609,
     "end_time": "2022-01-21T16:37:20.646957",
     "exception": false,
     "start_time": "2022-01-21T16:37:19.649348",
     "status": "completed"
    },
    "tags": []
   },
   "outputs": [
    {
     "name": "stdout",
     "output_type": "stream",
     "text": [
      "R2 Score for SVM is 53.77641680432737%\n"
     ]
    }
   ],
   "source": [
    "r2(svr, \"SVM\")"
   ]
  },
  {
   "cell_type": "markdown",
   "id": "1b0f6f35",
   "metadata": {
    "papermill": {
     "duration": 0.21363,
     "end_time": "2022-01-21T16:37:21.073148",
     "exception": false,
     "start_time": "2022-01-21T16:37:20.859518",
     "status": "completed"
    },
    "tags": []
   },
   "source": [
    "<a id='10.6'></a>\n",
    "## Decision Tree Regressor Model"
   ]
  },
  {
   "cell_type": "code",
   "execution_count": 112,
   "id": "ab1d9e81",
   "metadata": {
    "ExecuteTime": {
     "end_time": "2022-01-05T03:51:31.751497Z",
     "start_time": "2022-01-05T03:51:31.182729Z"
    },
    "execution": {
     "iopub.execute_input": "2022-01-21T16:37:21.514353Z",
     "iopub.status.busy": "2022-01-21T16:37:21.513603Z",
     "iopub.status.idle": "2022-01-21T16:37:22.191824Z",
     "shell.execute_reply": "2022-01-21T16:37:22.192342Z"
    },
    "papermill": {
     "duration": 0.90534,
     "end_time": "2022-01-21T16:37:22.192508",
     "exception": false,
     "start_time": "2022-01-21T16:37:21.287168",
     "status": "completed"
    },
    "scrolled": true,
    "tags": []
   },
   "outputs": [
    {
     "name": "stdout",
     "output_type": "stream",
     "text": [
      "Decision Tree score on cross validation: 19.152696889571097%\n",
      "Decision Tree model score on Training data: 100.0%\n",
      "Decision Tree model score on Testing data: 21.829404837575915%\n"
     ]
    }
   ],
   "source": [
    "dtr = DecisionTreeRegressor()\n",
    "kfolds(dtr, \"Decision Tree\")\n",
    "train(dtr, \"Decision Tree\")"
   ]
  },
  {
   "cell_type": "code",
   "execution_count": 113,
   "id": "6ca012ec",
   "metadata": {
    "ExecuteTime": {
     "end_time": "2022-01-05T03:56:40.141524Z",
     "start_time": "2022-01-05T03:56:40.126553Z"
    },
    "execution": {
     "iopub.execute_input": "2022-01-21T16:37:22.638640Z",
     "iopub.status.busy": "2022-01-21T16:37:22.637959Z",
     "iopub.status.idle": "2022-01-21T16:37:22.646423Z",
     "shell.execute_reply": "2022-01-21T16:37:22.647474Z"
    },
    "papermill": {
     "duration": 0.234026,
     "end_time": "2022-01-21T16:37:22.647852",
     "exception": false,
     "start_time": "2022-01-21T16:37:22.413826",
     "status": "completed"
    },
    "tags": []
   },
   "outputs": [
    {
     "name": "stdout",
     "output_type": "stream",
     "text": [
      "R2 Score for Decision Tree is 21.829404837575915%\n"
     ]
    }
   ],
   "source": [
    "r2(dtr, \"Decision Tree\")"
   ]
  },
  {
   "cell_type": "markdown",
   "id": "7d6a17e0",
   "metadata": {
    "papermill": {
     "duration": 0.220339,
     "end_time": "2022-01-21T16:37:23.088587",
     "exception": false,
     "start_time": "2022-01-21T16:37:22.868248",
     "status": "completed"
    },
    "tags": []
   },
   "source": [
    "<a id=\"10.7\"></a>\n",
    "## XGBoost Regressor"
   ]
  },
  {
   "cell_type": "code",
   "execution_count": 114,
   "id": "6ead7a26",
   "metadata": {
    "ExecuteTime": {
     "end_time": "2022-01-05T04:02:59.809502Z",
     "start_time": "2022-01-05T04:02:52.052839Z"
    },
    "execution": {
     "iopub.execute_input": "2022-01-21T16:37:23.532406Z",
     "iopub.status.busy": "2022-01-21T16:37:23.531701Z",
     "iopub.status.idle": "2022-01-21T16:37:32.473177Z",
     "shell.execute_reply": "2022-01-21T16:37:32.474103Z"
    },
    "papermill": {
     "duration": 9.164819,
     "end_time": "2022-01-21T16:37:32.474286",
     "exception": false,
     "start_time": "2022-01-21T16:37:23.309467",
     "status": "completed"
    },
    "tags": []
   },
   "outputs": [
    {
     "name": "stdout",
     "output_type": "stream",
     "text": [
      "XGBoost score on cross validation: 52.658340894397895%\n",
      "XGBoost model score on Training data: 86.5294934368668%\n",
      "XGBoost model score on Testing data: 52.755246079230346%\n"
     ]
    }
   ],
   "source": [
    "xgboost = XGBRegressor()\n",
    "kfolds(xgboost, \"XGBoost\")\n",
    "train(xgboost, \"XGBoost\")"
   ]
  },
  {
   "cell_type": "code",
   "execution_count": 126,
   "id": "afb08c74",
   "metadata": {},
   "outputs": [
    {
     "data": {
      "text/plain": [
       "GradientBoostingRegressor()"
      ]
     },
     "execution_count": 126,
     "metadata": {},
     "output_type": "execute_result"
    }
   ],
   "source": [
    "gbr.fit(X,y)"
   ]
  },
  {
   "cell_type": "code",
   "execution_count": 127,
   "id": "8cf3b5a6",
   "metadata": {},
   "outputs": [
    {
     "data": {
      "text/plain": [
       "0.6285119393468706"
      ]
     },
     "execution_count": 127,
     "metadata": {},
     "output_type": "execute_result"
    }
   ],
   "source": [
    "gbr.score(X,y)"
   ]
  },
  {
   "cell_type": "code",
   "execution_count": null,
   "id": "46b819aa",
   "metadata": {},
   "outputs": [],
   "source": []
  }
 ],
 "metadata": {
  "kernelspec": {
   "display_name": "Python 3 (ipykernel)",
   "language": "python",
   "name": "python3"
  },
  "language_info": {
   "codemirror_mode": {
    "name": "ipython",
    "version": 3
   },
   "file_extension": ".py",
   "mimetype": "text/x-python",
   "name": "python",
   "nbconvert_exporter": "python",
   "pygments_lexer": "ipython3",
   "version": "3.9.12"
  },
  "papermill": {
   "default_parameters": {},
   "duration": 404.604697,
   "end_time": "2022-01-21T16:37:39.979848",
   "environment_variables": {},
   "exception": null,
   "input_path": "__notebook__.ipynb",
   "output_path": "__notebook__.ipynb",
   "parameters": {},
   "start_time": "2022-01-21T16:30:55.375151",
   "version": "2.3.3"
  }
 },
 "nbformat": 4,
 "nbformat_minor": 5
}
