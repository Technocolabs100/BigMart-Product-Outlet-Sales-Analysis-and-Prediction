{
  "nbformat": 4,
  "nbformat_minor": 0,
  "metadata": {
    "colab": {
      "provenance": []
    },
    "kernelspec": {
      "name": "python3",
      "display_name": "Python 3"
    },
    "language_info": {
      "name": "python"
    }
  },
  "cells": [
    {
      "cell_type": "code",
      "execution_count": null,
      "metadata": {
        "id": "990YcOU1Kl44"
      },
      "outputs": [],
      "source": []
    },
    {
      "cell_type": "code",
      "source": [
        "import pandas as pd\n",
        "import numpy as np\n",
        "\n",
        "train = pd.read_csv('Train.csv')\n",
        "test = pd.read_csv('Test.csv')\n"
      ],
      "metadata": {
        "id": "OPVJKwxmKo8j"
      },
      "execution_count": null,
      "outputs": []
    },
    {
      "cell_type": "code",
      "source": [
        "# check for missing values in train dataset\n",
        "train.isnull().sum()\n",
        "\n",
        "# check for missing values in test dataset\n",
        "test.isnull().sum()\n",
        "\n",
        "# impute missing values in 'Item_Weight' column with mean value\n",
        "train['Item_Weight'].fillna(train['Item_Weight'].mean(), inplace=True)\n",
        "test['Item_Weight'].fillna(test['Item_Weight'].mean(), inplace=True)\n",
        "\n",
        "# impute missing values in 'Outlet_Size' column with mode value\n",
        "train['Outlet_Size'].fillna(train['Outlet_Size'].mode()[0], inplace=True)\n",
        "test['Outlet_Size'].fillna(test['Outlet_Size'].mode()[0], inplace=True)\n"
      ],
      "metadata": {
        "id": "TnhvN0sVKo_M"
      },
      "execution_count": null,
      "outputs": []
    },
    {
      "cell_type": "code",
      "source": [
        "# create a new feature 'Item_Fat_Content_Simplified' based on 'Item_Fat_Content'\n",
        "train['Item_Fat_Content_Simplified'] = train['Item_Fat_Content'].replace({'LF': 'Low Fat',\n",
        "                                                                           'low fat': 'Low Fat',\n",
        "                                                                           'reg': 'Regular'})\n",
        "test['Item_Fat_Content_Simplified'] = test['Item_Fat_Content'].replace({'LF': 'Low Fat',\n",
        "                                                                         'low fat': 'Low Fat',\n",
        "                                                                         'reg': 'Regular'})\n",
        "\n",
        "# create a new feature 'Outlet_Years' based on 'Outlet_Establishment_Year'\n",
        "train['Outlet_Years'] = 2013 - train['Outlet_Establishment_Year']\n",
        "test['Outlet_Years'] = 2013 - test['Outlet_Establishment_Year']\n"
      ],
      "metadata": {
        "id": "ncEpPRDALUg9"
      },
      "execution_count": null,
      "outputs": []
    },
    {
      "cell_type": "code",
      "source": [
        "from sklearn.linear_model import LinearRegression\n",
        "\n",
        "# select relevant features for modeling\n",
        "X_train = train[['Item_Weight', 'Item_Fat_Content_Simplified', 'Item_Visibility', 'Item_Type', 'Item_MRP',\n",
        "                 'Outlet_Establishment_Year', 'Outlet_Size', 'Outlet_Location_Type', 'Outlet_Type', 'Outlet_Years']]\n",
        "y_train = train['Item_Outlet_Sales']\n",
        "\n",
        "X_test = test[['Item_Weight', 'Item_Fat_Content_Simplified', 'Item_Visibility', 'Item_Type', 'Item_MRP',\n",
        "               'Outlet_Establishment_Year', 'Outlet_Size', 'Outlet_Location_Type', 'Outlet_Type', 'Outlet_Years']]\n",
        "\n",
        "# one-hot encode categorical variables\n",
        "X_train = pd.get_dummies(X_train)\n",
        "X_test = pd.get_dummies(X_test)\n",
        "\n",
        "# train linear regression model\n",
        "lr = LinearRegression()\n",
        "lr.fit(X_train, y_train)\n",
        "\n",
        "# make predictions on test dataset\n",
        "predictions = lr.predict(X_test)\n"
      ],
      "metadata": {
        "id": "cRzjId-BLUjk"
      },
      "execution_count": null,
      "outputs": []
    },
    {
      "cell_type": "code",
      "source": [
        "print(predictions)"
      ],
      "metadata": {
        "colab": {
          "base_uri": "https://localhost:8080/"
        },
        "id": "5b53R_itLUmU",
        "outputId": "c18c1669-8257-4a26-f00b-e73c9860019b"
      },
      "execution_count": null,
      "outputs": [
        {
          "output_type": "stream",
          "name": "stdout",
          "text": [
            "[1790.625  1568.125  1880.1875 ... 1832.1875 3624.875  1294.8125]\n"
          ]
        }
      ]
    },
    {
      "cell_type": "markdown",
      "source": [
        "# **Another more things code**"
      ],
      "metadata": {
        "id": "zd3MfvHOLwGF"
      }
    },
    {
      "cell_type": "code",
      "source": [
        "import pandas as pd\n",
        "import numpy as np\n",
        "from sklearn.preprocessing import StandardScaler, RobustScaler\n",
        "from sklearn.model_selection import GridSearchCV\n",
        "from xgboost import XGBRegressor\n",
        "from sklearn.ensemble import GradientBoostingRegressor\n",
        "from sklearn.linear_model import LinearRegression\n",
        "\n",
        "# load dataset\n",
        "train = pd.read_csv('Train.csv')\n",
        "test = pd.read_csv('Test.csv')\n",
        "\n",
        "# impute missing values\n",
        "train['Item_Weight'].fillna(train['Item_Weight'].mean(), inplace=True)\n",
        "train['Outlet_Size'].fillna(train['Outlet_Size'].mode()[0], inplace=True)\n",
        "test['Item_Weight'].fillna(test['Item_Weight'].mean(), inplace=True)\n",
        "test['Outlet_Size'].fillna(test['Outlet_Size'].mode()[0], inplace=True)\n",
        "\n",
        "# feature engineering\n",
        "train['Item_Fat_Content_Simplified'] = train['Item_Fat_Content'].replace({'LF': 'Low Fat',\n",
        "                                                                           'low fat': 'Low Fat',\n",
        "                                                                           'reg': 'Regular'})\n",
        "test['Item_Fat_Content_Simplified'] = test['Item_Fat_Content'].replace({'LF': 'Low Fat',\n",
        "                                                                         'low fat': 'Low Fat',\n",
        "                                                                         'reg': 'Regular'})\n",
        "\n",
        "train['Outlet_Years'] = 2013 - train['Outlet_Establishment_Year']\n",
        "test['Outlet_Years'] = 2013 - test['Outlet_Establishment_Year']\n",
        "\n",
        "# select relevant features for modeling\n",
        "X_train = train[['Item_Weight', 'Item_Fat_Content_Simplified', 'Item_Visibility', 'Item_Type', 'Item_MRP',\n",
        "                 'Outlet_Establishment_Year', 'Outlet_Size', 'Outlet_Location_Type', 'Outlet_Type', 'Outlet_Years']]\n",
        "y_train = train['Item_Outlet_Sales']\n",
        "\n",
        "X_test = test[['Item_Weight', 'Item_Fat_Content_Simplified', 'Item_Visibility', 'Item_Type', 'Item_MRP',\n",
        "               'Outlet_Establishment_Year', 'Outlet_Size', 'Outlet_Location_Type', 'Outlet_Type', 'Outlet_Years']]\n",
        "\n",
        "# one-hot encode categorical variables\n",
        "X_train = pd.get_dummies(X_train)\n",
        "X_test = pd.get_dummies(X_test)\n",
        "\n",
        "# split train dataset into train and validation sets\n",
        "from sklearn.model_selection import train_test_split\n",
        "X_train, X_valid, y_train, y_valid = train_test_split(X_train, y_train, test_size=0.2, random_state=42)\n",
        "\n",
        "# standard scaling\n",
        "scaler = StandardScaler()\n",
        "X_train_std = scaler.fit_transform(X_train)\n",
        "X_valid_std = scaler.transform(X_valid)\n",
        "X_test_std = scaler.transform(X_test)\n",
        "\n",
        "# robust scaling\n",
        "scaler = RobustScaler()\n",
        "X_train_rob = scaler.fit_transform(X_train)\n",
        "X_valid_rob = scaler.transform(X_valid)\n",
        "X_test_rob = scaler.transform(X_test)\n",
        "\n",
        "# Hyperparameter Tuning for XGBRegressor\n",
        "xgb = XGBRegressor()\n",
        "param_grid = {'n_estimators': [50, 100, 200],\n",
        "              'learning_rate': [0.01, 0.05, 0.1],\n",
        "              'max_depth': [3, 5, 7],\n",
        "              'subsample': [0.5, 0.7, 1],\n",
        "              'colsample_bytree': [0.5, 0.7, 1]}\n",
        "grid_xgb_std = GridSearchCV(xgb, param_grid, cv=5)\n",
        "grid_xgb_std.fit(X_train_std, y_train)\n",
        "\n",
        "# train final XGBRegressor model with best hyperparameters\n",
        "xgb_std = XGBRegressor(**grid_xgb_std.best_params_)\n",
        "xgb_std.fit(X_train_std, y_train)\n",
        "\n"
      ],
      "metadata": {
        "colab": {
          "base_uri": "https://localhost:8080/",
          "height": 248
        },
        "id": "GPfhQAE_LUos",
        "outputId": "a46cfd3b-462a-43fa-fb08-b2c2d96c6a34"
      },
      "execution_count": null,
      "outputs": [
        {
          "output_type": "execute_result",
          "data": {
            "text/plain": [
              "XGBRegressor(base_score=None, booster=None, callbacks=None,\n",
              "             colsample_bylevel=None, colsample_bynode=None, colsample_bytree=1,\n",
              "             early_stopping_rounds=None, enable_categorical=False,\n",
              "             eval_metric=None, feature_types=None, gamma=None, gpu_id=None,\n",
              "             grow_policy=None, importance_type=None,\n",
              "             interaction_constraints=None, learning_rate=0.05, max_bin=None,\n",
              "             max_cat_threshold=None, max_cat_to_onehot=None,\n",
              "             max_delta_step=None, max_depth=3, max_leaves=None,\n",
              "             min_child_weight=None, missing=nan, monotone_constraints=None,\n",
              "             n_estimators=100, n_jobs=None, num_parallel_tree=None,\n",
              "             predictor=None, random_state=None, ...)"
            ],
            "text/html": [
              "<style>#sk-container-id-1 {color: black;background-color: white;}#sk-container-id-1 pre{padding: 0;}#sk-container-id-1 div.sk-toggleable {background-color: white;}#sk-container-id-1 label.sk-toggleable__label {cursor: pointer;display: block;width: 100%;margin-bottom: 0;padding: 0.3em;box-sizing: border-box;text-align: center;}#sk-container-id-1 label.sk-toggleable__label-arrow:before {content: \"▸\";float: left;margin-right: 0.25em;color: #696969;}#sk-container-id-1 label.sk-toggleable__label-arrow:hover:before {color: black;}#sk-container-id-1 div.sk-estimator:hover label.sk-toggleable__label-arrow:before {color: black;}#sk-container-id-1 div.sk-toggleable__content {max-height: 0;max-width: 0;overflow: hidden;text-align: left;background-color: #f0f8ff;}#sk-container-id-1 div.sk-toggleable__content pre {margin: 0.2em;color: black;border-radius: 0.25em;background-color: #f0f8ff;}#sk-container-id-1 input.sk-toggleable__control:checked~div.sk-toggleable__content {max-height: 200px;max-width: 100%;overflow: auto;}#sk-container-id-1 input.sk-toggleable__control:checked~label.sk-toggleable__label-arrow:before {content: \"▾\";}#sk-container-id-1 div.sk-estimator input.sk-toggleable__control:checked~label.sk-toggleable__label {background-color: #d4ebff;}#sk-container-id-1 div.sk-label input.sk-toggleable__control:checked~label.sk-toggleable__label {background-color: #d4ebff;}#sk-container-id-1 input.sk-hidden--visually {border: 0;clip: rect(1px 1px 1px 1px);clip: rect(1px, 1px, 1px, 1px);height: 1px;margin: -1px;overflow: hidden;padding: 0;position: absolute;width: 1px;}#sk-container-id-1 div.sk-estimator {font-family: monospace;background-color: #f0f8ff;border: 1px dotted black;border-radius: 0.25em;box-sizing: border-box;margin-bottom: 0.5em;}#sk-container-id-1 div.sk-estimator:hover {background-color: #d4ebff;}#sk-container-id-1 div.sk-parallel-item::after {content: \"\";width: 100%;border-bottom: 1px solid gray;flex-grow: 1;}#sk-container-id-1 div.sk-label:hover label.sk-toggleable__label {background-color: #d4ebff;}#sk-container-id-1 div.sk-serial::before {content: \"\";position: absolute;border-left: 1px solid gray;box-sizing: border-box;top: 0;bottom: 0;left: 50%;z-index: 0;}#sk-container-id-1 div.sk-serial {display: flex;flex-direction: column;align-items: center;background-color: white;padding-right: 0.2em;padding-left: 0.2em;position: relative;}#sk-container-id-1 div.sk-item {position: relative;z-index: 1;}#sk-container-id-1 div.sk-parallel {display: flex;align-items: stretch;justify-content: center;background-color: white;position: relative;}#sk-container-id-1 div.sk-item::before, #sk-container-id-1 div.sk-parallel-item::before {content: \"\";position: absolute;border-left: 1px solid gray;box-sizing: border-box;top: 0;bottom: 0;left: 50%;z-index: -1;}#sk-container-id-1 div.sk-parallel-item {display: flex;flex-direction: column;z-index: 1;position: relative;background-color: white;}#sk-container-id-1 div.sk-parallel-item:first-child::after {align-self: flex-end;width: 50%;}#sk-container-id-1 div.sk-parallel-item:last-child::after {align-self: flex-start;width: 50%;}#sk-container-id-1 div.sk-parallel-item:only-child::after {width: 0;}#sk-container-id-1 div.sk-dashed-wrapped {border: 1px dashed gray;margin: 0 0.4em 0.5em 0.4em;box-sizing: border-box;padding-bottom: 0.4em;background-color: white;}#sk-container-id-1 div.sk-label label {font-family: monospace;font-weight: bold;display: inline-block;line-height: 1.2em;}#sk-container-id-1 div.sk-label-container {text-align: center;}#sk-container-id-1 div.sk-container {/* jupyter's `normalize.less` sets `[hidden] { display: none; }` but bootstrap.min.css set `[hidden] { display: none !important; }` so we also need the `!important` here to be able to override the default hidden behavior on the sphinx rendered scikit-learn.org. See: https://github.com/scikit-learn/scikit-learn/issues/21755 */display: inline-block !important;position: relative;}#sk-container-id-1 div.sk-text-repr-fallback {display: none;}</style><div id=\"sk-container-id-1\" class=\"sk-top-container\"><div class=\"sk-text-repr-fallback\"><pre>XGBRegressor(base_score=None, booster=None, callbacks=None,\n",
              "             colsample_bylevel=None, colsample_bynode=None, colsample_bytree=1,\n",
              "             early_stopping_rounds=None, enable_categorical=False,\n",
              "             eval_metric=None, feature_types=None, gamma=None, gpu_id=None,\n",
              "             grow_policy=None, importance_type=None,\n",
              "             interaction_constraints=None, learning_rate=0.05, max_bin=None,\n",
              "             max_cat_threshold=None, max_cat_to_onehot=None,\n",
              "             max_delta_step=None, max_depth=3, max_leaves=None,\n",
              "             min_child_weight=None, missing=nan, monotone_constraints=None,\n",
              "             n_estimators=100, n_jobs=None, num_parallel_tree=None,\n",
              "             predictor=None, random_state=None, ...)</pre><b>In a Jupyter environment, please rerun this cell to show the HTML representation or trust the notebook. <br />On GitHub, the HTML representation is unable to render, please try loading this page with nbviewer.org.</b></div><div class=\"sk-container\" hidden><div class=\"sk-item\"><div class=\"sk-estimator sk-toggleable\"><input class=\"sk-toggleable__control sk-hidden--visually\" id=\"sk-estimator-id-1\" type=\"checkbox\" checked><label for=\"sk-estimator-id-1\" class=\"sk-toggleable__label sk-toggleable__label-arrow\">XGBRegressor</label><div class=\"sk-toggleable__content\"><pre>XGBRegressor(base_score=None, booster=None, callbacks=None,\n",
              "             colsample_bylevel=None, colsample_bynode=None, colsample_bytree=1,\n",
              "             early_stopping_rounds=None, enable_categorical=False,\n",
              "             eval_metric=None, feature_types=None, gamma=None, gpu_id=None,\n",
              "             grow_policy=None, importance_type=None,\n",
              "             interaction_constraints=None, learning_rate=0.05, max_bin=None,\n",
              "             max_cat_threshold=None, max_cat_to_onehot=None,\n",
              "             max_delta_step=None, max_depth=3, max_leaves=None,\n",
              "             min_child_weight=None, missing=nan, monotone_constraints=None,\n",
              "             n_estimators=100, n_jobs=None, num_parallel_tree=None,\n",
              "             predictor=None, random_state=None, ...)</pre></div></div></div></div></div>"
            ]
          },
          "metadata": {},
          "execution_count": 8
        }
      ]
    },
    {
      "cell_type": "code",
      "source": [
        "predictions = xgb_std.predict(X_test_std)\n",
        "print(predictions)"
      ],
      "metadata": {
        "colab": {
          "base_uri": "https://localhost:8080/"
        },
        "id": "urOgfHyhLUrG",
        "outputId": "670d108f-2cc6-424a-efde-5346fc589833"
      },
      "execution_count": null,
      "outputs": [
        {
          "output_type": "stream",
          "name": "stdout",
          "text": [
            "[1603.1549 1371.7262  619.9247 ... 1903.0029 3426.599  1285.6807]\n"
          ]
        }
      ]
    },
    {
      "cell_type": "code",
      "source": [],
      "metadata": {
        "id": "bNBAwws2LUtt"
      },
      "execution_count": null,
      "outputs": []
    }
  ]
}